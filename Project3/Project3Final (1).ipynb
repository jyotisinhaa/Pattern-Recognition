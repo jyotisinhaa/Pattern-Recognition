{
  "nbformat": 4,
  "nbformat_minor": 0,
  "metadata": {
    "colab": {
      "name": "Project3Final.ipynb",
      "provenance": [],
      "collapsed_sections": []
    },
    "kernelspec": {
      "name": "python3",
      "display_name": "Python 3"
    },
    "accelerator": "GPU"
  },
  "cells": [
    {
      "cell_type": "markdown",
      "metadata": {
        "id": "hd5Drxdh9sDm",
        "colab_type": "text"
      },
      "source": [
        "<h1><strong>CSE 555 - Introduction to Pattern Recognition</strong></h1>\n",
        "\n",
        "<h3><strong>Programming Assignment 3 - Exact Inference with Probabilistic Graphical Models</strong><h3>\n",
        "\n",
        "<h4><strong> JYOTI SINHA</strong></h4>\n"
      ]
    },
    {
      "cell_type": "markdown",
      "metadata": {
        "id": "wReQ6M9--67f",
        "colab_type": "text"
      },
      "source": [
        "<h5><strong>Problem 1</strong><h4>"
      ]
    },
    {
      "cell_type": "code",
      "metadata": {
        "id": "RjBXxknphrdj",
        "colab_type": "code",
        "colab": {
          "base_uri": "https://localhost:8080/",
          "height": 377
        },
        "outputId": "799d253f-4a3e-4836-c1a4-4db6b6893044"
      },
      "source": [
        "#Importing the libraries\n",
        "!pip install pgmpy\n",
        "from pgmpy.factors.discrete import TabularCPD\n",
        "from pgmpy.models import BayesianModel\n",
        "import networkx \n",
        "from matplotlib import pyplot as plt\n",
        "import pydot\n",
        "from pgmpy.inference import VariableElimination"
      ],
      "execution_count": 2,
      "outputs": [
        {
          "output_type": "stream",
          "text": [
            "Collecting pgmpy\n",
            "\u001b[?25l  Downloading https://files.pythonhosted.org/packages/24/34/35f192f1c17a10ece55cddfd33cbe20b0e6187d115b72e33fbe7f286f092/pgmpy-0.1.11-py3-none-any.whl (314kB)\n",
            "\r\u001b[K     |█                               | 10kB 11.4MB/s eta 0:00:01\r\u001b[K     |██                              | 20kB 1.7MB/s eta 0:00:01\r\u001b[K     |███▏                            | 30kB 2.2MB/s eta 0:00:01\r\u001b[K     |████▏                           | 40kB 2.5MB/s eta 0:00:01\r\u001b[K     |█████▏                          | 51kB 2.0MB/s eta 0:00:01\r\u001b[K     |██████▎                         | 61kB 2.2MB/s eta 0:00:01\r\u001b[K     |███████▎                        | 71kB 2.5MB/s eta 0:00:01\r\u001b[K     |████████▎                       | 81kB 2.7MB/s eta 0:00:01\r\u001b[K     |█████████▍                      | 92kB 2.9MB/s eta 0:00:01\r\u001b[K     |██████████▍                     | 102kB 2.7MB/s eta 0:00:01\r\u001b[K     |███████████▌                    | 112kB 2.7MB/s eta 0:00:01\r\u001b[K     |████████████▌                   | 122kB 2.7MB/s eta 0:00:01\r\u001b[K     |█████████████▌                  | 133kB 2.7MB/s eta 0:00:01\r\u001b[K     |██████████████▋                 | 143kB 2.7MB/s eta 0:00:01\r\u001b[K     |███████████████▋                | 153kB 2.7MB/s eta 0:00:01\r\u001b[K     |████████████████▋               | 163kB 2.7MB/s eta 0:00:01\r\u001b[K     |█████████████████▊              | 174kB 2.7MB/s eta 0:00:01\r\u001b[K     |██████████████████▊             | 184kB 2.7MB/s eta 0:00:01\r\u001b[K     |███████████████████▉            | 194kB 2.7MB/s eta 0:00:01\r\u001b[K     |████████████████████▉           | 204kB 2.7MB/s eta 0:00:01\r\u001b[K     |█████████████████████▉          | 215kB 2.7MB/s eta 0:00:01\r\u001b[K     |███████████████████████         | 225kB 2.7MB/s eta 0:00:01\r\u001b[K     |████████████████████████        | 235kB 2.7MB/s eta 0:00:01\r\u001b[K     |█████████████████████████       | 245kB 2.7MB/s eta 0:00:01\r\u001b[K     |██████████████████████████      | 256kB 2.7MB/s eta 0:00:01\r\u001b[K     |███████████████████████████     | 266kB 2.7MB/s eta 0:00:01\r\u001b[K     |████████████████████████████▏   | 276kB 2.7MB/s eta 0:00:01\r\u001b[K     |█████████████████████████████▏  | 286kB 2.7MB/s eta 0:00:01\r\u001b[K     |██████████████████████████████▏ | 296kB 2.7MB/s eta 0:00:01\r\u001b[K     |███████████████████████████████▎| 307kB 2.7MB/s eta 0:00:01\r\u001b[K     |████████████████████████████████| 317kB 2.7MB/s \n",
            "\u001b[?25hRequirement already satisfied: networkx in /usr/local/lib/python3.6/dist-packages (from pgmpy) (2.4)\n",
            "Requirement already satisfied: pyparsing in /usr/local/lib/python3.6/dist-packages (from pgmpy) (2.4.7)\n",
            "Requirement already satisfied: numpy in /usr/local/lib/python3.6/dist-packages (from pgmpy) (1.18.5)\n",
            "Requirement already satisfied: torch in /usr/local/lib/python3.6/dist-packages (from pgmpy) (1.6.0+cu101)\n",
            "Requirement already satisfied: statsmodels in /usr/local/lib/python3.6/dist-packages (from pgmpy) (0.10.2)\n",
            "Requirement already satisfied: joblib in /usr/local/lib/python3.6/dist-packages (from pgmpy) (0.16.0)\n",
            "Requirement already satisfied: scipy in /usr/local/lib/python3.6/dist-packages (from pgmpy) (1.4.1)\n",
            "Requirement already satisfied: tqdm in /usr/local/lib/python3.6/dist-packages (from pgmpy) (4.41.1)\n",
            "Requirement already satisfied: pandas in /usr/local/lib/python3.6/dist-packages (from pgmpy) (1.0.5)\n",
            "Requirement already satisfied: decorator>=4.3.0 in /usr/local/lib/python3.6/dist-packages (from networkx->pgmpy) (4.4.2)\n",
            "Requirement already satisfied: future in /usr/local/lib/python3.6/dist-packages (from torch->pgmpy) (0.16.0)\n",
            "Requirement already satisfied: patsy>=0.4.0 in /usr/local/lib/python3.6/dist-packages (from statsmodels->pgmpy) (0.5.1)\n",
            "Requirement already satisfied: pytz>=2017.2 in /usr/local/lib/python3.6/dist-packages (from pandas->pgmpy) (2018.9)\n",
            "Requirement already satisfied: python-dateutil>=2.6.1 in /usr/local/lib/python3.6/dist-packages (from pandas->pgmpy) (2.8.1)\n",
            "Requirement already satisfied: six in /usr/local/lib/python3.6/dist-packages (from patsy>=0.4.0->statsmodels->pgmpy) (1.15.0)\n",
            "Installing collected packages: pgmpy\n",
            "Successfully installed pgmpy-0.1.11\n"
          ],
          "name": "stdout"
        }
      ]
    },
    {
      "cell_type": "code",
      "metadata": {
        "id": "WXZZCf7Kkhz9",
        "colab_type": "code",
        "colab": {}
      },
      "source": [
        "# # #First set the structure\n",
        "chest_model = BayesianModel([('asia','tub'),('smoke','lung'),('smoke','bronc'),\n",
        "                       ('tub','either'),('lung','either'),('either','xray'),\n",
        "                       ('bronc','dysp'),('either','dysp')])\n",
        "cpd_asia = TabularCPD(variable='asia', variable_card=2,values=[[.01],[.99]])\n",
        "cpd_tub = TabularCPD(variable='tub',variable_card=2,values=[[.05,.01],[.95,.99]],evidence=['asia'],evidence_card=[2])\n",
        "cpd_smoke = TabularCPD(variable='smoke', variable_card=2, values=[[.5],[.5]])\n",
        "cpd_lung = TabularCPD(variable='lung', variable_card=2, values=[[.1,.01],[.9,.99]], evidence=['smoke'], evidence_card=[2])\n",
        "cpd_bronc = TabularCPD(variable='bronc', variable_card=2, values=[[.6,.3],[.4,.7]], evidence=['smoke'], evidence_card=[2])\n",
        "cpd_either = TabularCPD(variable='either', variable_card=2, values=[[1,1,1,0],[0,0,0,1]], evidence=['lung','tub'],  evidence_card=[2,2])\n",
        "cpd_xray = TabularCPD(variable='xray', variable_card=2, values=[[.98,.05],[.02,.95]], evidence=['either'],evidence_card=[2])\n",
        "cpd_dysp = TabularCPD(variable='dysp', variable_card=2,values=[[.9,.7,.8,.1],[.1,.3,.2,.9]], evidence=['bronc','either'],evidence_card=[2,2])"
      ],
      "execution_count": null,
      "outputs": []
    },
    {
      "cell_type": "code",
      "metadata": {
        "id": "6XL8EUSfPUYF",
        "colab_type": "code",
        "colab": {}
      },
      "source": [
        "#Adding all the CPDs to the model\n",
        "chest_model.add_cpds(cpd_asia, cpd_tub,cpd_smoke,  cpd_lung, cpd_bronc, cpd_either, cpd_xray, cpd_dysp)\n"
      ],
      "execution_count": null,
      "outputs": []
    },
    {
      "cell_type": "code",
      "metadata": {
        "id": "doz8Vr6uvN_t",
        "colab_type": "code",
        "colab": {
          "base_uri": "https://localhost:8080/",
          "height": 54
        },
        "outputId": "9713bf1f-277d-4126-cab3-8120aa24ac82"
      },
      "source": [
        "#Displaying the nodes:-\n",
        "chest_model.nodes()"
      ],
      "execution_count": null,
      "outputs": [
        {
          "output_type": "execute_result",
          "data": {
            "text/plain": [
              "NodeView(('asia', 'tub', 'smoke', 'lung', 'bronc', 'either', 'xray', 'dysp'))"
            ]
          },
          "metadata": {
            "tags": []
          },
          "execution_count": 100
        }
      ]
    },
    {
      "cell_type": "code",
      "metadata": {
        "id": "1AdDcF8cvfeG",
        "colab_type": "code",
        "colab": {
          "base_uri": "https://localhost:8080/",
          "height": 54
        },
        "outputId": "7e816fa9-c2e3-4cb1-e933-ca97649decbb"
      },
      "source": [
        "#Displaying the edges:-\n",
        "chest_model.edges()\n"
      ],
      "execution_count": null,
      "outputs": [
        {
          "output_type": "execute_result",
          "data": {
            "text/plain": [
              "OutEdgeView([('asia', 'tub'), ('tub', 'either'), ('smoke', 'lung'), ('smoke', 'bronc'), ('lung', 'either'), ('bronc', 'dysp'), ('either', 'xray'), ('either', 'dysp')])"
            ]
          },
          "metadata": {
            "tags": []
          },
          "execution_count": 101
        }
      ]
    },
    {
      "cell_type": "code",
      "metadata": {
        "id": "LxGRLVhsHj2S",
        "colab_type": "code",
        "colab": {
          "base_uri": "https://localhost:8080/",
          "height": 34
        },
        "outputId": "40abe716-3f51-45c6-a482-19e884c5b5f5"
      },
      "source": [
        "#Find active trail nodes:-\n",
        "chest_model.active_trail_nodes('asia')"
      ],
      "execution_count": null,
      "outputs": [
        {
          "output_type": "execute_result",
          "data": {
            "text/plain": [
              "{'asia': {'asia', 'dysp', 'either', 'tub', 'xray'}}"
            ]
          },
          "metadata": {
            "tags": []
          },
          "execution_count": 102
        }
      ]
    },
    {
      "cell_type": "code",
      "metadata": {
        "id": "CQP311-eHkCr",
        "colab_type": "code",
        "colab": {
          "base_uri": "https://localhost:8080/",
          "height": 34
        },
        "outputId": "a5940d39-e41b-4471-b2b9-483f87d682c9"
      },
      "source": [
        "chest_model.active_trail_nodes('tub')\n"
      ],
      "execution_count": null,
      "outputs": [
        {
          "output_type": "execute_result",
          "data": {
            "text/plain": [
              "{'tub': {'asia', 'dysp', 'either', 'tub', 'xray'}}"
            ]
          },
          "metadata": {
            "tags": []
          },
          "execution_count": 103
        }
      ]
    },
    {
      "cell_type": "code",
      "metadata": {
        "id": "fwQPfZiyHtZw",
        "colab_type": "code",
        "colab": {
          "base_uri": "https://localhost:8080/",
          "height": 54
        },
        "outputId": "47edee6a-373a-48e7-dca7-288ffcc80792"
      },
      "source": [
        "chest_model.active_trail_nodes('either')\n"
      ],
      "execution_count": null,
      "outputs": [
        {
          "output_type": "execute_result",
          "data": {
            "text/plain": [
              "{'either': {'asia', 'bronc', 'dysp', 'either', 'lung', 'smoke', 'tub', 'xray'}}"
            ]
          },
          "metadata": {
            "tags": []
          },
          "execution_count": 104
        }
      ]
    },
    {
      "cell_type": "code",
      "metadata": {
        "id": "tq6qa8KcSm7v",
        "colab_type": "code",
        "colab": {
          "base_uri": "https://localhost:8080/",
          "height": 153
        },
        "outputId": "324df7f6-f006-4922-aec7-9c864e3ca690"
      },
      "source": [
        "#Examine the structure of the graph:-\n",
        "chest_model.get_cpds()"
      ],
      "execution_count": null,
      "outputs": [
        {
          "output_type": "execute_result",
          "data": {
            "text/plain": [
              "[<TabularCPD representing P(asia:2) at 0x7f6fe7f4efd0>,\n",
              " <TabularCPD representing P(tub:2 | asia:2) at 0x7f6fe7e7ce80>,\n",
              " <TabularCPD representing P(smoke:2) at 0x7f6fe7e7c7f0>,\n",
              " <TabularCPD representing P(lung:2 | smoke:2) at 0x7f6fe7e7c7b8>,\n",
              " <TabularCPD representing P(bronc:2 | smoke:2) at 0x7f6fe7e7cc88>,\n",
              " <TabularCPD representing P(either:2 | lung:2, tub:2) at 0x7f6fe7e7cdd8>,\n",
              " <TabularCPD representing P(xray:2 | either:2) at 0x7f6fe7e7ceb8>,\n",
              " <TabularCPD representing P(dysp:2 | bronc:2, either:2) at 0x7f6fe7e7ca20>]"
            ]
          },
          "metadata": {
            "tags": []
          },
          "execution_count": 105
        }
      ]
    },
    {
      "cell_type": "code",
      "metadata": {
        "id": "hRrorSVnIM8Y",
        "colab_type": "code",
        "colab": {
          "base_uri": "https://localhost:8080/",
          "height": 34
        },
        "outputId": "7d78ae54-b8c9-4fd3-c625-fba11797af59"
      },
      "source": [
        "#Finding the local Independencies:-\n",
        "chest_model.local_independencies('asia')"
      ],
      "execution_count": null,
      "outputs": [
        {
          "output_type": "execute_result",
          "data": {
            "text/plain": [
              "(asia _|_ bronc, lung, smoke)"
            ]
          },
          "metadata": {
            "tags": []
          },
          "execution_count": 106
        }
      ]
    },
    {
      "cell_type": "code",
      "metadata": {
        "id": "j0z6nj3tINFS",
        "colab_type": "code",
        "colab": {
          "base_uri": "https://localhost:8080/",
          "height": 34
        },
        "outputId": "83cb64cd-5832-4527-83ff-6d97f144be04"
      },
      "source": [
        "chest_model.local_independencies('tub')"
      ],
      "execution_count": null,
      "outputs": [
        {
          "output_type": "execute_result",
          "data": {
            "text/plain": [
              "(tub _|_ bronc, lung, smoke | asia)"
            ]
          },
          "metadata": {
            "tags": []
          },
          "execution_count": 107
        }
      ]
    },
    {
      "cell_type": "code",
      "metadata": {
        "id": "7UvtUv6BINia",
        "colab_type": "code",
        "colab": {
          "base_uri": "https://localhost:8080/",
          "height": 34
        },
        "outputId": "71e59203-a80e-4cb7-faf9-8baf8050cd04"
      },
      "source": [
        "chest_model.local_independencies('either')"
      ],
      "execution_count": null,
      "outputs": [
        {
          "output_type": "execute_result",
          "data": {
            "text/plain": [
              "(either _|_ asia, bronc, smoke | lung, tub)"
            ]
          },
          "metadata": {
            "tags": []
          },
          "execution_count": 108
        }
      ]
    },
    {
      "cell_type": "code",
      "metadata": {
        "id": "eoaLJ5uaItkX",
        "colab_type": "code",
        "colab": {
          "base_uri": "https://localhost:8080/",
          "height": 1000
        },
        "outputId": "d7baa3b9-7a85-46ff-8b62-6ccecdae2aa5"
      },
      "source": [
        "#Finding all the independencies:-\n",
        "chest_model.get_independencies()"
      ],
      "execution_count": null,
      "outputs": [
        {
          "output_type": "execute_result",
          "data": {
            "text/plain": [
              "(asia _|_ bronc, smoke, lung)\n",
              "(asia _|_ smoke, lung | bronc)\n",
              "(asia _|_ smoke, lung, xray, dysp, bronc, either | tub)\n",
              "(asia _|_ bronc, lung | smoke)\n",
              "(asia _|_ bronc, smoke | lung)\n",
              "(asia _|_ xray | either)\n",
              "(asia _|_ smoke, lung, xray, dysp, either | bronc, tub)\n",
              "(asia _|_ lung | bronc, smoke)\n",
              "(asia _|_ smoke | bronc, lung)\n",
              "(asia _|_ xray, dysp | bronc, either)\n",
              "(asia _|_ lung, xray, dysp, bronc, either | smoke, tub)\n",
              "(asia _|_ smoke, xray, dysp, bronc, either | lung, tub)\n",
              "(asia _|_ smoke, lung, dysp, bronc, either | xray, tub)\n",
              "(asia _|_ smoke, lung, xray, bronc, either | dysp, tub)\n",
              "(asia _|_ smoke, lung, xray, dysp, bronc | tub, either)\n",
              "(asia _|_ bronc | smoke, lung)\n",
              "(asia _|_ bronc | xray, smoke)\n",
              "(asia _|_ xray, dysp, bronc | smoke, either)\n",
              "(asia _|_ bronc, smoke | xray, lung)\n",
              "(asia _|_ xray, dysp, bronc, smoke | lung, either)\n",
              "(asia _|_ xray | dysp, either)\n",
              "(asia _|_ xray, dysp, lung, either | bronc, tub, smoke)\n",
              "(asia _|_ xray, dysp, smoke, either | lung, bronc, tub)\n",
              "(asia _|_ dysp, smoke, lung, either | xray, bronc, tub)\n",
              "(asia _|_ xray, smoke, lung, either | dysp, bronc, tub)\n",
              "(asia _|_ xray, dysp, smoke, lung | bronc, tub, either)\n",
              "(asia _|_ xray, dysp | bronc, either, smoke)\n",
              "(asia _|_ smoke | xray, bronc, lung)\n",
              "(asia _|_ smoke | dysp, bronc, lung)\n",
              "(asia _|_ xray, dysp, smoke | bronc, lung, either)\n",
              "(asia _|_ dysp | xray, bronc, either)\n",
              "(asia _|_ xray | dysp, bronc, either)\n",
              "(asia _|_ xray, dysp, bronc, either | lung, smoke, tub)\n",
              "(asia _|_ dysp, bronc, lung, either | xray, smoke, tub)\n",
              "(asia _|_ xray, bronc, lung, either | dysp, smoke, tub)\n",
              "(asia _|_ xray, dysp, bronc, lung | smoke, tub, either)\n",
              "(asia _|_ dysp, bronc, either, smoke | xray, lung, tub)\n",
              "(asia _|_ xray, bronc, either, smoke | dysp, lung, tub)\n",
              "(asia _|_ xray, dysp, bronc, smoke | lung, tub, either)\n",
              "(asia _|_ bronc, lung, either, smoke | xray, dysp, tub)\n",
              "(asia _|_ dysp, bronc, lung, smoke | xray, tub, either)\n",
              "(asia _|_ xray, bronc, lung, smoke | dysp, tub, either)\n",
              "(asia _|_ bronc | xray, smoke, lung)\n",
              "(asia _|_ xray, dysp, bronc | smoke, lung, either)\n",
              "(asia _|_ dysp, bronc | xray, smoke, either)\n",
              "(asia _|_ xray, bronc | dysp, smoke, either)\n",
              "(asia _|_ dysp, bronc, smoke | xray, lung, either)\n",
              "(asia _|_ xray, bronc, smoke | dysp, lung, either)\n",
              "(asia _|_ xray, dysp, either | lung, bronc, tub, smoke)\n",
              "(asia _|_ dysp, lung, either | xray, bronc, tub, smoke)\n",
              "(asia _|_ xray, lung, either | dysp, bronc, tub, smoke)\n",
              "(asia _|_ xray, dysp, lung | bronc, tub, either, smoke)\n",
              "(asia _|_ dysp, smoke, either | xray, lung, bronc, tub)\n",
              "(asia _|_ xray, smoke, either | dysp, lung, bronc, tub)\n",
              "(asia _|_ xray, dysp, smoke | lung, bronc, tub, either)\n",
              "(asia _|_ smoke, lung, either | xray, dysp, bronc, tub)\n",
              "(asia _|_ dysp, smoke, lung | xray, bronc, tub, either)\n",
              "(asia _|_ xray, smoke, lung | dysp, bronc, tub, either)\n",
              "(asia _|_ xray, dysp | bronc, lung, either, smoke)\n",
              "(asia _|_ dysp | xray, bronc, either, smoke)\n",
              "(asia _|_ xray | dysp, bronc, either, smoke)\n",
              "(asia _|_ smoke | xray, dysp, bronc, lung)\n",
              "(asia _|_ dysp, smoke | xray, bronc, lung, either)\n",
              "(asia _|_ xray, smoke | dysp, bronc, lung, either)\n",
              "(asia _|_ dysp, bronc, either | xray, lung, smoke, tub)\n",
              "(asia _|_ xray, bronc, either | dysp, lung, smoke, tub)\n",
              "(asia _|_ xray, dysp, bronc | lung, smoke, tub, either)\n",
              "(asia _|_ bronc, lung, either | xray, dysp, smoke, tub)\n",
              "(asia _|_ dysp, bronc, lung | xray, smoke, tub, either)\n",
              "(asia _|_ xray, bronc, lung | dysp, smoke, tub, either)\n",
              "(asia _|_ bronc, either, smoke | xray, dysp, lung, tub)\n",
              "(asia _|_ dysp, bronc, smoke | xray, lung, tub, either)\n",
              "(asia _|_ xray, bronc, smoke | dysp, lung, tub, either)\n",
              "(asia _|_ bronc, lung, smoke | xray, dysp, tub, either)\n",
              "(asia _|_ dysp, bronc | xray, smoke, lung, either)\n",
              "(asia _|_ xray, bronc | dysp, smoke, lung, either)\n",
              "(asia _|_ bronc | xray, dysp, smoke, either)\n",
              "(asia _|_ bronc, smoke | xray, dysp, lung, either)\n",
              "(asia _|_ dysp, either | bronc, tub, smoke, lung, xray)\n",
              "(asia _|_ xray, either | bronc, tub, smoke, lung, dysp)\n",
              "(asia _|_ xray, dysp | bronc, tub, smoke, lung, either)\n",
              "(asia _|_ lung, either | bronc, tub, smoke, xray, dysp)\n",
              "(asia _|_ dysp, lung | bronc, tub, smoke, xray, either)\n",
              "(asia _|_ xray, lung | bronc, tub, smoke, dysp, either)\n",
              "(asia _|_ smoke, either | bronc, tub, lung, xray, dysp)\n",
              "(asia _|_ dysp, smoke | bronc, tub, lung, xray, either)\n",
              "(asia _|_ xray, smoke | bronc, tub, lung, dysp, either)\n",
              "(asia _|_ smoke, lung | bronc, tub, xray, dysp, either)\n",
              "(asia _|_ dysp | bronc, smoke, lung, xray, either)\n",
              "(asia _|_ xray | bronc, smoke, lung, dysp, either)\n",
              "(asia _|_ smoke | bronc, lung, xray, dysp, either)\n",
              "(asia _|_ bronc, either | tub, smoke, lung, xray, dysp)\n",
              "(asia _|_ dysp, bronc | tub, smoke, lung, xray, either)\n",
              "(asia _|_ xray, bronc | tub, smoke, lung, dysp, either)\n",
              "(asia _|_ bronc, lung | tub, smoke, xray, dysp, either)\n",
              "(asia _|_ bronc, smoke | tub, lung, xray, dysp, either)\n",
              "(asia _|_ bronc | smoke, lung, xray, dysp, either)\n",
              "(asia _|_ either | bronc, tub, smoke, lung, xray, dysp)\n",
              "(asia _|_ dysp | bronc, tub, smoke, lung, xray, either)\n",
              "(asia _|_ xray | bronc, tub, smoke, lung, dysp, either)\n",
              "(asia _|_ lung | bronc, tub, smoke, xray, dysp, either)\n",
              "(asia _|_ smoke | bronc, tub, lung, xray, dysp, either)\n",
              "(asia _|_ bronc | tub, smoke, lung, xray, dysp, either)\n",
              "(tub _|_ bronc, smoke, lung)\n",
              "(tub _|_ bronc, lung, smoke | asia)\n",
              "(tub _|_ smoke, lung | bronc)\n",
              "(tub _|_ bronc, lung | smoke)\n",
              "(tub _|_ bronc, smoke | lung)\n",
              "(tub _|_ xray | either)\n",
              "(tub _|_ smoke, lung | asia, bronc)\n",
              "(tub _|_ bronc, lung | asia, smoke)\n",
              "(tub _|_ bronc, smoke | asia, lung)\n",
              "(tub _|_ xray | asia, either)\n",
              "(tub _|_ lung | bronc, smoke)\n",
              "(tub _|_ smoke | bronc, lung)\n",
              "(tub _|_ xray, dysp | bronc, either)\n",
              "(tub _|_ bronc | smoke, lung)\n",
              "(tub _|_ bronc | xray, smoke)\n",
              "(tub _|_ xray, dysp, bronc | smoke, either)\n",
              "(tub _|_ bronc, smoke | xray, lung)\n",
              "(tub _|_ xray, dysp, bronc, smoke | lung, either)\n",
              "(tub _|_ xray | dysp, either)\n",
              "(tub _|_ lung | asia, bronc, smoke)\n",
              "(tub _|_ smoke | asia, bronc, lung)\n",
              "(tub _|_ xray, dysp | asia, bronc, either)\n",
              "(tub _|_ bronc | asia, smoke, lung)\n",
              "(tub _|_ bronc | asia, smoke, xray)\n",
              "(tub _|_ xray, dysp, bronc | asia, smoke, either)\n",
              "(tub _|_ bronc, smoke | asia, lung, xray)\n",
              "(tub _|_ xray, dysp, bronc, smoke | asia, lung, either)\n",
              "(tub _|_ xray | asia, dysp, either)\n",
              "(tub _|_ xray, dysp | bronc, either, smoke)\n",
              "(tub _|_ smoke | xray, bronc, lung)\n",
              "(tub _|_ smoke | dysp, bronc, lung)\n",
              "(tub _|_ xray, dysp, smoke | bronc, lung, either)\n",
              "(tub _|_ dysp | xray, bronc, either)\n",
              "(tub _|_ xray | dysp, bronc, either)\n",
              "(tub _|_ bronc | xray, smoke, lung)\n",
              "(tub _|_ xray, dysp, bronc | smoke, lung, either)\n",
              "(tub _|_ dysp, bronc | xray, smoke, either)\n",
              "(tub _|_ xray, bronc | dysp, smoke, either)\n",
              "(tub _|_ dysp, bronc, smoke | xray, lung, either)\n",
              "(tub _|_ xray, bronc, smoke | dysp, lung, either)\n",
              "(tub _|_ xray, dysp | asia, bronc, either, smoke)\n",
              "(tub _|_ smoke | asia, bronc, lung, xray)\n",
              "(tub _|_ smoke | asia, dysp, bronc, lung)\n",
              "(tub _|_ xray, dysp, smoke | asia, bronc, lung, either)\n",
              "(tub _|_ dysp | asia, bronc, either, xray)\n",
              "(tub _|_ xray | asia, dysp, bronc, either)\n",
              "(tub _|_ bronc | asia, smoke, lung, xray)\n",
              "(tub _|_ xray, dysp, bronc | asia, smoke, lung, either)\n",
              "(tub _|_ dysp, bronc | asia, smoke, either, xray)\n",
              "(tub _|_ xray, bronc | asia, dysp, smoke, either)\n",
              "(tub _|_ dysp, bronc, smoke | asia, lung, either, xray)\n",
              "(tub _|_ xray, bronc, smoke | asia, dysp, lung, either)\n",
              "(tub _|_ xray, dysp | bronc, lung, either, smoke)\n",
              "(tub _|_ dysp | xray, bronc, either, smoke)\n",
              "(tub _|_ xray | dysp, bronc, either, smoke)\n",
              "(tub _|_ smoke | xray, dysp, bronc, lung)\n",
              "(tub _|_ dysp, smoke | xray, bronc, lung, either)\n",
              "(tub _|_ xray, smoke | dysp, bronc, lung, either)\n",
              "(tub _|_ dysp, bronc | xray, smoke, lung, either)\n",
              "(tub _|_ xray, bronc | dysp, smoke, lung, either)\n",
              "(tub _|_ bronc | xray, dysp, smoke, either)\n",
              "(tub _|_ bronc, smoke | xray, dysp, lung, either)\n",
              "(tub _|_ xray, dysp | asia, bronc, smoke, lung, either)\n",
              "(tub _|_ dysp | asia, bronc, smoke, xray, either)\n",
              "(tub _|_ xray | asia, bronc, smoke, dysp, either)\n",
              "(tub _|_ smoke | asia, bronc, lung, xray, dysp)\n",
              "(tub _|_ dysp, smoke | asia, bronc, lung, xray, either)\n",
              "(tub _|_ xray, smoke | asia, bronc, lung, dysp, either)\n",
              "(tub _|_ dysp, bronc | asia, smoke, lung, xray, either)\n",
              "(tub _|_ xray, bronc | asia, smoke, lung, dysp, either)\n",
              "(tub _|_ bronc | asia, smoke, xray, dysp, either)\n",
              "(tub _|_ bronc, smoke | asia, lung, xray, dysp, either)\n",
              "(tub _|_ dysp | bronc, smoke, lung, xray, either)\n",
              "(tub _|_ xray | bronc, smoke, lung, dysp, either)\n",
              "(tub _|_ smoke | bronc, lung, xray, dysp, either)\n",
              "(tub _|_ bronc | smoke, lung, xray, dysp, either)\n",
              "(tub _|_ dysp | asia, bronc, smoke, lung, xray, either)\n",
              "(tub _|_ xray | asia, bronc, smoke, lung, dysp, either)\n",
              "(tub _|_ smoke | asia, bronc, lung, xray, dysp, either)\n",
              "(tub _|_ bronc | asia, smoke, lung, xray, dysp, either)\n",
              "(smoke _|_ asia, tub)\n",
              "(smoke _|_ tub | asia)\n",
              "(smoke _|_ asia, tub | bronc)\n",
              "(smoke _|_ asia | tub)\n",
              "(smoke _|_ asia, tub, either, xray | lung)\n",
              "(smoke _|_ xray | either)\n",
              "(smoke _|_ tub | asia, bronc)\n",
              "(smoke _|_ xray, tub, either | asia, lung)\n",
              "(smoke _|_ xray | asia, either)\n",
              "(smoke _|_ asia | bronc, tub)\n",
              "(smoke _|_ asia, dysp, tub, either, xray | bronc, lung)\n",
              "(smoke _|_ xray, dysp | bronc, either)\n",
              "(smoke _|_ asia, either, xray | lung, tub)\n",
              "(smoke _|_ asia | xray, tub)\n",
              "(smoke _|_ asia | dysp, tub)\n",
              "(smoke _|_ asia, xray | tub, either)\n",
              "(smoke _|_ asia, tub, either | xray, lung)\n",
              "(smoke _|_ asia, tub, xray | lung, either)\n",
              "(smoke _|_ xray | dysp, either)\n",
              "(smoke _|_ xray, dysp, tub, either | asia, bronc, lung)\n",
              "(smoke _|_ xray, dysp | asia, bronc, either)\n",
              "(smoke _|_ xray, either | asia, lung, tub)\n",
              "(smoke _|_ xray | asia, tub, either)\n",
              "(smoke _|_ tub, either | asia, lung, xray)\n",
              "(smoke _|_ xray, tub | asia, lung, either)\n",
              "(smoke _|_ xray | asia, dysp, either)\n",
              "(smoke _|_ asia, dysp, either, xray | lung, bronc, tub)\n",
              "(smoke _|_ asia | xray, bronc, tub)\n",
              "(smoke _|_ asia | dysp, bronc, tub)\n",
              "(smoke _|_ asia, dysp, xray | bronc, tub, either)\n",
              "(smoke _|_ asia, dysp, tub, either | xray, bronc, lung)\n",
              "(smoke _|_ asia, tub, either, xray | dysp, bronc, lung)\n",
              "(smoke _|_ asia, dysp, tub, xray | bronc, lung, either)\n",
              "(smoke _|_ dysp | xray, bronc, either)\n",
              "(smoke _|_ xray | dysp, bronc, either)\n",
              "(smoke _|_ asia, either | xray, lung, tub)\n",
              "(smoke _|_ asia | dysp, lung, tub)\n",
              "(smoke _|_ asia, xray | lung, tub, either)\n",
              "(smoke _|_ asia | xray, dysp, tub)\n",
              "(smoke _|_ asia | xray, tub, either)\n",
              "(smoke _|_ asia, xray | dysp, tub, either)\n",
              "(smoke _|_ asia, tub | xray, lung, either)\n",
              "(smoke _|_ asia, tub, xray | dysp, lung, either)\n",
              "(smoke _|_ xray, dysp, either | asia, lung, bronc, tub)\n",
              "(smoke _|_ xray, dysp | asia, bronc, tub, either)\n",
              "(smoke _|_ dysp, tub, either | asia, bronc, lung, xray)\n",
              "(smoke _|_ xray, tub, either | asia, dysp, bronc, lung)\n",
              "(smoke _|_ xray, dysp, tub | asia, bronc, lung, either)\n",
              "(smoke _|_ dysp | asia, bronc, either, xray)\n",
              "(smoke _|_ xray | asia, dysp, bronc, either)\n",
              "(smoke _|_ either | asia, lung, tub, xray)\n",
              "(smoke _|_ xray | asia, lung, tub, either)\n",
              "(smoke _|_ xray | asia, dysp, tub, either)\n",
              "(smoke _|_ tub | asia, lung, either, xray)\n",
              "(smoke _|_ xray, tub | asia, dysp, lung, either)\n",
              "(smoke _|_ asia, dysp, either | xray, lung, bronc, tub)\n",
              "(smoke _|_ asia, either, xray | dysp, lung, bronc, tub)\n",
              "(smoke _|_ asia, dysp, xray | lung, bronc, tub, either)\n",
              "(smoke _|_ asia | xray, dysp, bronc, tub)\n",
              "(smoke _|_ asia, dysp | xray, bronc, tub, either)\n",
              "(smoke _|_ asia, xray | dysp, bronc, tub, either)\n",
              "(smoke _|_ asia, tub, either | xray, dysp, bronc, lung)\n",
              "(smoke _|_ asia, dysp, tub | xray, bronc, lung, either)\n",
              "(smoke _|_ asia, tub, xray | dysp, bronc, lung, either)\n",
              "(smoke _|_ asia | xray, dysp, lung, tub)\n",
              "(smoke _|_ asia | xray, lung, tub, either)\n",
              "(smoke _|_ asia, xray | dysp, lung, tub, either)\n",
              "(smoke _|_ asia | xray, dysp, tub, either)\n",
              "(smoke _|_ asia, tub | xray, dysp, lung, either)\n",
              "(smoke _|_ dysp, either | asia, bronc, tub, lung, xray)\n",
              "(smoke _|_ xray, either | asia, bronc, tub, lung, dysp)\n",
              "(smoke _|_ xray, dysp | asia, bronc, tub, lung, either)\n",
              "(smoke _|_ dysp | asia, bronc, tub, xray, either)\n",
              "(smoke _|_ xray | asia, bronc, tub, dysp, either)\n",
              "(smoke _|_ tub, either | asia, bronc, lung, xray, dysp)\n",
              "(smoke _|_ dysp, tub | asia, bronc, lung, xray, either)\n",
              "(smoke _|_ xray, tub | asia, bronc, lung, dysp, either)\n",
              "(smoke _|_ xray | asia, tub, lung, dysp, either)\n",
              "(smoke _|_ tub | asia, lung, xray, dysp, either)\n",
              "(smoke _|_ asia, either | bronc, tub, lung, xray, dysp)\n",
              "(smoke _|_ asia, dysp | bronc, tub, lung, xray, either)\n",
              "(smoke _|_ asia, xray | bronc, tub, lung, dysp, either)\n",
              "(smoke _|_ asia | bronc, tub, xray, dysp, either)\n",
              "(smoke _|_ asia, tub | bronc, lung, xray, dysp, either)\n",
              "(smoke _|_ asia | tub, lung, xray, dysp, either)\n",
              "(smoke _|_ either | asia, bronc, tub, lung, xray, dysp)\n",
              "(smoke _|_ dysp | asia, bronc, tub, lung, xray, either)\n",
              "(smoke _|_ xray | asia, bronc, tub, lung, dysp, either)\n",
              "(smoke _|_ tub | asia, bronc, lung, xray, dysp, either)\n",
              "(smoke _|_ asia | bronc, tub, lung, xray, dysp, either)\n",
              "(lung _|_ asia, tub)\n",
              "(lung _|_ tub | asia)\n",
              "(lung _|_ asia, tub | bronc)\n",
              "(lung _|_ asia | tub)\n",
              "(lung _|_ asia, bronc, tub | smoke)\n",
              "(lung _|_ xray | either)\n",
              "(lung _|_ tub | asia, bronc)\n",
              "(lung _|_ bronc, tub | asia, smoke)\n",
              "(lung _|_ xray | asia, either)\n",
              "(lung _|_ asia | bronc, tub)\n",
              "(lung _|_ asia, tub | bronc, smoke)\n",
              "(lung _|_ xray, dysp | bronc, either)\n",
              "(lung _|_ asia, bronc | smoke, tub)\n",
              "(lung _|_ asia | xray, tub)\n",
              "(lung _|_ asia | dysp, tub)\n",
              "(lung _|_ asia, xray | tub, either)\n",
              "(lung _|_ bronc | xray, smoke)\n",
              "(lung _|_ xray, dysp, bronc | smoke, either)\n",
              "(lung _|_ xray | dysp, either)\n",
              "(lung _|_ tub | asia, bronc, smoke)\n",
              "(lung _|_ xray, dysp | asia, bronc, either)\n",
              "(lung _|_ bronc | asia, smoke, tub)\n",
              "(lung _|_ xray | asia, tub, either)\n",
              "(lung _|_ bronc | asia, smoke, xray)\n",
              "(lung _|_ xray, dysp, bronc | asia, smoke, either)\n",
              "(lung _|_ xray | asia, dysp, either)\n",
              "(lung _|_ asia | bronc, tub, smoke)\n",
              "(lung _|_ asia | xray, bronc, tub)\n",
              "(lung _|_ asia | dysp, bronc, tub)\n",
              "(lung _|_ asia, dysp, xray | bronc, tub, either)\n",
              "(lung _|_ xray, dysp | bronc, either, smoke)\n",
              "(lung _|_ dysp | xray, bronc, either)\n",
              "(lung _|_ xray | dysp, bronc, either)\n",
              "(lung _|_ asia, bronc | xray, smoke, tub)\n",
              "(lung _|_ asia | dysp, smoke, tub)\n",
              "(lung _|_ asia, dysp, bronc, xray | smoke, tub, either)\n",
              "(lung _|_ asia | xray, dysp, tub)\n",
              "(lung _|_ asia | xray, tub, either)\n",
              "(lung _|_ asia, xray | dysp, tub, either)\n",
              "(lung _|_ dysp, bronc | xray, smoke, either)\n",
              "(lung _|_ xray, bronc | dysp, smoke, either)\n",
              "(lung _|_ xray, dysp | asia, bronc, tub, either)\n",
              "(lung _|_ xray, dysp | asia, bronc, either, smoke)\n",
              "(lung _|_ dysp | asia, bronc, either, xray)\n",
              "(lung _|_ xray | asia, dysp, bronc, either)\n",
              "(lung _|_ bronc | asia, smoke, tub, xray)\n",
              "(lung _|_ xray, dysp, bronc | asia, smoke, tub, either)\n",
              "(lung _|_ xray | asia, dysp, tub, either)\n",
              "(lung _|_ dysp, bronc | asia, smoke, either, xray)\n",
              "(lung _|_ xray, bronc | asia, dysp, smoke, either)\n",
              "(lung _|_ asia | xray, bronc, tub, smoke)\n",
              "(lung _|_ asia | dysp, bronc, tub, smoke)\n",
              "(lung _|_ asia, dysp, xray | bronc, tub, either, smoke)\n",
              "(lung _|_ asia | xray, dysp, bronc, tub)\n",
              "(lung _|_ asia, dysp | xray, bronc, tub, either)\n",
              "(lung _|_ asia, xray | dysp, bronc, tub, either)\n",
              "(lung _|_ dysp | xray, bronc, either, smoke)\n",
              "(lung _|_ xray | dysp, bronc, either, smoke)\n",
              "(lung _|_ asia | xray, dysp, smoke, tub)\n",
              "(lung _|_ asia, dysp, bronc | xray, smoke, tub, either)\n",
              "(lung _|_ asia, bronc, xray | dysp, smoke, tub, either)\n",
              "(lung _|_ asia | xray, dysp, tub, either)\n",
              "(lung _|_ bronc | xray, dysp, smoke, either)\n",
              "(lung _|_ xray, dysp | asia, bronc, tub, smoke, either)\n",
              "(lung _|_ dysp | asia, bronc, tub, xray, either)\n",
              "(lung _|_ xray | asia, bronc, tub, dysp, either)\n",
              "(lung _|_ dysp | asia, bronc, smoke, xray, either)\n",
              "(lung _|_ xray | asia, bronc, smoke, dysp, either)\n",
              "(lung _|_ dysp, bronc | asia, tub, smoke, xray, either)\n",
              "(lung _|_ xray, bronc | asia, tub, smoke, dysp, either)\n",
              "(lung _|_ bronc | asia, smoke, xray, dysp, either)\n",
              "(lung _|_ asia | bronc, tub, smoke, xray, dysp)\n",
              "(lung _|_ asia, dysp | bronc, tub, smoke, xray, either)\n",
              "(lung _|_ asia, xray | bronc, tub, smoke, dysp, either)\n",
              "(lung _|_ asia | bronc, tub, xray, dysp, either)\n",
              "(lung _|_ asia, bronc | tub, smoke, xray, dysp, either)\n",
              "(lung _|_ dysp | asia, bronc, tub, smoke, xray, either)\n",
              "(lung _|_ xray | asia, bronc, tub, smoke, dysp, either)\n",
              "(lung _|_ bronc | asia, tub, smoke, xray, dysp, either)\n",
              "(lung _|_ asia | bronc, tub, smoke, xray, dysp, either)\n",
              "(bronc _|_ asia, tub)\n",
              "(bronc _|_ tub | asia)\n",
              "(bronc _|_ asia | tub)\n",
              "(bronc _|_ lung, asia, tub, either, xray | smoke)\n",
              "(bronc _|_ asia, tub, either, xray | lung)\n",
              "(bronc _|_ xray | either)\n",
              "(bronc _|_ xray, lung, tub, either | asia, smoke)\n",
              "(bronc _|_ xray, tub, either | asia, lung)\n",
              "(bronc _|_ xray | asia, either)\n",
              "(bronc _|_ asia, lung, either, xray | smoke, tub)\n",
              "(bronc _|_ asia, either, xray | lung, tub)\n",
              "(bronc _|_ asia | xray, tub)\n",
              "(bronc _|_ asia | dysp, tub)\n",
              "(bronc _|_ asia, xray | tub, either)\n",
              "(bronc _|_ asia, tub, either, xray | smoke, lung)\n",
              "(bronc _|_ asia, lung, tub, either | xray, smoke)\n",
              "(bronc _|_ asia, lung, tub, xray | smoke, either)\n",
              "(bronc _|_ asia, tub, either | xray, lung)\n",
              "(bronc _|_ asia, tub, xray | lung, either)\n",
              "(bronc _|_ xray | dysp, either)\n",
              "(bronc _|_ xray, lung, either | asia, smoke, tub)\n",
              "(bronc _|_ xray, either | asia, lung, tub)\n",
              "(bronc _|_ xray | asia, tub, either)\n",
              "(bronc _|_ xray, tub, either | asia, smoke, lung)\n",
              "(bronc _|_ tub, lung, either | asia, smoke, xray)\n",
              "(bronc _|_ xray, tub, lung | asia, smoke, either)\n",
              "(bronc _|_ tub, either | asia, lung, xray)\n",
              "(bronc _|_ xray, tub | asia, lung, either)\n",
              "(bronc _|_ xray | asia, dysp, either)\n",
              "(bronc _|_ asia, either, xray | lung, smoke, tub)\n",
              "(bronc _|_ asia, lung, either | xray, smoke, tub)\n",
              "(bronc _|_ asia | dysp, smoke, tub)\n",
              "(bronc _|_ asia, lung, xray | smoke, tub, either)\n",
              "(bronc _|_ asia, either | xray, lung, tub)\n",
              "(bronc _|_ asia | dysp, lung, tub)\n",
              "(bronc _|_ asia, xray | lung, tub, either)\n",
              "(bronc _|_ asia | xray, dysp, tub)\n",
              "(bronc _|_ asia | xray, tub, either)\n",
              "(bronc _|_ asia, xray | dysp, tub, either)\n",
              "(bronc _|_ asia, tub, either | xray, smoke, lung)\n",
              "(bronc _|_ asia, tub, xray | smoke, lung, either)\n",
              "(bronc _|_ asia, tub, lung | xray, smoke, either)\n",
              "(bronc _|_ asia, tub, lung, xray | dysp, smoke, either)\n",
              "(bronc _|_ asia, tub | xray, lung, either)\n",
              "(bronc _|_ asia, tub, xray | dysp, lung, either)\n",
              "(bronc _|_ xray, either | asia, lung, smoke, tub)\n",
              "(bronc _|_ lung, either | asia, smoke, tub, xray)\n",
              "(bronc _|_ xray, lung | asia, smoke, tub, either)\n",
              "(bronc _|_ either | asia, lung, tub, xray)\n",
              "(bronc _|_ xray | asia, lung, tub, either)\n",
              "(bronc _|_ xray | asia, dysp, tub, either)\n",
              "(bronc _|_ tub, either | asia, smoke, lung, xray)\n",
              "(bronc _|_ xray, tub | asia, smoke, lung, either)\n",
              "(bronc _|_ tub, lung | asia, smoke, either, xray)\n",
              "(bronc _|_ xray, tub, lung | asia, dysp, smoke, either)\n",
              "(bronc _|_ tub | asia, lung, either, xray)\n",
              "(bronc _|_ xray, tub | asia, dysp, lung, either)\n",
              "(bronc _|_ asia, either | xray, lung, smoke, tub)\n",
              "(bronc _|_ asia | dysp, lung, smoke, tub)\n",
              "(bronc _|_ asia, xray | lung, smoke, tub, either)\n",
              "(bronc _|_ asia | xray, dysp, smoke, tub)\n",
              "(bronc _|_ asia, lung | xray, smoke, tub, either)\n",
              "(bronc _|_ asia, lung, xray | dysp, smoke, tub, either)\n",
              "(bronc _|_ asia | xray, dysp, lung, tub)\n",
              "(bronc _|_ asia | xray, lung, tub, either)\n",
              "(bronc _|_ asia, xray | dysp, lung, tub, either)\n",
              "(bronc _|_ asia | xray, dysp, tub, either)\n",
              "(bronc _|_ asia, tub | xray, smoke, lung, either)\n",
              "(bronc _|_ asia, tub, xray | dysp, smoke, lung, either)\n",
              "(bronc _|_ asia, tub, lung | xray, dysp, smoke, either)\n",
              "(bronc _|_ asia, tub | xray, dysp, lung, either)\n",
              "(bronc _|_ either | asia, tub, smoke, lung, xray)\n",
              "(bronc _|_ xray | asia, tub, smoke, lung, either)\n",
              "(bronc _|_ lung | asia, tub, smoke, xray, either)\n",
              "(bronc _|_ xray, lung | asia, tub, smoke, dysp, either)\n",
              "(bronc _|_ xray | asia, tub, lung, dysp, either)\n",
              "(bronc _|_ tub | asia, smoke, lung, xray, either)\n",
              "(bronc _|_ xray, tub | asia, smoke, lung, dysp, either)\n",
              "(bronc _|_ tub, lung | asia, smoke, xray, dysp, either)\n",
              "(bronc _|_ tub | asia, lung, xray, dysp, either)\n",
              "(bronc _|_ asia | tub, smoke, lung, xray, dysp)\n",
              "(bronc _|_ asia | tub, smoke, lung, xray, either)\n",
              "(bronc _|_ asia, xray | tub, smoke, lung, dysp, either)\n",
              "(bronc _|_ asia, lung | tub, smoke, xray, dysp, either)\n",
              "(bronc _|_ asia | tub, lung, xray, dysp, either)\n",
              "(bronc _|_ asia, tub | smoke, lung, xray, dysp, either)\n",
              "(bronc _|_ xray | asia, tub, smoke, lung, dysp, either)\n",
              "(bronc _|_ lung | asia, tub, smoke, xray, dysp, either)\n",
              "(bronc _|_ tub | asia, smoke, lung, xray, dysp, either)\n",
              "(bronc _|_ asia | tub, smoke, lung, xray, dysp, either)\n",
              "(either _|_ asia | tub)\n",
              "(either _|_ bronc | smoke)\n",
              "(either _|_ bronc, smoke | lung)\n",
              "(either _|_ bronc | asia, smoke)\n",
              "(either _|_ bronc, smoke | asia, lung)\n",
              "(either _|_ asia | bronc, tub)\n",
              "(either _|_ smoke | bronc, lung)\n",
              "(either _|_ asia, bronc | smoke, tub)\n",
              "(either _|_ asia, bronc, smoke | lung, tub)\n",
              "(either _|_ asia | xray, tub)\n",
              "(either _|_ asia | dysp, tub)\n",
              "(either _|_ bronc | smoke, lung)\n",
              "(either _|_ bronc | xray, smoke)\n",
              "(either _|_ bronc, smoke | xray, lung)\n",
              "(either _|_ smoke | asia, bronc, lung)\n",
              "(either _|_ bronc | asia, smoke, tub)\n",
              "(either _|_ bronc, smoke | asia, lung, tub)\n",
              "(either _|_ bronc | asia, smoke, lung)\n",
              "(either _|_ bronc | asia, smoke, xray)\n",
              "(either _|_ bronc, smoke | asia, lung, xray)\n",
              "(either _|_ asia | bronc, tub, smoke)\n",
              "(either _|_ asia, smoke | lung, bronc, tub)\n",
              "(either _|_ asia | xray, bronc, tub)\n",
              "(either _|_ asia | dysp, bronc, tub)\n",
              "(either _|_ smoke | xray, bronc, lung)\n",
              "(either _|_ smoke | dysp, bronc, lung)\n",
              "(either _|_ asia, bronc | lung, smoke, tub)\n",
              "(either _|_ asia, bronc | xray, smoke, tub)\n",
              "(either _|_ asia | dysp, smoke, tub)\n",
              "(either _|_ asia, bronc, smoke | xray, lung, tub)\n",
              "(either _|_ asia | dysp, lung, tub)\n",
              "(either _|_ asia | xray, dysp, tub)\n",
              "(either _|_ bronc | xray, smoke, lung)\n",
              "(either _|_ smoke | asia, lung, bronc, tub)\n",
              "(either _|_ smoke | asia, bronc, lung, xray)\n",
              "(either _|_ smoke | asia, dysp, bronc, lung)\n",
              "(either _|_ bronc | asia, lung, smoke, tub)\n",
              "(either _|_ bronc | asia, smoke, tub, xray)\n",
              "(either _|_ bronc, smoke | asia, lung, tub, xray)\n",
              "(either _|_ bronc | asia, smoke, lung, xray)\n",
              "(either _|_ asia | lung, bronc, tub, smoke)\n",
              "(either _|_ asia | xray, bronc, tub, smoke)\n",
              "(either _|_ asia | dysp, bronc, tub, smoke)\n",
              "(either _|_ asia, smoke | xray, lung, bronc, tub)\n",
              "(either _|_ asia, smoke | dysp, lung, bronc, tub)\n",
              "(either _|_ asia | xray, dysp, bronc, tub)\n",
              "(either _|_ smoke | xray, dysp, bronc, lung)\n",
              "(either _|_ asia, bronc | xray, lung, smoke, tub)\n",
              "(either _|_ asia | dysp, lung, smoke, tub)\n",
              "(either _|_ asia | xray, dysp, smoke, tub)\n",
              "(either _|_ asia | xray, dysp, lung, tub)\n",
              "(either _|_ smoke | asia, bronc, tub, lung, xray)\n",
              "(either _|_ smoke | asia, bronc, tub, lung, dysp)\n",
              "(either _|_ smoke | asia, bronc, lung, xray, dysp)\n",
              "(either _|_ bronc | asia, tub, smoke, lung, xray)\n",
              "(either _|_ asia | bronc, tub, smoke, lung, xray)\n",
              "(either _|_ asia | bronc, tub, smoke, lung, dysp)\n",
              "(either _|_ asia | bronc, tub, smoke, xray, dysp)\n",
              "(either _|_ asia, smoke | bronc, tub, lung, xray, dysp)\n",
              "(either _|_ asia | tub, smoke, lung, xray, dysp)\n",
              "(either _|_ smoke | asia, bronc, tub, lung, xray, dysp)\n",
              "(either _|_ asia | bronc, tub, smoke, lung, xray, dysp)\n",
              "(xray _|_ asia | tub)\n",
              "(xray _|_ bronc | smoke)\n",
              "(xray _|_ bronc, smoke | lung)\n",
              "(xray _|_ smoke, lung, asia, dysp, bronc, tub | either)\n",
              "(xray _|_ bronc | asia, smoke)\n",
              "(xray _|_ bronc, smoke | asia, lung)\n",
              "(xray _|_ smoke, lung, dysp, bronc, tub | asia, either)\n",
              "(xray _|_ asia | bronc, tub)\n",
              "(xray _|_ smoke | bronc, lung)\n",
              "(xray _|_ smoke, lung, asia, dysp, tub | bronc, either)\n",
              "(xray _|_ asia, bronc | smoke, tub)\n",
              "(xray _|_ asia, bronc, smoke | lung, tub)\n",
              "(xray _|_ asia | dysp, tub)\n",
              "(xray _|_ smoke, lung, asia, dysp, bronc | tub, either)\n",
              "(xray _|_ bronc | smoke, lung)\n",
              "(xray _|_ lung, asia, dysp, bronc, tub | smoke, either)\n",
              "(xray _|_ smoke, asia, dysp, bronc, tub | lung, either)\n",
              "(xray _|_ smoke, lung, asia, bronc, tub | dysp, either)\n",
              "(xray _|_ smoke | asia, bronc, lung)\n",
              "(xray _|_ dysp, smoke, lung, tub | asia, bronc, either)\n",
              "(xray _|_ bronc | asia, smoke, tub)\n",
              "(xray _|_ bronc, smoke | asia, lung, tub)\n",
              "(xray _|_ dysp, bronc, lung, smoke | asia, tub, either)\n",
              "(xray _|_ bronc | asia, smoke, lung)\n",
              "(xray _|_ dysp, bronc, lung, tub | asia, smoke, either)\n",
              "(xray _|_ dysp, bronc, tub, smoke | asia, lung, either)\n",
              "(xray _|_ tub, bronc, lung, smoke | asia, dysp, either)\n",
              "(xray _|_ asia | bronc, tub, smoke)\n",
              "(xray _|_ asia, smoke | lung, bronc, tub)\n",
              "(xray _|_ asia | dysp, bronc, tub)\n",
              "(xray _|_ asia, dysp, smoke, lung | bronc, tub, either)\n",
              "(xray _|_ asia, dysp, tub, lung | bronc, either, smoke)\n",
              "(xray _|_ smoke | dysp, bronc, lung)\n",
              "(xray _|_ asia, dysp, smoke, tub | bronc, lung, either)\n",
              "(xray _|_ asia, tub, smoke, lung | dysp, bronc, either)\n",
              "(xray _|_ asia, bronc | lung, smoke, tub)\n",
              "(xray _|_ asia | dysp, smoke, tub)\n",
              "(xray _|_ asia, dysp, bronc, lung | smoke, tub, either)\n",
              "(xray _|_ asia | dysp, lung, tub)\n",
              "(xray _|_ asia, dysp, bronc, smoke | lung, tub, either)\n",
              "(xray _|_ asia, bronc, lung, smoke | dysp, tub, either)\n",
              "(xray _|_ asia, dysp, bronc, tub | smoke, lung, either)\n",
              "(xray _|_ asia, tub, bronc, lung | dysp, smoke, either)\n",
              "(xray _|_ asia, bronc, tub, smoke | dysp, lung, either)\n",
              "(xray _|_ smoke | asia, lung, bronc, tub)\n",
              "(xray _|_ dysp, smoke, lung | asia, bronc, tub, either)\n",
              "(xray _|_ dysp, tub, lung | asia, bronc, either, smoke)\n",
              "(xray _|_ smoke | asia, dysp, bronc, lung)\n",
              "(xray _|_ dysp, smoke, tub | asia, bronc, lung, either)\n",
              "(xray _|_ tub, smoke, lung | asia, dysp, bronc, either)\n",
              "(xray _|_ bronc | asia, lung, smoke, tub)\n",
              "(xray _|_ dysp, bronc, lung | asia, smoke, tub, either)\n",
              "(xray _|_ dysp, bronc, smoke | asia, lung, tub, either)\n",
              "(xray _|_ bronc, lung, smoke | asia, dysp, tub, either)\n",
              "(xray _|_ dysp, bronc, tub | asia, smoke, lung, either)\n",
              "(xray _|_ tub, bronc, lung | asia, dysp, smoke, either)\n",
              "(xray _|_ bronc, tub, smoke | asia, dysp, lung, either)\n",
              "(xray _|_ asia | lung, bronc, tub, smoke)\n",
              "(xray _|_ asia | dysp, bronc, tub, smoke)\n",
              "(xray _|_ asia, dysp, lung | bronc, tub, either, smoke)\n",
              "(xray _|_ asia, smoke | dysp, lung, bronc, tub)\n",
              "(xray _|_ asia, dysp, smoke | lung, bronc, tub, either)\n",
              "(xray _|_ asia, smoke, lung | dysp, bronc, tub, either)\n",
              "(xray _|_ asia, dysp, tub | bronc, lung, either, smoke)\n",
              "(xray _|_ asia, tub, lung | dysp, bronc, either, smoke)\n",
              "(xray _|_ asia, smoke, tub | dysp, bronc, lung, either)\n",
              "(xray _|_ asia | dysp, lung, smoke, tub)\n",
              "(xray _|_ asia, dysp, bronc | lung, smoke, tub, either)\n",
              "(xray _|_ asia, bronc, lung | dysp, smoke, tub, either)\n",
              "(xray _|_ asia, bronc, smoke | dysp, lung, tub, either)\n",
              "(xray _|_ asia, bronc, tub | dysp, smoke, lung, either)\n",
              "(xray _|_ dysp, lung | asia, bronc, tub, smoke, either)\n",
              "(xray _|_ smoke | asia, bronc, tub, lung, dysp)\n",
              "(xray _|_ dysp, smoke | asia, bronc, tub, lung, either)\n",
              "(xray _|_ smoke, lung | asia, bronc, tub, dysp, either)\n",
              "(xray _|_ dysp, tub | asia, bronc, smoke, lung, either)\n",
              "(xray _|_ tub, lung | asia, bronc, smoke, dysp, either)\n",
              "(xray _|_ smoke, tub | asia, bronc, lung, dysp, either)\n",
              "(xray _|_ dysp, bronc | asia, tub, smoke, lung, either)\n",
              "(xray _|_ bronc, lung | asia, tub, smoke, dysp, either)\n",
              "(xray _|_ bronc, smoke | asia, tub, lung, dysp, either)\n",
              "(xray _|_ bronc, tub | asia, smoke, lung, dysp, either)\n",
              "(xray _|_ asia | bronc, tub, smoke, lung, dysp)\n",
              "(xray _|_ asia, dysp | bronc, tub, smoke, lung, either)\n",
              "(xray _|_ asia, lung | bronc, tub, smoke, dysp, either)\n",
              "(xray _|_ asia, smoke | bronc, tub, lung, dysp, either)\n",
              "(xray _|_ asia, tub | bronc, smoke, lung, dysp, either)\n",
              "(xray _|_ asia, bronc | tub, smoke, lung, dysp, either)\n",
              "(xray _|_ dysp | asia, bronc, tub, smoke, lung, either)\n",
              "(xray _|_ lung | asia, bronc, tub, smoke, dysp, either)\n",
              "(xray _|_ smoke | asia, bronc, tub, lung, dysp, either)\n",
              "(xray _|_ tub | asia, bronc, smoke, lung, dysp, either)\n",
              "(xray _|_ bronc | asia, tub, smoke, lung, dysp, either)\n",
              "(xray _|_ asia | bronc, tub, smoke, lung, dysp, either)\n",
              "(dysp _|_ asia | tub)\n",
              "(dysp _|_ xray | either)\n",
              "(dysp _|_ xray | asia, either)\n",
              "(dysp _|_ asia | bronc, tub)\n",
              "(dysp _|_ smoke | bronc, lung)\n",
              "(dysp _|_ smoke, lung, asia, tub, xray | bronc, either)\n",
              "(dysp _|_ asia | smoke, tub)\n",
              "(dysp _|_ asia | lung, tub)\n",
              "(dysp _|_ asia | xray, tub)\n",
              "(dysp _|_ asia, xray | tub, either)\n",
              "(dysp _|_ asia, lung, tub, xray | smoke, either)\n",
              "(dysp _|_ asia, tub, xray | lung, either)\n",
              "(dysp _|_ smoke | asia, bronc, lung)\n",
              "(dysp _|_ xray, tub, smoke, lung | asia, bronc, either)\n",
              "(dysp _|_ xray | asia, tub, either)\n",
              "(dysp _|_ xray, tub, lung | asia, smoke, either)\n",
              "(dysp _|_ xray, tub | asia, lung, either)\n",
              "(dysp _|_ asia | bronc, tub, smoke)\n",
              "(dysp _|_ asia, smoke | lung, bronc, tub)\n",
              "(dysp _|_ asia | xray, bronc, tub)\n",
              "(dysp _|_ asia, smoke, lung, xray | bronc, tub, either)\n",
              "(dysp _|_ asia, tub, lung, xray | bronc, either, smoke)\n",
              "(dysp _|_ smoke | xray, bronc, lung)\n",
              "(dysp _|_ asia, smoke, tub, xray | bronc, lung, either)\n",
              "(dysp _|_ asia, tub, smoke, lung | xray, bronc, either)\n",
              "(dysp _|_ asia | lung, smoke, tub)\n",
              "(dysp _|_ asia | xray, smoke, tub)\n",
              "(dysp _|_ asia, lung, xray | smoke, tub, either)\n",
              "(dysp _|_ asia | xray, lung, tub)\n",
              "(dysp _|_ asia, xray | lung, tub, either)\n",
              "(dysp _|_ asia | xray, tub, either)\n",
              "(dysp _|_ asia, tub, xray | smoke, lung, either)\n",
              "(dysp _|_ asia, tub, lung | xray, smoke, either)\n",
              "(dysp _|_ asia, tub | xray, lung, either)\n",
              "(dysp _|_ smoke | asia, lung, bronc, tub)\n",
              "(dysp _|_ xray, smoke, lung | asia, bronc, tub, either)\n",
              "(dysp _|_ xray, tub, lung | asia, bronc, either, smoke)\n",
              "(dysp _|_ smoke | asia, bronc, lung, xray)\n",
              "(dysp _|_ xray, smoke, tub | asia, bronc, lung, either)\n",
              "(dysp _|_ tub, smoke, lung | asia, bronc, either, xray)\n",
              "(dysp _|_ xray, lung | asia, smoke, tub, either)\n",
              "(dysp _|_ xray | asia, lung, tub, either)\n",
              "(dysp _|_ xray, tub | asia, smoke, lung, either)\n",
              "(dysp _|_ tub, lung | asia, smoke, either, xray)\n",
              "(dysp _|_ tub | asia, lung, either, xray)\n",
              "(dysp _|_ asia | lung, bronc, tub, smoke)\n",
              "(dysp _|_ asia | xray, bronc, tub, smoke)\n",
              "(dysp _|_ asia, lung, xray | bronc, tub, either, smoke)\n",
              "(dysp _|_ asia, smoke | xray, lung, bronc, tub)\n",
              "(dysp _|_ asia, smoke, xray | lung, bronc, tub, either)\n",
              "(dysp _|_ asia, smoke, lung | xray, bronc, tub, either)\n",
              "(dysp _|_ asia, tub, xray | bronc, lung, either, smoke)\n",
              "(dysp _|_ asia, tub, lung | xray, bronc, either, smoke)\n",
              "(dysp _|_ asia, smoke, tub | xray, bronc, lung, either)\n",
              "(dysp _|_ asia | xray, lung, smoke, tub)\n",
              "(dysp _|_ asia, xray | lung, smoke, tub, either)\n",
              "(dysp _|_ asia, lung | xray, smoke, tub, either)\n",
              "(dysp _|_ asia | xray, lung, tub, either)\n",
              "(dysp _|_ asia, tub | xray, smoke, lung, either)\n",
              "(dysp _|_ xray, lung | asia, bronc, tub, smoke, either)\n",
              "(dysp _|_ smoke | asia, bronc, tub, lung, xray)\n",
              "(dysp _|_ xray, smoke | asia, bronc, tub, lung, either)\n",
              "(dysp _|_ smoke, lung | asia, bronc, tub, xray, either)\n",
              "(dysp _|_ xray, tub | asia, bronc, smoke, lung, either)\n",
              "(dysp _|_ tub, lung | asia, bronc, smoke, xray, either)\n",
              "(dysp _|_ smoke, tub | asia, bronc, lung, xray, either)\n",
              "(dysp _|_ xray | asia, tub, smoke, lung, either)\n",
              "(dysp _|_ lung | asia, tub, smoke, xray, either)\n",
              "(dysp _|_ tub | asia, smoke, lung, xray, either)\n",
              "(dysp _|_ asia | bronc, tub, smoke, lung, xray)\n",
              "(dysp _|_ asia, xray | bronc, tub, smoke, lung, either)\n",
              "(dysp _|_ asia, lung | bronc, tub, smoke, xray, either)\n",
              "(dysp _|_ asia, smoke | bronc, tub, lung, xray, either)\n",
              "(dysp _|_ asia, tub | bronc, smoke, lung, xray, either)\n",
              "(dysp _|_ asia | tub, smoke, lung, xray, either)\n",
              "(dysp _|_ xray | asia, bronc, tub, smoke, lung, either)\n",
              "(dysp _|_ lung | asia, bronc, tub, smoke, xray, either)\n",
              "(dysp _|_ smoke | asia, bronc, tub, lung, xray, either)\n",
              "(dysp _|_ tub | asia, bronc, smoke, lung, xray, either)\n",
              "(dysp _|_ asia | bronc, tub, smoke, lung, xray, either)"
            ]
          },
          "metadata": {
            "tags": []
          },
          "execution_count": 109
        }
      ]
    },
    {
      "cell_type": "code",
      "metadata": {
        "id": "Pfr0EYMcBmVP",
        "colab_type": "code",
        "colab": {
          "base_uri": "https://localhost:8080/",
          "height": 1000
        },
        "outputId": "a2f476df-185e-45be-b65b-255fba20b5e8"
      },
      "source": [
        "#Printing all the cpds\n",
        "for allcpd in chest_model.get_cpds():\n",
        "  print(\" allcpd of {variable}:\".format(variable=allcpd.variable))\n",
        "  print(allcpd)"
      ],
      "execution_count": null,
      "outputs": [
        {
          "output_type": "stream",
          "text": [
            " allcpd of asia:\n",
            "+---------+------+\n",
            "| asia(0) | 0.01 |\n",
            "+---------+------+\n",
            "| asia(1) | 0.99 |\n",
            "+---------+------+\n",
            " allcpd of tub:\n",
            "+--------+---------+---------+\n",
            "| asia   | asia(0) | asia(1) |\n",
            "+--------+---------+---------+\n",
            "| tub(0) | 0.05    | 0.01    |\n",
            "+--------+---------+---------+\n",
            "| tub(1) | 0.95    | 0.99    |\n",
            "+--------+---------+---------+\n",
            " allcpd of smoke:\n",
            "+----------+-----+\n",
            "| smoke(0) | 0.5 |\n",
            "+----------+-----+\n",
            "| smoke(1) | 0.5 |\n",
            "+----------+-----+\n",
            " allcpd of lung:\n",
            "+---------+----------+----------+\n",
            "| smoke   | smoke(0) | smoke(1) |\n",
            "+---------+----------+----------+\n",
            "| lung(0) | 0.1      | 0.01     |\n",
            "+---------+----------+----------+\n",
            "| lung(1) | 0.9      | 0.99     |\n",
            "+---------+----------+----------+\n",
            " allcpd of bronc:\n",
            "+----------+----------+----------+\n",
            "| smoke    | smoke(0) | smoke(1) |\n",
            "+----------+----------+----------+\n",
            "| bronc(0) | 0.6      | 0.3      |\n",
            "+----------+----------+----------+\n",
            "| bronc(1) | 0.4      | 0.7      |\n",
            "+----------+----------+----------+\n",
            " allcpd of either:\n",
            "+-----------+---------+---------+---------+---------+\n",
            "| lung      | lung(0) | lung(0) | lung(1) | lung(1) |\n",
            "+-----------+---------+---------+---------+---------+\n",
            "| tub       | tub(0)  | tub(1)  | tub(0)  | tub(1)  |\n",
            "+-----------+---------+---------+---------+---------+\n",
            "| either(0) | 1.0     | 1.0     | 1.0     | 0.0     |\n",
            "+-----------+---------+---------+---------+---------+\n",
            "| either(1) | 0.0     | 0.0     | 0.0     | 1.0     |\n",
            "+-----------+---------+---------+---------+---------+\n",
            " allcpd of xray:\n",
            "+---------+-----------+-----------+\n",
            "| either  | either(0) | either(1) |\n",
            "+---------+-----------+-----------+\n",
            "| xray(0) | 0.98      | 0.05      |\n",
            "+---------+-----------+-----------+\n",
            "| xray(1) | 0.02      | 0.95      |\n",
            "+---------+-----------+-----------+\n",
            " allcpd of dysp:\n",
            "+---------+-----------+-----------+-----------+-----------+\n",
            "| bronc   | bronc(0)  | bronc(0)  | bronc(1)  | bronc(1)  |\n",
            "+---------+-----------+-----------+-----------+-----------+\n",
            "| either  | either(0) | either(1) | either(0) | either(1) |\n",
            "+---------+-----------+-----------+-----------+-----------+\n",
            "| dysp(0) | 0.9       | 0.7       | 0.8       | 0.1       |\n",
            "+---------+-----------+-----------+-----------+-----------+\n",
            "| dysp(1) | 0.1       | 0.3       | 0.2       | 0.9       |\n",
            "+---------+-----------+-----------+-----------+-----------+\n"
          ],
          "name": "stdout"
        }
      ]
    },
    {
      "cell_type": "markdown",
      "metadata": {
        "id": "ZlzCNjXySZ4J",
        "colab_type": "text"
      },
      "source": [
        " <h2>Making Independencies</h2>\n",
        "\n"
      ]
    },
    {
      "cell_type": "code",
      "metadata": {
        "id": "wLMUMt_uSoZk",
        "colab_type": "code",
        "colab": {
          "base_uri": "https://localhost:8080/",
          "height": 428
        },
        "outputId": "db5dafce-9330-458b-e57b-2fd02ca67f25"
      },
      "source": [
        "# finding the joint Probability(problem 0)\n",
        "chest_model_infer=VariableElimination(model)\n",
        "joint_prob = chest_model_infer.query(variables=['tub','lung','bronc'],\n",
        "                               evidence={'asia':0,'xray':0},joint=False)\n",
        "\n",
        "print(joint_prob['tub'])\n",
        "print(joint_prob['lung'])\n",
        "print(joint_prob['bronc'])"
      ],
      "execution_count": null,
      "outputs": [
        {
          "output_type": "stream",
          "text": [
            "Finding Elimination Order: : 100%|██████████| 3/3 [00:00<00:00, 700.61it/s]\n",
            "Eliminating: smoke: 100%|██████████| 3/3 [00:00<00:00, 294.67it/s]"
          ],
          "name": "stderr"
        },
        {
          "output_type": "stream",
          "text": [
            "+--------+------------+\n",
            "| tub    |   phi(tub) |\n",
            "+========+============+\n",
            "| tub(0) |     0.3377 |\n",
            "+--------+------------+\n",
            "| tub(1) |     0.6623 |\n",
            "+--------+------------+\n",
            "+---------+-------------+\n",
            "| lung    |   phi(lung) |\n",
            "+=========+=============+\n",
            "| lung(0) |      0.3715 |\n",
            "+---------+-------------+\n",
            "| lung(1) |      0.6285 |\n",
            "+---------+-------------+\n",
            "+----------+--------------+\n",
            "| bronc    |   phi(bronc) |\n",
            "+==========+==============+\n",
            "| bronc(0) |       0.4911 |\n",
            "+----------+--------------+\n",
            "| bronc(1) |       0.5089 |\n",
            "+----------+--------------+\n"
          ],
          "name": "stdout"
        },
        {
          "output_type": "stream",
          "text": [
            "\n"
          ],
          "name": "stderr"
        }
      ]
    },
    {
      "cell_type": "code",
      "metadata": {
        "id": "-etAOGGYTwHN",
        "colab_type": "code",
        "colab": {
          "base_uri": "https://localhost:8080/",
          "height": 190
        },
        "outputId": "fcc41da2-adae-4463-8790-24a372b91cb6"
      },
      "source": [
        "tub_infer=chest_model_infer.query(variables=['tub'])\n",
        "print(tub_infer)"
      ],
      "execution_count": null,
      "outputs": [
        {
          "output_type": "stream",
          "text": [
            "Finding Elimination Order: : 100%|██████████| 7/7 [00:00<00:00, 3366.60it/s]\n",
            "Eliminating: xray: 100%|██████████| 7/7 [00:00<00:00, 354.39it/s]"
          ],
          "name": "stderr"
        },
        {
          "output_type": "stream",
          "text": [
            "+--------+------------+\n",
            "| tub    |   phi(tub) |\n",
            "+========+============+\n",
            "| tub(0) |     0.0104 |\n",
            "+--------+------------+\n",
            "| tub(1) |     0.9896 |\n",
            "+--------+------------+\n"
          ],
          "name": "stdout"
        },
        {
          "output_type": "stream",
          "text": [
            "\n"
          ],
          "name": "stderr"
        }
      ]
    },
    {
      "cell_type": "code",
      "metadata": {
        "id": "DnqPrz6xUpQ3",
        "colab_type": "code",
        "colab": {
          "base_uri": "https://localhost:8080/",
          "height": 190
        },
        "outputId": "6f78565c-1120-468e-86e4-69d1018a32ad"
      },
      "source": [
        "asia_infer=chest_model_infer.query(variables=['asia'])\n",
        "print(asia_infer)"
      ],
      "execution_count": null,
      "outputs": [
        {
          "output_type": "stream",
          "text": [
            "Finding Elimination Order: : 100%|██████████| 7/7 [00:00<00:00, 1694.37it/s]\n",
            "Eliminating: either: 100%|██████████| 7/7 [00:00<00:00, 520.92it/s]"
          ],
          "name": "stderr"
        },
        {
          "output_type": "stream",
          "text": [
            "+---------+-------------+\n",
            "| asia    |   phi(asia) |\n",
            "+=========+=============+\n",
            "| asia(0) |      0.0100 |\n",
            "+---------+-------------+\n",
            "| asia(1) |      0.9900 |\n",
            "+---------+-------------+\n"
          ],
          "name": "stdout"
        },
        {
          "output_type": "stream",
          "text": [
            "\n"
          ],
          "name": "stderr"
        }
      ]
    },
    {
      "cell_type": "code",
      "metadata": {
        "id": "qlmwntuMVPva",
        "colab_type": "code",
        "colab": {
          "base_uri": "https://localhost:8080/",
          "height": 190
        },
        "outputId": "70d8fc5c-b500-44d0-c25a-e09ea20cc4d5"
      },
      "source": [
        "either_infer=chest_model_infer.query(variables=['either'])\n",
        "print(either_infer)"
      ],
      "execution_count": null,
      "outputs": [
        {
          "output_type": "stream",
          "text": [
            "Finding Elimination Order: : 100%|██████████| 7/7 [00:00<00:00, 4607.68it/s]\n",
            "Eliminating: xray: 100%|██████████| 7/7 [00:00<00:00, 456.24it/s]"
          ],
          "name": "stderr"
        },
        {
          "output_type": "stream",
          "text": [
            "+-----------+---------------+\n",
            "| either    |   phi(either) |\n",
            "+===========+===============+\n",
            "| either(0) |        0.0648 |\n",
            "+-----------+---------------+\n",
            "| either(1) |        0.9352 |\n",
            "+-----------+---------------+\n"
          ],
          "name": "stdout"
        },
        {
          "output_type": "stream",
          "text": [
            "\n"
          ],
          "name": "stderr"
        }
      ]
    },
    {
      "cell_type": "code",
      "metadata": {
        "id": "QsLewBkGVZ0P",
        "colab_type": "code",
        "colab": {
          "base_uri": "https://localhost:8080/",
          "height": 319
        },
        "outputId": "0bdcfa80-34e4-4e59-9017-6864b232a3fa"
      },
      "source": [
        "moral_tree = chest_model.to_markov_model()\n",
        "networkx.draw(moral_tree, with_labels=True)\n",
        "plt.show()"
      ],
      "execution_count": null,
      "outputs": [
        {
          "output_type": "display_data",
          "data": {
            "image/png": "[encoded data removed]",
            "text/plain": [
              "<Figure size 432x288 with 1 Axes>"
            ]
          },
          "metadata": {
            "tags": []
          }
        }
      ]
    },
    {
      "cell_type": "code",
      "metadata": {
        "id": "0H6D314QZlbP",
        "colab_type": "code",
        "colab": {
          "base_uri": "https://localhost:8080/",
          "height": 319
        },
        "outputId": "f7e19995-e644-48a3-dd96-414817ce18ae"
      },
      "source": [
        "triangulate_tree = moral_tree.triangulate()\n",
        "networkx.draw(triangulate_tree, with_labels=True)\n",
        "plt.show()"
      ],
      "execution_count": null,
      "outputs": [
        {
          "output_type": "display_data",
          "data": {
            "image/png": "[encoded data removed]",
            "text/plain": [
              "<Figure size 432x288 with 1 Axes>"
            ]
          },
          "metadata": {
            "tags": []
          }
        }
      ]
    },
    {
      "cell_type": "code",
      "metadata": {
        "id": "Rh24toGxZ1oR",
        "colab_type": "code",
        "colab": {
          "base_uri": "https://localhost:8080/",
          "height": 319
        },
        "outputId": "f83bd202-5316-4188-9b8c-5d955135d050"
      },
      "source": [
        "junction_tree = triangulate_tree.to_junction_tree()\n",
        "networkx.draw(junction_tree, with_labels=True)\n"
      ],
      "execution_count": null,
      "outputs": [
        {
          "output_type": "display_data",
          "data": {
            "image/png": "[encoded data removed]",
            "text/plain": [
              "<Figure size 432x288 with 1 Axes>"
            ]
          },
          "metadata": {
            "tags": []
          }
        }
      ]
    },
    {
      "cell_type": "markdown",
      "metadata": {
        "id": "rB23dUMb_tGt",
        "colab_type": "text"
      },
      "source": [
        "<h5><strong> Problem 2</strong></h5>"
      ]
    },
    {
      "cell_type": "markdown",
      "metadata": {
        "id": "MxcDiZSwgpAj",
        "colab_type": "text"
      },
      "source": [
        "<h1> Running Intersection Property</h1>"
      ]
    },
    {
      "cell_type": "markdown",
      "metadata": {
        "id": "vEuq05iNg-xG",
        "colab_type": "text"
      },
      "source": [
        "According to running intersection property, for each pair of cluster B and C that contain i then each cluster on the unique path between B and C also contain i.\n",
        "In my junction tree , I can see that this condition is satisfied.\n",
        "Eg:- For the cluster (either, smoke,bronc,dysp),(either,smoke,asia),(asia,lung,smoke). smoke is present in the first and last cluster. We can easily see that either is also present in the middle cluster.This suggest that Running Intersection property is satisfied for these clusters.\n",
        "It is true for all the other nodes. So, we can say that the this junction tree satisfy the running intersection property. "
      ]
    }
  ]
}