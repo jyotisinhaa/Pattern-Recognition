{
  "nbformat": 4,
  "nbformat_minor": 0,
  "metadata": {
    "kernelspec": {
      "display_name": "Python 3",
      "language": "python",
      "name": "python3"
    },
    "language_info": {
      "codemirror_mode": {
        "name": "ipython",
        "version": 3
      },
      "file_extension": ".py",
      "mimetype": "text/x-python",
      "name": "python",
      "nbconvert_exporter": "python",
      "pygments_lexer": "ipython3",
      "version": "3.7.3"
    },
    "colab": {
      "name": "Cnnautoenoder.ipynb",
      "provenance": []
    }
  },
  "cells": [
    {
      "cell_type": "markdown",
      "metadata": {
        "id": "Z8u8Q8AlY8AV",
        "colab_type": "text"
      },
      "source": [
        "<h1><strong>CSE 555 - Introduction to Pattern Recognition</strong></h1>\n",
        "\n",
        "<h2><strong>Programming Assignment 5 :- Generative Models</strong></h2>\n",
        "<h4><strong> Jyoti Sinha</strong></h4>"
      ]
    },
    {
      "cell_type": "code",
      "metadata": {
        "id": "GerFREmbYqaL",
        "colab_type": "code",
        "colab": {}
      },
      "source": [
        "#!git clone https://github.com/tensorflow/tensorflow.git"
      ],
      "execution_count": null,
      "outputs": []
    },
    {
      "cell_type": "markdown",
      "metadata": {
        "id": "wK0Ur8gMYqaR",
        "colab_type": "text"
      },
      "source": [
        "<h3>Importing packages</h3>"
      ]
    },
    {
      "cell_type": "code",
      "metadata": {
        "id": "jrCIQfBaYqaR",
        "colab_type": "code",
        "colab": {},
        "outputId": "8934162b-3592-4b9c-81b0-889453b37008"
      },
      "source": [
        "!pip install -U dm-sonnet==1.23\n",
        "!pip install --upgrade tensorflow-probability\n",
        "!pip install tensorflow==2.0.0"
      ],
      "execution_count": null,
      "outputs": [
        {
          "output_type": "stream",
          "text": [
            "Requirement already up-to-date: dm-sonnet==1.23 in /Users/jyoti/anaconda3/lib/python3.7/site-packages (1.23)\n",
            "Requirement already satisfied, skipping upgrade: absl-py in /Users/jyoti/anaconda3/lib/python3.7/site-packages (from dm-sonnet==1.23) (0.8.1)\n",
            "Requirement already satisfied, skipping upgrade: six in /Users/jyoti/anaconda3/lib/python3.7/site-packages (from dm-sonnet==1.23) (1.12.0)\n",
            "Requirement already up-to-date: tensorflow-probability in /Users/jyoti/anaconda3/lib/python3.7/site-packages (0.9.0)\n",
            "Requirement already satisfied, skipping upgrade: gast>=0.2 in /Users/jyoti/anaconda3/lib/python3.7/site-packages (from tensorflow-probability) (0.2.2)\n",
            "Requirement already satisfied, skipping upgrade: six>=1.10.0 in /Users/jyoti/anaconda3/lib/python3.7/site-packages (from tensorflow-probability) (1.12.0)\n",
            "Requirement already satisfied, skipping upgrade: numpy>=1.13.3 in /Users/jyoti/anaconda3/lib/python3.7/site-packages (from tensorflow-probability) (1.16.4)\n",
            "Requirement already satisfied, skipping upgrade: decorator in /Users/jyoti/anaconda3/lib/python3.7/site-packages (from tensorflow-probability) (4.4.0)\n",
            "Requirement already satisfied, skipping upgrade: cloudpickle>=1.2.2 in /Users/jyoti/anaconda3/lib/python3.7/site-packages (from tensorflow-probability) (1.3.0)\n",
            "Collecting tensorflow==2.0.0\n",
            "  Using cached https://files.pythonhosted.org/packages/2c/72/6b3264aa2889b7dde7663464b99587d95cd6a5f3b9b30181f14d78a63e64/tensorflow-2.0.0-cp37-cp37m-macosx_10_11_x86_64.whl\n",
            "Requirement already satisfied: keras-applications>=1.0.8 in /Users/jyoti/anaconda3/lib/python3.7/site-packages (from tensorflow==2.0.0) (1.0.8)\n",
            "Requirement already satisfied: tensorboard<2.1.0,>=2.0.0 in /Users/jyoti/anaconda3/lib/python3.7/site-packages (from tensorflow==2.0.0) (2.0.2)\n",
            "Requirement already satisfied: numpy<2.0,>=1.16.0 in /Users/jyoti/anaconda3/lib/python3.7/site-packages (from tensorflow==2.0.0) (1.16.4)\n",
            "Requirement already satisfied: wheel>=0.26 in /Users/jyoti/anaconda3/lib/python3.7/site-packages (from tensorflow==2.0.0) (0.33.4)\n",
            "Requirement already satisfied: google-pasta>=0.1.6 in /Users/jyoti/anaconda3/lib/python3.7/site-packages (from tensorflow==2.0.0) (0.1.7)\n",
            "Requirement already satisfied: termcolor>=1.1.0 in /Users/jyoti/anaconda3/lib/python3.7/site-packages (from tensorflow==2.0.0) (1.1.0)\n",
            "Requirement already satisfied: wrapt>=1.11.1 in /Users/jyoti/anaconda3/lib/python3.7/site-packages (from tensorflow==2.0.0) (1.11.2)\n",
            "Requirement already satisfied: protobuf>=3.6.1 in /Users/jyoti/anaconda3/lib/python3.7/site-packages (from tensorflow==2.0.0) (3.10.0)\n",
            "Requirement already satisfied: tensorflow-estimator<2.1.0,>=2.0.0 in /Users/jyoti/anaconda3/lib/python3.7/site-packages (from tensorflow==2.0.0) (2.0.1)\n",
            "Requirement already satisfied: six>=1.10.0 in /Users/jyoti/anaconda3/lib/python3.7/site-packages (from tensorflow==2.0.0) (1.12.0)\n",
            "Requirement already satisfied: opt-einsum>=2.3.2 in /Users/jyoti/anaconda3/lib/python3.7/site-packages (from tensorflow==2.0.0) (3.1.0)\n",
            "Requirement already satisfied: astor>=0.6.0 in /Users/jyoti/anaconda3/lib/python3.7/site-packages (from tensorflow==2.0.0) (0.8.0)\n",
            "Requirement already satisfied: absl-py>=0.7.0 in /Users/jyoti/anaconda3/lib/python3.7/site-packages (from tensorflow==2.0.0) (0.8.1)\n",
            "Requirement already satisfied: keras-preprocessing>=1.0.5 in /Users/jyoti/anaconda3/lib/python3.7/site-packages (from tensorflow==2.0.0) (1.1.0)\n",
            "Requirement already satisfied: gast==0.2.2 in /Users/jyoti/anaconda3/lib/python3.7/site-packages (from tensorflow==2.0.0) (0.2.2)\n",
            "Requirement already satisfied: grpcio>=1.8.6 in /Users/jyoti/anaconda3/lib/python3.7/site-packages (from tensorflow==2.0.0) (1.24.1)\n",
            "Requirement already satisfied: h5py in /Users/jyoti/anaconda3/lib/python3.7/site-packages (from keras-applications>=1.0.8->tensorflow==2.0.0) (2.9.0)\n",
            "Requirement already satisfied: markdown>=2.6.8 in /Users/jyoti/anaconda3/lib/python3.7/site-packages (from tensorboard<2.1.0,>=2.0.0->tensorflow==2.0.0) (3.1.1)\n",
            "Requirement already satisfied: setuptools>=41.0.0 in /Users/jyoti/anaconda3/lib/python3.7/site-packages (from tensorboard<2.1.0,>=2.0.0->tensorflow==2.0.0) (41.0.1)\n",
            "Requirement already satisfied: google-auth-oauthlib<0.5,>=0.4.1 in /Users/jyoti/anaconda3/lib/python3.7/site-packages (from tensorboard<2.1.0,>=2.0.0->tensorflow==2.0.0) (0.4.1)\n",
            "Requirement already satisfied: werkzeug>=0.11.15 in /Users/jyoti/anaconda3/lib/python3.7/site-packages (from tensorboard<2.1.0,>=2.0.0->tensorflow==2.0.0) (0.15.4)\n",
            "Requirement already satisfied: requests<3,>=2.21.0 in /Users/jyoti/anaconda3/lib/python3.7/site-packages (from tensorboard<2.1.0,>=2.0.0->tensorflow==2.0.0) (2.22.0)\n",
            "Requirement already satisfied: google-auth<2,>=1.6.3 in /Users/jyoti/anaconda3/lib/python3.7/site-packages (from tensorboard<2.1.0,>=2.0.0->tensorflow==2.0.0) (1.14.1)\n",
            "Requirement already satisfied: requests-oauthlib>=0.7.0 in /Users/jyoti/anaconda3/lib/python3.7/site-packages (from google-auth-oauthlib<0.5,>=0.4.1->tensorboard<2.1.0,>=2.0.0->tensorflow==2.0.0) (1.3.0)\n",
            "Requirement already satisfied: certifi>=2017.4.17 in /Users/jyoti/anaconda3/lib/python3.7/site-packages (from requests<3,>=2.21.0->tensorboard<2.1.0,>=2.0.0->tensorflow==2.0.0) (2019.6.16)\n",
            "Requirement already satisfied: idna<2.9,>=2.5 in /Users/jyoti/anaconda3/lib/python3.7/site-packages (from requests<3,>=2.21.0->tensorboard<2.1.0,>=2.0.0->tensorflow==2.0.0) (2.8)\n",
            "Requirement already satisfied: urllib3!=1.25.0,!=1.25.1,<1.26,>=1.21.1 in /Users/jyoti/anaconda3/lib/python3.7/site-packages (from requests<3,>=2.21.0->tensorboard<2.1.0,>=2.0.0->tensorflow==2.0.0) (1.24.2)\n",
            "Requirement already satisfied: chardet<3.1.0,>=3.0.2 in /Users/jyoti/anaconda3/lib/python3.7/site-packages (from requests<3,>=2.21.0->tensorboard<2.1.0,>=2.0.0->tensorflow==2.0.0) (3.0.4)\n",
            "Requirement already satisfied: rsa<4.1,>=3.1.4 in /Users/jyoti/anaconda3/lib/python3.7/site-packages (from google-auth<2,>=1.6.3->tensorboard<2.1.0,>=2.0.0->tensorflow==2.0.0) (4.0)\n",
            "Requirement already satisfied: pyasn1-modules>=0.2.1 in /Users/jyoti/anaconda3/lib/python3.7/site-packages (from google-auth<2,>=1.6.3->tensorboard<2.1.0,>=2.0.0->tensorflow==2.0.0) (0.2.8)\n",
            "Requirement already satisfied: cachetools<5.0,>=2.0.0 in /Users/jyoti/anaconda3/lib/python3.7/site-packages (from google-auth<2,>=1.6.3->tensorboard<2.1.0,>=2.0.0->tensorflow==2.0.0) (4.1.0)\n",
            "Requirement already satisfied: oauthlib>=3.0.0 in /Users/jyoti/anaconda3/lib/python3.7/site-packages (from requests-oauthlib>=0.7.0->google-auth-oauthlib<0.5,>=0.4.1->tensorboard<2.1.0,>=2.0.0->tensorflow==2.0.0) (3.1.0)\n",
            "Requirement already satisfied: pyasn1>=0.1.3 in /Users/jyoti/anaconda3/lib/python3.7/site-packages (from rsa<4.1,>=3.1.4->google-auth<2,>=1.6.3->tensorboard<2.1.0,>=2.0.0->tensorflow==2.0.0) (0.4.8)\n",
            "Installing collected packages: tensorflow\n",
            "Successfully installed tensorflow-2.0.0\n"
          ],
          "name": "stdout"
        }
      ]
    },
    {
      "cell_type": "markdown",
      "metadata": {
        "id": "CW9BVHkuYqaX",
        "colab_type": "text"
      },
      "source": [
        "<h3> Importing</h3>"
      ]
    },
    {
      "cell_type": "code",
      "metadata": {
        "id": "rk9fzM6rYqaY",
        "colab_type": "code",
        "colab": {},
        "outputId": "0436fed6-092a-44eb-df91-d8d55081edc7"
      },
      "source": [
        "import input_data\n",
        "import numpy as np\n",
        "import tensorflow as tf\n",
        "import matplotlib.pyplot as plt\n",
        "import tensorflow.compat.v1 as tf\n",
        "tf.disable_v2_behavior()"
      ],
      "execution_count": null,
      "outputs": [
        {
          "output_type": "stream",
          "text": [
            "WARNING:tensorflow:From /Users/jyoti/anaconda3/lib/python3.7/site-packages/tensorflow_core/python/compat/v2_compat.py:65: disable_resource_variables (from tensorflow.python.ops.variable_scope) is deprecated and will be removed in a future version.\n",
            "Instructions for updating:\n",
            "non-resource variables are not supported in the long term\n"
          ],
          "name": "stdout"
        }
      ]
    },
    {
      "cell_type": "markdown",
      "metadata": {
        "id": "jE8vct3fYqab",
        "colab_type": "text"
      },
      "source": [
        "<h3> Importing dataset</h3>"
      ]
    },
    {
      "cell_type": "code",
      "metadata": {
        "id": "tg72Z-NcYqac",
        "colab_type": "code",
        "colab": {},
        "outputId": "477980d2-d5db-4ec8-897d-26b97345fc5e"
      },
      "source": [
        "mnist=input_data.read_data_sets(\"MNIST_data/\",one_hot=True)\n",
        "train_X, train_Y, test_X, test_Y = mnist.train.images, mnist.train.labels, mnist.test.images, mnist.test.labels"
      ],
      "execution_count": null,
      "outputs": [
        {
          "output_type": "stream",
          "text": [
            "WARNING:tensorflow:From <ipython-input-3-2cf396ef0b1e>:1: read_data_sets (from input_data) is deprecated and will be removed in a future version.\n",
            "Instructions for updating:\n",
            "Please use alternatives such as: tensorflow_datasets.load('mnist')\n",
            "WARNING:tensorflow:From /Users/jyoti/Desktop/PRnew/input_data.py:297: _maybe_download (from input_data) is deprecated and will be removed in a future version.\n",
            "Instructions for updating:\n",
            "Please write your own downloading logic.\n",
            "Successfully downloaded train-images-idx3-ubyte.gz 9912422 bytes.\n",
            "WARNING:tensorflow:From /Users/jyoti/Desktop/PRnew/input_data.py:299: _extract_images (from input_data) is deprecated and will be removed in a future version.\n",
            "Instructions for updating:\n",
            "Please use tf.data to implement this functionality.\n",
            "Extracting MNIST_data/train-images-idx3-ubyte.gz\n",
            "WARNING:tensorflow:From /Users/jyoti/Desktop/PRnew/input_data.py:304: _extract_labels (from input_data) is deprecated and will be removed in a future version.\n",
            "Instructions for updating:\n",
            "Please use tf.data to implement this functionality.\n",
            "Extracting MNIST_data/train-labels-idx1-ubyte.gz\n",
            "WARNING:tensorflow:From /Users/jyoti/Desktop/PRnew/input_data.py:112: _dense_to_one_hot (from input_data) is deprecated and will be removed in a future version.\n",
            "Instructions for updating:\n",
            "Please use tf.one_hot on tensors.\n",
            "Extracting MNIST_data/t10k-images-idx3-ubyte.gz\n",
            "Extracting MNIST_data/t10k-labels-idx1-ubyte.gz\n",
            "WARNING:tensorflow:From /Users/jyoti/Desktop/PRnew/input_data.py:328: _DataSet.__init__ (from input_data) is deprecated and will be removed in a future version.\n",
            "Instructions for updating:\n",
            "Please use alternatives such as official/mnist/_DataSet.py from tensorflow/models.\n"
          ],
          "name": "stdout"
        }
      ]
    },
    {
      "cell_type": "markdown",
      "metadata": {
        "id": "FTcE4xinYqai",
        "colab_type": "text"
      },
      "source": [
        "<h3>Displaying some digits</h3>"
      ]
    },
    {
      "cell_type": "code",
      "metadata": {
        "id": "qQOliFi8Yqai",
        "colab_type": "code",
        "colab": {},
        "outputId": "0f24d056-c644-42c3-f7dd-4481a37ba7b5"
      },
      "source": [
        "img = mnist.train.images[5]\n",
        "plt.imshow(img.reshape((28, 28)), cmap='Greys_r')"
      ],
      "execution_count": null,
      "outputs": [
        {
          "output_type": "execute_result",
          "data": {
            "text/plain": [
              "<matplotlib.image.AxesImage at 0x10d92cf28>"
            ]
          },
          "metadata": {
            "tags": []
          },
          "execution_count": 4
        },
        {
          "output_type": "display_data",
          "data": {
            "image/png": "[encoded data removed]",
            "text/plain": [
              "<Figure size 432x288 with 1 Axes>"
            ]
          },
          "metadata": {
            "tags": [],
            "needs_background": "light"
          }
        }
      ]
    },
    {
      "cell_type": "code",
      "metadata": {
        "id": "PyTxW0JUYqam",
        "colab_type": "code",
        "colab": {},
        "outputId": "a65bbffa-9636-4fdd-9969-851166f3be39"
      },
      "source": [
        "img = mnist.train.images[8]\n",
        "plt.imshow(img.reshape((28, 28)), cmap='Greys_r')"
      ],
      "execution_count": null,
      "outputs": [
        {
          "output_type": "execute_result",
          "data": {
            "text/plain": [
              "<matplotlib.image.AxesImage at 0x1335379e8>"
            ]
          },
          "metadata": {
            "tags": []
          },
          "execution_count": 5
        },
        {
          "output_type": "display_data",
          "data": {
            "image/png": "[encoded data removed]",
            "text/plain": [
              "<Figure size 432x288 with 1 Axes>"
            ]
          },
          "metadata": {
            "tags": [],
            "needs_background": "light"
          }
        }
      ]
    },
    {
      "cell_type": "markdown",
      "metadata": {
        "id": "JMENX3zHYqap",
        "colab_type": "text"
      },
      "source": [
        "<h3>Encoding</h3>"
      ]
    },
    {
      "cell_type": "code",
      "metadata": {
        "id": "H48nz8MXYqaq",
        "colab_type": "code",
        "colab": {},
        "outputId": "57045b38-4e65-496d-ab23-a2064103805a"
      },
      "source": [
        "inputs_dim = tf.placeholder(tf.float32, (None, 28, 28, 1), name='input_dim')\n",
        "output = tf.placeholder(tf.float32, (None, 28, 28, 1), name='output')\n",
        "convoluion1 = tf.keras.layers.Conv2D(16, (3, 3), activation='relu', padding='same')(inputs_dim)\n",
        "maxpooling1 = tf.keras.layers.MaxPooling2D((2, 2), padding='same')(convoluion1)\n",
        "convoluion2 = tf.keras.layers.Conv2D(8, (3, 3), activation='relu', padding='same')(maxpooling1)\n",
        "maxpooling2 = tf.keras.layers.MaxPooling2D((2, 2), padding='same')(convoluion2)\n",
        "convoluion3 = tf.keras.layers.Conv2D(8, (3, 3), activation='relu', padding='same')(maxpooling2)\n",
        "encoded = tf.keras.layers.MaxPooling2D((2, 2), padding='same')(convoluion3) "
      ],
      "execution_count": null,
      "outputs": [
        {
          "output_type": "stream",
          "text": [
            "WARNING:tensorflow:From /Users/jyoti/anaconda3/lib/python3.7/site-packages/tensorflow_core/python/ops/resource_variable_ops.py:1630: calling BaseResourceVariable.__init__ (from tensorflow.python.ops.resource_variable_ops) with constraint is deprecated and will be removed in a future version.\n",
            "Instructions for updating:\n",
            "If using Keras pass *_constraint arguments to layers.\n"
          ],
          "name": "stdout"
        }
      ]
    },
    {
      "cell_type": "markdown",
      "metadata": {
        "id": "77JkKdhnYqau",
        "colab_type": "text"
      },
      "source": [
        "<h3> Decoding</h3>"
      ]
    },
    {
      "cell_type": "code",
      "metadata": {
        "id": "eGY2cAjaYqav",
        "colab_type": "code",
        "colab": {}
      },
      "source": [
        "convoluion4= tf.keras.layers.Conv2D(8, (3, 3), activation='relu', padding='same')(encoded)\n",
        "upsample1 = tf.keras.layers.UpSampling2D((2, 2))(convoluion4)\n",
        "convoluion5 = tf.keras.layers.Conv2D(8, (3, 3), activation='relu', padding='same')(upsample1 )\n",
        "upsample2 = tf.keras.layers.UpSampling2D((2, 2))(convoluion5)\n",
        "convoluion6 = tf.keras.layers.Conv2D(16, (3, 3), activation='relu')(upsample2)\n",
        "upsample3 = tf.keras.layers.UpSampling2D((2, 2))(convoluion6)\n",
        "convolution7 = tf.keras.layers.Conv2D(1, (3, 3), activation='sigmoid', padding='same')(upsample3 )"
      ],
      "execution_count": null,
      "outputs": []
    },
    {
      "cell_type": "markdown",
      "metadata": {
        "id": "PQ9N6iT5Yqay",
        "colab_type": "text"
      },
      "source": [
        "<h3>Calculation of error,opt and cost</h3>"
      ]
    },
    {
      "cell_type": "code",
      "metadata": {
        "id": "goI5xkgaYqaz",
        "colab_type": "code",
        "colab": {}
      },
      "source": [
        "loss= tf.losses.mean_squared_error(output,convolution7 )\n",
        "cost = tf.reduce_mean(loss)\n",
        "opt = tf.train.AdamOptimizer(0.001).minimize(cost)"
      ],
      "execution_count": null,
      "outputs": []
    },
    {
      "cell_type": "code",
      "metadata": {
        "id": "VV5DxT07Yqa1",
        "colab_type": "code",
        "colab": {}
      },
      "source": [
        "sess = tf.Session()"
      ],
      "execution_count": null,
      "outputs": []
    },
    {
      "cell_type": "code",
      "metadata": {
        "id": "Fnw-3_3DYqa5",
        "colab_type": "code",
        "colab": {},
        "outputId": "8177b306-abb9-4567-d948-0bfa7e72745b"
      },
      "source": [
        "batchsize = 200\n",
        "epochs=2\n",
        "sess.run(tf.global_variables_initializer())\n",
        "for a in range(epochs):\n",
        "    for b in range(mnist.train.num_examples//batchsize):\n",
        "        batch_dim = mnist.train.next_batch(batchsize)\n",
        "        image_dim = batch_dim[0].reshape((-1, 28, 28, 1))\n",
        "        costbatch, _ = sess.run([cost, opt], feed_dict={inputs_dim: image_dim ,output: image_dim })\n",
        "        print(\"Epoch: {}/{}...\".format(a+1, epochs),\"Training loss: {:.4f}\".format(costbatch))"
      ],
      "execution_count": null,
      "outputs": [
        {
          "output_type": "stream",
          "text": [
            "Epoch: 1/2... Training loss: 0.2333\n",
            "Epoch: 1/2... Training loss: 0.2307\n",
            "Epoch: 1/2... Training loss: 0.2286\n",
            "Epoch: 1/2... Training loss: 0.2274\n",
            "Epoch: 1/2... Training loss: 0.2246\n",
            "Epoch: 1/2... Training loss: 0.2216\n",
            "Epoch: 1/2... Training loss: 0.2175\n",
            "Epoch: 1/2... Training loss: 0.2133\n",
            "Epoch: 1/2... Training loss: 0.2077\n",
            "Epoch: 1/2... Training loss: 0.2007\n",
            "Epoch: 1/2... Training loss: 0.1913\n",
            "Epoch: 1/2... Training loss: 0.1831\n",
            "Epoch: 1/2... Training loss: 0.1721\n",
            "Epoch: 1/2... Training loss: 0.1611\n",
            "Epoch: 1/2... Training loss: 0.1504\n",
            "Epoch: 1/2... Training loss: 0.1421\n",
            "Epoch: 1/2... Training loss: 0.1316\n",
            "Epoch: 1/2... Training loss: 0.1245\n",
            "Epoch: 1/2... Training loss: 0.1255\n",
            "Epoch: 1/2... Training loss: 0.1189\n",
            "Epoch: 1/2... Training loss: 0.1198\n",
            "Epoch: 1/2... Training loss: 0.1206\n",
            "Epoch: 1/2... Training loss: 0.1205\n",
            "Epoch: 1/2... Training loss: 0.1131\n",
            "Epoch: 1/2... Training loss: 0.1144\n",
            "Epoch: 1/2... Training loss: 0.1160\n",
            "Epoch: 1/2... Training loss: 0.1146\n",
            "Epoch: 1/2... Training loss: 0.1139\n",
            "Epoch: 1/2... Training loss: 0.1066\n",
            "Epoch: 1/2... Training loss: 0.1150\n",
            "Epoch: 1/2... Training loss: 0.1138\n",
            "Epoch: 1/2... Training loss: 0.1129\n",
            "Epoch: 1/2... Training loss: 0.1133\n",
            "Epoch: 1/2... Training loss: 0.1192\n",
            "Epoch: 1/2... Training loss: 0.1196\n",
            "Epoch: 1/2... Training loss: 0.1138\n",
            "Epoch: 1/2... Training loss: 0.1107\n",
            "Epoch: 1/2... Training loss: 0.1132\n",
            "Epoch: 1/2... Training loss: 0.1098\n",
            "Epoch: 1/2... Training loss: 0.1107\n",
            "Epoch: 1/2... Training loss: 0.1165\n",
            "Epoch: 1/2... Training loss: 0.1078\n",
            "Epoch: 1/2... Training loss: 0.1075\n",
            "Epoch: 1/2... Training loss: 0.1102\n",
            "Epoch: 1/2... Training loss: 0.1152\n",
            "Epoch: 1/2... Training loss: 0.1134\n",
            "Epoch: 1/2... Training loss: 0.1145\n",
            "Epoch: 1/2... Training loss: 0.1109\n",
            "Epoch: 1/2... Training loss: 0.1096\n",
            "Epoch: 1/2... Training loss: 0.1111\n",
            "Epoch: 1/2... Training loss: 0.1092\n",
            "Epoch: 1/2... Training loss: 0.1131\n",
            "Epoch: 1/2... Training loss: 0.1167\n",
            "Epoch: 1/2... Training loss: 0.1182\n",
            "Epoch: 1/2... Training loss: 0.1106\n",
            "Epoch: 1/2... Training loss: 0.1132\n",
            "Epoch: 1/2... Training loss: 0.1116\n",
            "Epoch: 1/2... Training loss: 0.1121\n",
            "Epoch: 1/2... Training loss: 0.1112\n",
            "Epoch: 1/2... Training loss: 0.1114\n",
            "Epoch: 1/2... Training loss: 0.1100\n",
            "Epoch: 1/2... Training loss: 0.1104\n",
            "Epoch: 1/2... Training loss: 0.1119\n",
            "Epoch: 1/2... Training loss: 0.1129\n",
            "Epoch: 1/2... Training loss: 0.1101\n",
            "Epoch: 1/2... Training loss: 0.1151\n",
            "Epoch: 1/2... Training loss: 0.1093\n",
            "Epoch: 1/2... Training loss: 0.1143\n",
            "Epoch: 1/2... Training loss: 0.1103\n",
            "Epoch: 1/2... Training loss: 0.1135\n",
            "Epoch: 1/2... Training loss: 0.1155\n",
            "Epoch: 1/2... Training loss: 0.1126\n",
            "Epoch: 1/2... Training loss: 0.1112\n",
            "Epoch: 1/2... Training loss: 0.1171\n",
            "Epoch: 1/2... Training loss: 0.1106\n",
            "Epoch: 1/2... Training loss: 0.1101\n",
            "Epoch: 1/2... Training loss: 0.1128\n",
            "Epoch: 1/2... Training loss: 0.1194\n",
            "Epoch: 1/2... Training loss: 0.1112\n",
            "Epoch: 1/2... Training loss: 0.1131\n",
            "Epoch: 1/2... Training loss: 0.1115\n",
            "Epoch: 1/2... Training loss: 0.1110\n",
            "Epoch: 1/2... Training loss: 0.1133\n",
            "Epoch: 1/2... Training loss: 0.1125\n",
            "Epoch: 1/2... Training loss: 0.1121\n",
            "Epoch: 1/2... Training loss: 0.1156\n",
            "Epoch: 1/2... Training loss: 0.1154\n",
            "Epoch: 1/2... Training loss: 0.1088\n",
            "Epoch: 1/2... Training loss: 0.1092\n",
            "Epoch: 1/2... Training loss: 0.1095\n",
            "Epoch: 1/2... Training loss: 0.1116\n",
            "Epoch: 1/2... Training loss: 0.1109\n",
            "Epoch: 1/2... Training loss: 0.1114\n",
            "Epoch: 1/2... Training loss: 0.1116\n",
            "Epoch: 1/2... Training loss: 0.1109\n",
            "Epoch: 1/2... Training loss: 0.1078\n",
            "Epoch: 1/2... Training loss: 0.1129\n",
            "Epoch: 1/2... Training loss: 0.1137\n",
            "Epoch: 1/2... Training loss: 0.1111\n",
            "Epoch: 1/2... Training loss: 0.1098\n",
            "Epoch: 1/2... Training loss: 0.1141\n",
            "Epoch: 1/2... Training loss: 0.1074\n",
            "Epoch: 1/2... Training loss: 0.1103\n",
            "Epoch: 1/2... Training loss: 0.1118\n",
            "Epoch: 1/2... Training loss: 0.1121\n",
            "Epoch: 1/2... Training loss: 0.1108\n",
            "Epoch: 1/2... Training loss: 0.1083\n",
            "Epoch: 1/2... Training loss: 0.1167\n",
            "Epoch: 1/2... Training loss: 0.1084\n",
            "Epoch: 1/2... Training loss: 0.1139\n",
            "Epoch: 1/2... Training loss: 0.1089\n",
            "Epoch: 1/2... Training loss: 0.1120\n",
            "Epoch: 1/2... Training loss: 0.1138\n",
            "Epoch: 1/2... Training loss: 0.1115\n",
            "Epoch: 1/2... Training loss: 0.1119\n",
            "Epoch: 1/2... Training loss: 0.1192\n",
            "Epoch: 1/2... Training loss: 0.1099\n",
            "Epoch: 1/2... Training loss: 0.1048\n",
            "Epoch: 1/2... Training loss: 0.1105\n",
            "Epoch: 1/2... Training loss: 0.1109\n",
            "Epoch: 1/2... Training loss: 0.1078\n",
            "Epoch: 1/2... Training loss: 0.1150\n",
            "Epoch: 1/2... Training loss: 0.1072\n",
            "Epoch: 1/2... Training loss: 0.1051\n",
            "Epoch: 1/2... Training loss: 0.1133\n",
            "Epoch: 1/2... Training loss: 0.1065\n",
            "Epoch: 1/2... Training loss: 0.1123\n",
            "Epoch: 1/2... Training loss: 0.1144\n",
            "Epoch: 1/2... Training loss: 0.1121\n",
            "Epoch: 1/2... Training loss: 0.1183\n",
            "Epoch: 1/2... Training loss: 0.1095\n",
            "Epoch: 1/2... Training loss: 0.1112\n",
            "Epoch: 1/2... Training loss: 0.1120\n",
            "Epoch: 1/2... Training loss: 0.1122\n",
            "Epoch: 1/2... Training loss: 0.1037\n",
            "Epoch: 1/2... Training loss: 0.1126\n",
            "Epoch: 1/2... Training loss: 0.1111\n",
            "Epoch: 1/2... Training loss: 0.1117\n",
            "Epoch: 1/2... Training loss: 0.1095\n",
            "Epoch: 1/2... Training loss: 0.1130\n",
            "Epoch: 1/2... Training loss: 0.1108\n",
            "Epoch: 1/2... Training loss: 0.1053\n",
            "Epoch: 1/2... Training loss: 0.1097\n",
            "Epoch: 1/2... Training loss: 0.1162\n",
            "Epoch: 1/2... Training loss: 0.1125\n",
            "Epoch: 1/2... Training loss: 0.1079\n",
            "Epoch: 1/2... Training loss: 0.1132\n",
            "Epoch: 1/2... Training loss: 0.1131\n",
            "Epoch: 1/2... Training loss: 0.1110\n",
            "Epoch: 1/2... Training loss: 0.1149\n",
            "Epoch: 1/2... Training loss: 0.1136\n",
            "Epoch: 1/2... Training loss: 0.1172\n",
            "Epoch: 1/2... Training loss: 0.1126\n",
            "Epoch: 1/2... Training loss: 0.1130\n",
            "Epoch: 1/2... Training loss: 0.1056\n",
            "Epoch: 1/2... Training loss: 0.1117\n",
            "Epoch: 1/2... Training loss: 0.1146\n",
            "Epoch: 1/2... Training loss: 0.1110\n",
            "Epoch: 1/2... Training loss: 0.1118\n",
            "Epoch: 1/2... Training loss: 0.1101\n",
            "Epoch: 1/2... Training loss: 0.1127\n",
            "Epoch: 1/2... Training loss: 0.1187\n",
            "Epoch: 1/2... Training loss: 0.1133\n",
            "Epoch: 1/2... Training loss: 0.1108\n",
            "Epoch: 1/2... Training loss: 0.1131\n",
            "Epoch: 1/2... Training loss: 0.1149\n",
            "Epoch: 1/2... Training loss: 0.1115\n",
            "Epoch: 1/2... Training loss: 0.1148\n",
            "Epoch: 1/2... Training loss: 0.1130\n",
            "Epoch: 1/2... Training loss: 0.1083\n",
            "Epoch: 1/2... Training loss: 0.1101\n",
            "Epoch: 1/2... Training loss: 0.1124\n",
            "Epoch: 1/2... Training loss: 0.1087\n",
            "Epoch: 1/2... Training loss: 0.1111\n",
            "Epoch: 1/2... Training loss: 0.1099\n",
            "Epoch: 1/2... Training loss: 0.1129\n",
            "Epoch: 1/2... Training loss: 0.1135\n",
            "Epoch: 1/2... Training loss: 0.1141\n",
            "Epoch: 1/2... Training loss: 0.1091\n",
            "Epoch: 1/2... Training loss: 0.1129\n",
            "Epoch: 1/2... Training loss: 0.1175\n",
            "Epoch: 1/2... Training loss: 0.1110\n",
            "Epoch: 1/2... Training loss: 0.1058\n",
            "Epoch: 1/2... Training loss: 0.1107\n",
            "Epoch: 1/2... Training loss: 0.1118\n",
            "Epoch: 1/2... Training loss: 0.1113\n",
            "Epoch: 1/2... Training loss: 0.1094\n",
            "Epoch: 1/2... Training loss: 0.1067\n",
            "Epoch: 1/2... Training loss: 0.1162\n",
            "Epoch: 1/2... Training loss: 0.1071\n",
            "Epoch: 1/2... Training loss: 0.1115\n",
            "Epoch: 1/2... Training loss: 0.1147\n",
            "Epoch: 1/2... Training loss: 0.1107\n",
            "Epoch: 1/2... Training loss: 0.1098\n",
            "Epoch: 1/2... Training loss: 0.1112\n",
            "Epoch: 1/2... Training loss: 0.1131\n",
            "Epoch: 1/2... Training loss: 0.1133\n",
            "Epoch: 1/2... Training loss: 0.1113\n",
            "Epoch: 1/2... Training loss: 0.1129\n",
            "Epoch: 1/2... Training loss: 0.1062\n",
            "Epoch: 1/2... Training loss: 0.1115\n",
            "Epoch: 1/2... Training loss: 0.1126\n",
            "Epoch: 1/2... Training loss: 0.1147\n",
            "Epoch: 1/2... Training loss: 0.1161\n",
            "Epoch: 1/2... Training loss: 0.1164\n",
            "Epoch: 1/2... Training loss: 0.1114\n",
            "Epoch: 1/2... Training loss: 0.1144\n",
            "Epoch: 1/2... Training loss: 0.1120\n",
            "Epoch: 1/2... Training loss: 0.1098\n",
            "Epoch: 1/2... Training loss: 0.1092\n",
            "Epoch: 1/2... Training loss: 0.1062\n",
            "Epoch: 1/2... Training loss: 0.1071\n",
            "Epoch: 1/2... Training loss: 0.1088\n",
            "Epoch: 1/2... Training loss: 0.1089\n",
            "Epoch: 1/2... Training loss: 0.1105\n",
            "Epoch: 1/2... Training loss: 0.1152\n",
            "Epoch: 1/2... Training loss: 0.1111\n",
            "Epoch: 1/2... Training loss: 0.1113\n",
            "Epoch: 1/2... Training loss: 0.1133\n",
            "Epoch: 1/2... Training loss: 0.1103\n",
            "Epoch: 1/2... Training loss: 0.1149\n",
            "Epoch: 1/2... Training loss: 0.1127\n",
            "Epoch: 1/2... Training loss: 0.1125\n",
            "Epoch: 1/2... Training loss: 0.1132\n",
            "Epoch: 1/2... Training loss: 0.1158\n",
            "Epoch: 1/2... Training loss: 0.1186\n",
            "Epoch: 1/2... Training loss: 0.1113\n",
            "Epoch: 1/2... Training loss: 0.1110\n",
            "Epoch: 1/2... Training loss: 0.1172\n",
            "Epoch: 1/2... Training loss: 0.1071\n",
            "Epoch: 1/2... Training loss: 0.1095\n",
            "Epoch: 1/2... Training loss: 0.1104\n",
            "Epoch: 1/2... Training loss: 0.1159\n",
            "Epoch: 1/2... Training loss: 0.1116\n",
            "Epoch: 1/2... Training loss: 0.1129\n",
            "Epoch: 1/2... Training loss: 0.1114\n",
            "Epoch: 1/2... Training loss: 0.1123\n",
            "Epoch: 1/2... Training loss: 0.1167\n",
            "Epoch: 1/2... Training loss: 0.1092\n",
            "Epoch: 1/2... Training loss: 0.1128\n",
            "Epoch: 1/2... Training loss: 0.1117\n",
            "Epoch: 1/2... Training loss: 0.1151\n",
            "Epoch: 1/2... Training loss: 0.1175\n",
            "Epoch: 1/2... Training loss: 0.1093\n",
            "Epoch: 1/2... Training loss: 0.1111\n",
            "Epoch: 1/2... Training loss: 0.1157\n",
            "Epoch: 1/2... Training loss: 0.1115\n",
            "Epoch: 1/2... Training loss: 0.1130\n",
            "Epoch: 1/2... Training loss: 0.1169\n",
            "Epoch: 1/2... Training loss: 0.1084\n",
            "Epoch: 1/2... Training loss: 0.1058\n",
            "Epoch: 1/2... Training loss: 0.1120\n",
            "Epoch: 1/2... Training loss: 0.1139\n",
            "Epoch: 1/2... Training loss: 0.1141\n",
            "Epoch: 1/2... Training loss: 0.1101\n",
            "Epoch: 1/2... Training loss: 0.1098\n",
            "Epoch: 1/2... Training loss: 0.1125\n",
            "Epoch: 1/2... Training loss: 0.1158\n",
            "Epoch: 1/2... Training loss: 0.1129\n",
            "Epoch: 1/2... Training loss: 0.1124\n",
            "Epoch: 1/2... Training loss: 0.1180\n",
            "Epoch: 1/2... Training loss: 0.1117\n",
            "Epoch: 1/2... Training loss: 0.1127\n",
            "Epoch: 1/2... Training loss: 0.1134\n",
            "Epoch: 1/2... Training loss: 0.1104\n",
            "Epoch: 1/2... Training loss: 0.1138\n",
            "Epoch: 1/2... Training loss: 0.1176\n",
            "Epoch: 1/2... Training loss: 0.1129\n",
            "Epoch: 1/2... Training loss: 0.1128\n",
            "Epoch: 1/2... Training loss: 0.1104\n",
            "Epoch: 1/2... Training loss: 0.1191\n",
            "Epoch: 1/2... Training loss: 0.1151\n",
            "Epoch: 1/2... Training loss: 0.1118\n",
            "Epoch: 1/2... Training loss: 0.1128\n",
            "Epoch: 1/2... Training loss: 0.1117\n",
            "Epoch: 2/2... Training loss: 0.1134\n",
            "Epoch: 2/2... Training loss: 0.1104\n",
            "Epoch: 2/2... Training loss: 0.1086\n",
            "Epoch: 2/2... Training loss: 0.1133\n",
            "Epoch: 2/2... Training loss: 0.1152\n",
            "Epoch: 2/2... Training loss: 0.1127\n",
            "Epoch: 2/2... Training loss: 0.1167\n",
            "Epoch: 2/2... Training loss: 0.1099\n",
            "Epoch: 2/2... Training loss: 0.1185\n",
            "Epoch: 2/2... Training loss: 0.1093\n",
            "Epoch: 2/2... Training loss: 0.1071\n",
            "Epoch: 2/2... Training loss: 0.1137\n",
            "Epoch: 2/2... Training loss: 0.1136\n",
            "Epoch: 2/2... Training loss: 0.1115\n",
            "Epoch: 2/2... Training loss: 0.1093\n",
            "Epoch: 2/2... Training loss: 0.1111\n",
            "Epoch: 2/2... Training loss: 0.1115\n",
            "Epoch: 2/2... Training loss: 0.1100\n",
            "Epoch: 2/2... Training loss: 0.1106\n",
            "Epoch: 2/2... Training loss: 0.1136\n",
            "Epoch: 2/2... Training loss: 0.1110\n",
            "Epoch: 2/2... Training loss: 0.1170\n",
            "Epoch: 2/2... Training loss: 0.1107\n",
            "Epoch: 2/2... Training loss: 0.1126\n",
            "Epoch: 2/2... Training loss: 0.1138\n",
            "Epoch: 2/2... Training loss: 0.1094\n",
            "Epoch: 2/2... Training loss: 0.1120\n",
            "Epoch: 2/2... Training loss: 0.1133\n",
            "Epoch: 2/2... Training loss: 0.1100\n",
            "Epoch: 2/2... Training loss: 0.1097\n",
            "Epoch: 2/2... Training loss: 0.1126\n",
            "Epoch: 2/2... Training loss: 0.1119\n",
            "Epoch: 2/2... Training loss: 0.1097\n",
            "Epoch: 2/2... Training loss: 0.1176\n",
            "Epoch: 2/2... Training loss: 0.1120\n",
            "Epoch: 2/2... Training loss: 0.1134\n",
            "Epoch: 2/2... Training loss: 0.1157\n",
            "Epoch: 2/2... Training loss: 0.1074\n",
            "Epoch: 2/2... Training loss: 0.1072\n",
            "Epoch: 2/2... Training loss: 0.1098\n",
            "Epoch: 2/2... Training loss: 0.1141\n",
            "Epoch: 2/2... Training loss: 0.1119\n",
            "Epoch: 2/2... Training loss: 0.1125\n",
            "Epoch: 2/2... Training loss: 0.1095\n",
            "Epoch: 2/2... Training loss: 0.1130\n",
            "Epoch: 2/2... Training loss: 0.1087\n",
            "Epoch: 2/2... Training loss: 0.1083\n",
            "Epoch: 2/2... Training loss: 0.1197\n",
            "Epoch: 2/2... Training loss: 0.1126\n",
            "Epoch: 2/2... Training loss: 0.1083\n",
            "Epoch: 2/2... Training loss: 0.1128\n",
            "Epoch: 2/2... Training loss: 0.1173\n",
            "Epoch: 2/2... Training loss: 0.1101\n",
            "Epoch: 2/2... Training loss: 0.1090\n",
            "Epoch: 2/2... Training loss: 0.1156\n",
            "Epoch: 2/2... Training loss: 0.1115\n",
            "Epoch: 2/2... Training loss: 0.1116\n",
            "Epoch: 2/2... Training loss: 0.1144\n",
            "Epoch: 2/2... Training loss: 0.1117\n",
            "Epoch: 2/2... Training loss: 0.1103\n",
            "Epoch: 2/2... Training loss: 0.1191\n",
            "Epoch: 2/2... Training loss: 0.1151\n",
            "Epoch: 2/2... Training loss: 0.1127\n",
            "Epoch: 2/2... Training loss: 0.1121\n",
            "Epoch: 2/2... Training loss: 0.1128\n",
            "Epoch: 2/2... Training loss: 0.1115\n",
            "Epoch: 2/2... Training loss: 0.1097\n",
            "Epoch: 2/2... Training loss: 0.1092\n",
            "Epoch: 2/2... Training loss: 0.1120\n",
            "Epoch: 2/2... Training loss: 0.1155\n",
            "Epoch: 2/2... Training loss: 0.1161\n",
            "Epoch: 2/2... Training loss: 0.1102\n",
            "Epoch: 2/2... Training loss: 0.1151\n",
            "Epoch: 2/2... Training loss: 0.1107\n",
            "Epoch: 2/2... Training loss: 0.1087\n",
            "Epoch: 2/2... Training loss: 0.1088\n",
            "Epoch: 2/2... Training loss: 0.1165\n",
            "Epoch: 2/2... Training loss: 0.1101\n",
            "Epoch: 2/2... Training loss: 0.1104\n",
            "Epoch: 2/2... Training loss: 0.1101\n",
            "Epoch: 2/2... Training loss: 0.1103\n",
            "Epoch: 2/2... Training loss: 0.1101\n",
            "Epoch: 2/2... Training loss: 0.1148\n",
            "Epoch: 2/2... Training loss: 0.1175\n",
            "Epoch: 2/2... Training loss: 0.1143\n",
            "Epoch: 2/2... Training loss: 0.1140\n",
            "Epoch: 2/2... Training loss: 0.1123\n",
            "Epoch: 2/2... Training loss: 0.1139\n",
            "Epoch: 2/2... Training loss: 0.1127\n",
            "Epoch: 2/2... Training loss: 0.1138\n",
            "Epoch: 2/2... Training loss: 0.1135\n",
            "Epoch: 2/2... Training loss: 0.1088\n",
            "Epoch: 2/2... Training loss: 0.1171\n",
            "Epoch: 2/2... Training loss: 0.1155\n",
            "Epoch: 2/2... Training loss: 0.1136\n",
            "Epoch: 2/2... Training loss: 0.1121\n",
            "Epoch: 2/2... Training loss: 0.1155\n",
            "Epoch: 2/2... Training loss: 0.1112\n",
            "Epoch: 2/2... Training loss: 0.1104\n",
            "Epoch: 2/2... Training loss: 0.1116\n",
            "Epoch: 2/2... Training loss: 0.1138\n",
            "Epoch: 2/2... Training loss: 0.1096\n",
            "Epoch: 2/2... Training loss: 0.1021\n",
            "Epoch: 2/2... Training loss: 0.1178\n",
            "Epoch: 2/2... Training loss: 0.1136\n",
            "Epoch: 2/2... Training loss: 0.1137\n",
            "Epoch: 2/2... Training loss: 0.1113\n",
            "Epoch: 2/2... Training loss: 0.1128\n",
            "Epoch: 2/2... Training loss: 0.1139\n",
            "Epoch: 2/2... Training loss: 0.1163\n",
            "Epoch: 2/2... Training loss: 0.1085\n",
            "Epoch: 2/2... Training loss: 0.1186\n",
            "Epoch: 2/2... Training loss: 0.1140\n",
            "Epoch: 2/2... Training loss: 0.1127\n",
            "Epoch: 2/2... Training loss: 0.1118\n",
            "Epoch: 2/2... Training loss: 0.1147\n",
            "Epoch: 2/2... Training loss: 0.1141\n",
            "Epoch: 2/2... Training loss: 0.1149\n",
            "Epoch: 2/2... Training loss: 0.1154\n",
            "Epoch: 2/2... Training loss: 0.1199\n",
            "Epoch: 2/2... Training loss: 0.1120\n",
            "Epoch: 2/2... Training loss: 0.1081\n",
            "Epoch: 2/2... Training loss: 0.1135\n",
            "Epoch: 2/2... Training loss: 0.1089\n",
            "Epoch: 2/2... Training loss: 0.1129\n",
            "Epoch: 2/2... Training loss: 0.1114\n",
            "Epoch: 2/2... Training loss: 0.1105\n",
            "Epoch: 2/2... Training loss: 0.1102\n",
            "Epoch: 2/2... Training loss: 0.1155\n",
            "Epoch: 2/2... Training loss: 0.1119\n",
            "Epoch: 2/2... Training loss: 0.1160\n",
            "Epoch: 2/2... Training loss: 0.1112\n",
            "Epoch: 2/2... Training loss: 0.1140\n",
            "Epoch: 2/2... Training loss: 0.1110\n",
            "Epoch: 2/2... Training loss: 0.1158\n",
            "Epoch: 2/2... Training loss: 0.1136\n",
            "Epoch: 2/2... Training loss: 0.1088\n",
            "Epoch: 2/2... Training loss: 0.1106\n",
            "Epoch: 2/2... Training loss: 0.1148\n",
            "Epoch: 2/2... Training loss: 0.1103\n",
            "Epoch: 2/2... Training loss: 0.1109\n",
            "Epoch: 2/2... Training loss: 0.1111\n",
            "Epoch: 2/2... Training loss: 0.1102\n",
            "Epoch: 2/2... Training loss: 0.1090\n",
            "Epoch: 2/2... Training loss: 0.1146\n",
            "Epoch: 2/2... Training loss: 0.1111\n",
            "Epoch: 2/2... Training loss: 0.1183\n",
            "Epoch: 2/2... Training loss: 0.1099\n",
            "Epoch: 2/2... Training loss: 0.1150\n",
            "Epoch: 2/2... Training loss: 0.1063\n",
            "Epoch: 2/2... Training loss: 0.1111\n",
            "Epoch: 2/2... Training loss: 0.1122\n",
            "Epoch: 2/2... Training loss: 0.1200\n",
            "Epoch: 2/2... Training loss: 0.1118\n",
            "Epoch: 2/2... Training loss: 0.1158\n",
            "Epoch: 2/2... Training loss: 0.1117\n",
            "Epoch: 2/2... Training loss: 0.1134\n",
            "Epoch: 2/2... Training loss: 0.1159\n",
            "Epoch: 2/2... Training loss: 0.1109\n",
            "Epoch: 2/2... Training loss: 0.1093\n",
            "Epoch: 2/2... Training loss: 0.1136\n",
            "Epoch: 2/2... Training loss: 0.1105\n",
            "Epoch: 2/2... Training loss: 0.1128\n",
            "Epoch: 2/2... Training loss: 0.1105\n",
            "Epoch: 2/2... Training loss: 0.1109\n",
            "Epoch: 2/2... Training loss: 0.1133\n",
            "Epoch: 2/2... Training loss: 0.1104\n",
            "Epoch: 2/2... Training loss: 0.1077\n",
            "Epoch: 2/2... Training loss: 0.1057\n",
            "Epoch: 2/2... Training loss: 0.1076\n",
            "Epoch: 2/2... Training loss: 0.1106\n",
            "Epoch: 2/2... Training loss: 0.1145\n",
            "Epoch: 2/2... Training loss: 0.1140\n",
            "Epoch: 2/2... Training loss: 0.1096\n",
            "Epoch: 2/2... Training loss: 0.1114\n",
            "Epoch: 2/2... Training loss: 0.1138\n",
            "Epoch: 2/2... Training loss: 0.1081\n",
            "Epoch: 2/2... Training loss: 0.1104\n",
            "Epoch: 2/2... Training loss: 0.1127\n",
            "Epoch: 2/2... Training loss: 0.1132\n",
            "Epoch: 2/2... Training loss: 0.1103\n",
            "Epoch: 2/2... Training loss: 0.1106\n",
            "Epoch: 2/2... Training loss: 0.1105\n",
            "Epoch: 2/2... Training loss: 0.1101\n",
            "Epoch: 2/2... Training loss: 0.1149\n",
            "Epoch: 2/2... Training loss: 0.1115\n",
            "Epoch: 2/2... Training loss: 0.1097\n",
            "Epoch: 2/2... Training loss: 0.1095\n",
            "Epoch: 2/2... Training loss: 0.1114\n",
            "Epoch: 2/2... Training loss: 0.1143\n",
            "Epoch: 2/2... Training loss: 0.1114\n",
            "Epoch: 2/2... Training loss: 0.1127\n",
            "Epoch: 2/2... Training loss: 0.1110\n",
            "Epoch: 2/2... Training loss: 0.1087\n",
            "Epoch: 2/2... Training loss: 0.1099\n",
            "Epoch: 2/2... Training loss: 0.1163\n",
            "Epoch: 2/2... Training loss: 0.1105\n",
            "Epoch: 2/2... Training loss: 0.1103\n",
            "Epoch: 2/2... Training loss: 0.1103\n",
            "Epoch: 2/2... Training loss: 0.1099\n",
            "Epoch: 2/2... Training loss: 0.1061\n",
            "Epoch: 2/2... Training loss: 0.1096\n",
            "Epoch: 2/2... Training loss: 0.1114\n",
            "Epoch: 2/2... Training loss: 0.1076\n",
            "Epoch: 2/2... Training loss: 0.1152\n",
            "Epoch: 2/2... Training loss: 0.1068\n",
            "Epoch: 2/2... Training loss: 0.1111\n",
            "Epoch: 2/2... Training loss: 0.1122\n",
            "Epoch: 2/2... Training loss: 0.1077\n",
            "Epoch: 2/2... Training loss: 0.1144\n",
            "Epoch: 2/2... Training loss: 0.1058\n",
            "Epoch: 2/2... Training loss: 0.1126\n",
            "Epoch: 2/2... Training loss: 0.1111\n",
            "Epoch: 2/2... Training loss: 0.1118\n",
            "Epoch: 2/2... Training loss: 0.1101\n",
            "Epoch: 2/2... Training loss: 0.1088\n",
            "Epoch: 2/2... Training loss: 0.1112\n",
            "Epoch: 2/2... Training loss: 0.1133\n",
            "Epoch: 2/2... Training loss: 0.1068\n",
            "Epoch: 2/2... Training loss: 0.1123\n",
            "Epoch: 2/2... Training loss: 0.1143\n",
            "Epoch: 2/2... Training loss: 0.1096\n",
            "Epoch: 2/2... Training loss: 0.1127\n",
            "Epoch: 2/2... Training loss: 0.1086\n",
            "Epoch: 2/2... Training loss: 0.1101\n",
            "Epoch: 2/2... Training loss: 0.1117\n",
            "Epoch: 2/2... Training loss: 0.1066\n",
            "Epoch: 2/2... Training loss: 0.1123\n",
            "Epoch: 2/2... Training loss: 0.1112\n",
            "Epoch: 2/2... Training loss: 0.1103\n",
            "Epoch: 2/2... Training loss: 0.1086\n",
            "Epoch: 2/2... Training loss: 0.1174\n",
            "Epoch: 2/2... Training loss: 0.1148\n",
            "Epoch: 2/2... Training loss: 0.1060\n",
            "Epoch: 2/2... Training loss: 0.1095\n",
            "Epoch: 2/2... Training loss: 0.1110\n",
            "Epoch: 2/2... Training loss: 0.1094\n",
            "Epoch: 2/2... Training loss: 0.1155\n",
            "Epoch: 2/2... Training loss: 0.1144\n",
            "Epoch: 2/2... Training loss: 0.1122\n",
            "Epoch: 2/2... Training loss: 0.1153\n",
            "Epoch: 2/2... Training loss: 0.1149\n",
            "Epoch: 2/2... Training loss: 0.1089\n",
            "Epoch: 2/2... Training loss: 0.1127\n",
            "Epoch: 2/2... Training loss: 0.1142\n",
            "Epoch: 2/2... Training loss: 0.1106\n",
            "Epoch: 2/2... Training loss: 0.1135\n",
            "Epoch: 2/2... Training loss: 0.1168\n",
            "Epoch: 2/2... Training loss: 0.1163\n",
            "Epoch: 2/2... Training loss: 0.1115\n",
            "Epoch: 2/2... Training loss: 0.1100\n",
            "Epoch: 2/2... Training loss: 0.1109\n",
            "Epoch: 2/2... Training loss: 0.1160\n",
            "Epoch: 2/2... Training loss: 0.1144\n",
            "Epoch: 2/2... Training loss: 0.1113\n",
            "Epoch: 2/2... Training loss: 0.1148\n",
            "Epoch: 2/2... Training loss: 0.1133\n",
            "Epoch: 2/2... Training loss: 0.1135\n",
            "Epoch: 2/2... Training loss: 0.1167\n",
            "Epoch: 2/2... Training loss: 0.1121\n",
            "Epoch: 2/2... Training loss: 0.1122\n",
            "Epoch: 2/2... Training loss: 0.1129\n",
            "Epoch: 2/2... Training loss: 0.1095\n",
            "Epoch: 2/2... Training loss: 0.1143\n",
            "Epoch: 2/2... Training loss: 0.1161\n",
            "Epoch: 2/2... Training loss: 0.1093\n",
            "Epoch: 2/2... Training loss: 0.1136\n",
            "Epoch: 2/2... Training loss: 0.1171\n",
            "Epoch: 2/2... Training loss: 0.1098\n",
            "Epoch: 2/2... Training loss: 0.1095\n",
            "Epoch: 2/2... Training loss: 0.1128\n",
            "Epoch: 2/2... Training loss: 0.1097\n",
            "Epoch: 2/2... Training loss: 0.1090\n",
            "Epoch: 2/2... Training loss: 0.1109\n",
            "Epoch: 2/2... Training loss: 0.1130\n"
          ],
          "name": "stdout"
        }
      ]
    },
    {
      "cell_type": "markdown",
      "metadata": {
        "id": "_TD6oWkXYqa8",
        "colab_type": "text"
      },
      "source": [
        "<h3>Plotting the digits</h3>"
      ]
    },
    {
      "cell_type": "code",
      "metadata": {
        "id": "y9YRUP5UYqa8",
        "colab_type": "code",
        "colab": {},
        "outputId": "16e6fbb1-742d-4450-d8e0-8ec946074853"
      },
      "source": [
        "fig, axes = plt.subplots(nrows=2, ncols=10, sharex=True, sharey=True, figsize=(20,4))\n",
        "in_imgs = mnist.test.images[:10]\n",
        "reconstructed = sess.run(convolution7, feed_dict={inputs_dim: in_imgs.reshape((10, 28, 28, 1))})\n",
        "\n",
        "for images, row in zip([in_imgs, reconstructed], axes):\n",
        "    for img, ax in zip(images, row):\n",
        "        ax.imshow(img.reshape((28, 28)), cmap='Greys_r')\n",
        "        ax.get_xaxis().set_visible(False)\n",
        "        ax.get_yaxis().set_visible(False)\n",
        "fig.tight_layout(pad=0.1)"
      ],
      "execution_count": null,
      "outputs": [
        {
          "output_type": "display_data",
          "data": {
            "image/png": "[encoded data removed]",
            "text/plain": [
              "<Figure size 1440x288 with 20 Axes>"
            ]
          },
          "metadata": {
            "tags": [],
            "needs_background": "light"
          }
        }
      ]
    },
    {
      "cell_type": "code",
      "metadata": {
        "id": "iaW2im1WYqa_",
        "colab_type": "code",
        "colab": {}
      },
      "source": [
        "sess.close()"
      ],
      "execution_count": null,
      "outputs": []
    }
  ]
}