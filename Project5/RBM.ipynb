{
  "nbformat": 4,
  "nbformat_minor": 0,
  "metadata": {
    "colab": {
      "name": "RBM.ipynb",
      "provenance": [],
      "collapsed_sections": []
    },
    "kernelspec": {
      "name": "python3",
      "display_name": "Python 3"
    },
    "accelerator": "GPU"
  },
  "cells": [
    {
      "cell_type": "markdown",
      "metadata": {
        "id": "T9mku9h4ac8g",
        "colab_type": "text"
      },
      "source": [
        "<h1><strong>CSE 555 - Introduction to Pattern Recognition</strong></h1>\n",
        "\n",
        "<h2><strong>Programming Assignment 5 :- Generative Models</strong></h2>\n",
        "<h4><strong> Jyoti Sinha</strong></h4>"
      ]
    },
    {
      "cell_type": "code",
      "metadata": {
        "id": "sJUe0KdvZP45",
        "colab_type": "code",
        "colab": {
          "base_uri": "https://localhost:8080/",
          "height": 357
        },
        "outputId": "67c39db2-50ef-4989-9b28-7f39f5f6086d"
      },
      "source": [
        "!pip install tensorflow==1.14"
      ],
      "execution_count": null,
      "outputs": [
        {
          "output_type": "stream",
          "text": [
            "Requirement already satisfied: tensorflow==1.14 in /usr/local/lib/python3.6/dist-packages (1.14.0)\n",
            "Requirement already satisfied: tensorflow-estimator<1.15.0rc0,>=1.14.0rc0 in /usr/local/lib/python3.6/dist-packages (from tensorflow==1.14) (1.14.0)\n",
            "Requirement already satisfied: gast>=0.2.0 in /usr/local/lib/python3.6/dist-packages (from tensorflow==1.14) (0.3.3)\n",
            "Requirement already satisfied: keras-preprocessing>=1.0.5 in /usr/local/lib/python3.6/dist-packages (from tensorflow==1.14) (1.1.0)\n",
            "Requirement already satisfied: keras-applications>=1.0.6 in /usr/local/lib/python3.6/dist-packages (from tensorflow==1.14) (1.0.8)\n",
            "Requirement already satisfied: grpcio>=1.8.6 in /usr/local/lib/python3.6/dist-packages (from tensorflow==1.14) (1.28.1)\n",
            "Requirement already satisfied: google-pasta>=0.1.6 in /usr/local/lib/python3.6/dist-packages (from tensorflow==1.14) (0.2.0)\n",
            "Requirement already satisfied: wrapt>=1.11.1 in /usr/local/lib/python3.6/dist-packages (from tensorflow==1.14) (1.12.1)\n",
            "Requirement already satisfied: wheel>=0.26 in /usr/local/lib/python3.6/dist-packages (from tensorflow==1.14) (0.34.2)\n",
            "Requirement already satisfied: six>=1.10.0 in /usr/local/lib/python3.6/dist-packages (from tensorflow==1.14) (1.12.0)\n",
            "Requirement already satisfied: astor>=0.6.0 in /usr/local/lib/python3.6/dist-packages (from tensorflow==1.14) (0.8.1)\n",
            "Requirement already satisfied: termcolor>=1.1.0 in /usr/local/lib/python3.6/dist-packages (from tensorflow==1.14) (1.1.0)\n",
            "Requirement already satisfied: numpy<2.0,>=1.14.5 in /usr/local/lib/python3.6/dist-packages (from tensorflow==1.14) (1.18.3)\n",
            "Requirement already satisfied: tensorboard<1.15.0,>=1.14.0 in /usr/local/lib/python3.6/dist-packages (from tensorflow==1.14) (1.14.0)\n",
            "Requirement already satisfied: absl-py>=0.7.0 in /usr/local/lib/python3.6/dist-packages (from tensorflow==1.14) (0.9.0)\n",
            "Requirement already satisfied: protobuf>=3.6.1 in /usr/local/lib/python3.6/dist-packages (from tensorflow==1.14) (3.10.0)\n",
            "Requirement already satisfied: h5py in /usr/local/lib/python3.6/dist-packages (from keras-applications>=1.0.6->tensorflow==1.14) (2.10.0)\n",
            "Requirement already satisfied: setuptools>=41.0.0 in /usr/local/lib/python3.6/dist-packages (from tensorboard<1.15.0,>=1.14.0->tensorflow==1.14) (46.1.3)\n",
            "Requirement already satisfied: markdown>=2.6.8 in /usr/local/lib/python3.6/dist-packages (from tensorboard<1.15.0,>=1.14.0->tensorflow==1.14) (3.2.1)\n",
            "Requirement already satisfied: werkzeug>=0.11.15 in /usr/local/lib/python3.6/dist-packages (from tensorboard<1.15.0,>=1.14.0->tensorflow==1.14) (1.0.1)\n"
          ],
          "name": "stdout"
        }
      ]
    },
    {
      "cell_type": "markdown",
      "metadata": {
        "id": "1EZ0FF35JiUP",
        "colab_type": "text"
      },
      "source": [
        "<h1>Restricted Boltzmann Machine</h1>"
      ]
    },
    {
      "cell_type": "markdown",
      "metadata": {
        "id": "s1JytpodMZBa",
        "colab_type": "text"
      },
      "source": [
        "RBMs are a two-layered artificial neural network having generative capabilities. They have the potential to learn a probability distribution over its set of input. It can be used for dimensionality reduction, classification, regression, collaborative filtering, feature learning, and topic modeling.They are a special class of Boltzmann Machines and they are restricted in terms of the connections between the visible and the hidden units. RBMs are a two-layered neural network (one being the visible layer and the other one being the hidden layer) and these two layers forms a fully bipartite graph. This suggests that each and every node in the visible layer is connected to every node in the hidden layer but no two nodes in the same group are connected to each other. This restriction allows for more efficient training algorithms.\n",
        "Explaination of RBM implementation:-\n",
        " Let the training set be x and in order to train an RBM, we need to maximize the product of probabilities that is assigned to the training set V.\n",
        " This can be written as:-\n",
        " $$argmax_w \\Pi_xP(x)$$\n",
        " or we can maximize the expected log probability of x.\n",
        "\n",
        " $$argmax_wE[ \\sum_xlogP(x)]$$\n",
        " We can define the objective function as the average negative log-likelihood. And we try to minimize it.We can get this by the partial derivative of this function with respect to all of its parameters.Basically, minimizing the objective function means modifying the weight vector W.Thus, I  used stochastic gradient descent to find the optimal weight  to minimize the objective function. On deriving, we get two terms, termed as positive and negative gradient.These reflect their effect on the probability density defined by the model.\n",
        "\n",
        "The positive phase increases the probability of the training data and the negative phase decrease the probability of samples generated by the model.Since, the negative phase is very difficult to compute. So, we use Contrastive Divergence(CD) During the calculation of CD, we use Gibbs sampling to sample from our model distribution.\n",
        "Contrastive Divergence is basically a matrix of values and computed and used used to modify the values of W matrix On each epoch, W is getted updated by a new value of w.\n",
        "Thus, the equation can be written as,\n",
        "$${W'} = W +alpha+ CD$$\n",
        "where, CD is the Learning rate\n",
        "I calculated CD as folloes:-\n",
        "Let take a training sample from X and then compute the probabilities of the  hidden units and sampled the hidden activation vector h from the probability distribution.\n",
        "Thus, $$h_(prime)= sigmoid(X*W + hb)\n",
        "                = sampleprob(h_(prime))$$\n",
        "On computing the outer product of X and h_prime  we get positive gradient.\n",
        "$$w_(positivegrad)= X* h_(prime)$$ and this is the reconstruction phase.\n",
        "From h, we sample reconstruction v_prime of the visible unit then resample the hidden activations.\n",
        "$$v_(prime)= sigmoid((h_prime) * transpose(w)+visible bias)\n",
        "           = sample_(prob)(v_(prime))$$\n",
        "On computing the outer products of above we get the negative gradient and is given by,\n",
        "$$w_(negativegrad)= v_(prime)* (h_(prime))$$\n",
        "And, we know that CD = positive gradient- negative gradient and is matrix.\n",
        "Thus, the equation of CD is given by,\n",
        "$$ CD= (w_(positivegrad)- w_(negativegrad))/datapoints$$\n",
        "On uodating the weights, we get\n",
        "$${W'}= W + alpha + CD$$\n",
        "\n",
        "\n",
        "\n",
        "\n",
        "\n"
      ]
    },
    {
      "cell_type": "code",
      "metadata": {
        "id": "baLisnUKdNCO",
        "colab_type": "code",
        "colab": {}
      },
      "source": [
        "#Importing libraries\n",
        "import numpy as np\n",
        "import matplotlib.pyplot as plt\n",
        "import matplotlib.gridspec as gridspec\n",
        "import os"
      ],
      "execution_count": null,
      "outputs": []
    },
    {
      "cell_type": "code",
      "metadata": {
        "id": "Zi6tkUVBoqSq",
        "colab_type": "code",
        "colab": {}
      },
      "source": [
        "from tensorflow.examples.tutorials.mnist import input_data"
      ],
      "execution_count": null,
      "outputs": []
    },
    {
      "cell_type": "code",
      "metadata": {
        "id": "jhnZk5GjqBD9",
        "colab_type": "code",
        "colab": {
          "base_uri": "https://localhost:8080/",
          "height": 85
        },
        "outputId": "2f2807f3-b6d0-457e-9c01-c4651e9d2a5d"
      },
      "source": [
        "#Reading dataset\n",
        "mnist=input_data.read_data_sets(\"MNIST_data/\",one_hot=True)"
      ],
      "execution_count": null,
      "outputs": [
        {
          "output_type": "stream",
          "text": [
            "Extracting MNIST_data/train-images-idx3-ubyte.gz\n",
            "Extracting MNIST_data/train-labels-idx1-ubyte.gz\n",
            "Extracting MNIST_data/t10k-images-idx3-ubyte.gz\n",
            "Extracting MNIST_data/t10k-labels-idx1-ubyte.gz\n"
          ],
          "name": "stdout"
        }
      ]
    },
    {
      "cell_type": "code",
      "metadata": {
        "id": "qjrird3Dpysz",
        "colab_type": "code",
        "colab": {}
      },
      "source": [
        "#Defining training and testing dataset\n",
        "X_train = mnist.train.images\n",
        "y_train =  mnist.train.labels\n",
        "X_test = mnist.test.images\n",
        "y_test = mnist.test.labels "
      ],
      "execution_count": null,
      "outputs": []
    },
    {
      "cell_type": "code",
      "metadata": {
        "id": "o8DUJWBdc1Bj",
        "colab_type": "code",
        "colab": {}
      },
      "source": [
        "#Defining the terms:-\n",
        "datapoints=16\n",
        "hidden_units= [20,100,500]  \n",
        "for hidden_units in hidden_units:\n",
        "  mb_size=16\n",
        "  W = np.random.randn(mnist.train.images.shape[1], hidden_units) * 0.001\n",
        "  hidden= np.random.randn(hidden_units) * 0.001\n",
        "  visible = np.random.randn(mnist.train.images.shape[1]) * 0.001"
      ],
      "execution_count": null,
      "outputs": []
    },
    {
      "cell_type": "code",
      "metadata": {
        "id": "mvaodxn6RUXe",
        "colab_type": "code",
        "colab": {}
      },
      "source": [
        "#Defining sigmoid\n",
        "def sigmoid(x):\n",
        "    return 1/(1+np.exp(-x))"
      ],
      "execution_count": null,
      "outputs": []
    },
    {
      "cell_type": "markdown",
      "metadata": {
        "id": "C9Ibx1PVRgXM",
        "colab_type": "text"
      },
      "source": [
        "Data Input Phase "
      ]
    },
    {
      "cell_type": "code",
      "metadata": {
        "id": "EEtd_dTLRYvf",
        "colab_type": "code",
        "colab": {}
      },
      "source": [
        "#Input phase\n",
        "def input_phase(x):\n",
        "    return sigmoid(np.matmul(x, W))"
      ],
      "execution_count": null,
      "outputs": []
    },
    {
      "cell_type": "markdown",
      "metadata": {
        "id": "wEtuwxNgRm2t",
        "colab_type": "text"
      },
      "source": [
        "Data Recontruction Phase"
      ]
    },
    {
      "cell_type": "code",
      "metadata": {
        "id": "Fge5lBn4Ra8B",
        "colab_type": "code",
        "colab": {}
      },
      "source": [
        "#Reconstruction phase\n",
        "def reconstruction_phase(H):\n",
        "    return sigmoid(np.matmul(H,(W.T))) "
      ],
      "execution_count": null,
      "outputs": []
    },
    {
      "cell_type": "code",
      "metadata": {
        "id": "7lP-cRIYc1E0",
        "colab_type": "code",
        "colab": {}
      },
      "source": [
        "alpha=0.1\n",
        "K = 10\n",
        "for t in range(1, 1001):\n",
        "    size= (mnist.train.next_batch(datapoints)[0] > 0.5).astype(np.float)\n",
        "    CD = 0\n",
        "    CD_h = 0\n",
        "    CD_v = 0\n",
        "\n",
        "    for v in size:\n",
        "        h = input_phase(v)\n",
        "        v1 = np.copy(v)\n",
        "\n",
        "        for k in range(K):\n",
        "            v1 = np.random.binomial(n=1, p=reconstruction_phase(h1))\n",
        "            h1 = np.random.binomial(n=1, p=input_phase(v1))\n",
        "        \n",
        "        h1 = input_phase(v1)\n",
        "        new_W = np.outer(v, h) - np.outer(v1, h1)\n",
        "        new_hidden = h - h1\n",
        "        new_visible = v - v1\n",
        "\n",
        "        \n",
        "        CD = (new_W + CD)/datapoints\n",
        "        CD_h = (new_hidden + CD_h)/datapoints\n",
        "        CD_v = (new_visible + CD_v)/datapoints\n",
        " \n",
        "    W = W + alpha * CD\n",
        "    hidden = hidden + alpha * CD_h\n",
        "    visible = visible + alpha * CD_v"
      ],
      "execution_count": null,
      "outputs": []
    },
    {
      "cell_type": "code",
      "metadata": {
        "id": "i90Pu6nVc1ID",
        "colab_type": "code",
        "colab": {}
      },
      "source": [
        "#Define plot:-\n",
        "def plot(samples, size, name):\n",
        "    size = int(size)\n",
        "    fig = plt.figure(figsize=(4, 4))\n",
        "    gs = gridspec.GridSpec(4, 4)\n",
        "    gs.update(wspace=0.05, hspace=0.05)\n",
        "\n",
        "    for i, sample in enumerate(samples):\n",
        "        ax = plt.subplot(gs[i])\n",
        "        plt.imshow(sample.reshape(size, size), cmap='nipy_spectral') \n",
        "        plt.show()\n",
        "    plt.close(fig)"
      ],
      "execution_count": null,
      "outputs": []
    },
    {
      "cell_type": "code",
      "metadata": {
        "id": "MK34z9hVdENS",
        "colab_type": "code",
        "colab": {}
      },
      "source": [
        "#Define model:-\n",
        "def testModel():\n",
        "    X = (mnist.test.next_batch(mb_size)[0] > 0.5).astype(np.float)\n",
        "    H = np.random.binomial(n=1, p=input_phase(X))\n",
        "    X_recon = (reconstruction_phase(H) > 0.5).astype(np.float)\n",
        "    plot(X_recon, np.sqrt(mnist.train.images.shape[1]), 'V')"
      ],
      "execution_count": null,
      "outputs": []
    },
    {
      "cell_type": "code",
      "metadata": {
        "id": "V6JVfHh4dJN4",
        "colab_type": "code",
        "colab": {
          "base_uri": "https://localhost:8080/",
          "height": 1000
        },
        "outputId": "03bf7689-93c5-41f4-e0f9-26af14d3fba0"
      },
      "source": [
        "testModel()"
      ],
      "execution_count": null,
      "outputs": [
        {
          "output_type": "display_data",
          "data": {
            "image/png": "[encoded data removed]",
            "text/plain": [
              "<Figure size 288x288 with 1 Axes>"
            ]
          },
          "metadata": {
            "tags": [],
            "needs_background": "light"
          }
        },
        {
          "output_type": "display_data",
          "data": {
            "image/png": "[encoded data removed]",
            "text/plain": [
              "<Figure size 432x288 with 1 Axes>"
            ]
          },
          "metadata": {
            "tags": [],
            "needs_background": "light"
          }
        },
        {
          "output_type": "display_data",
          "data": {
            "image/png": "[encoded data removed]",
            "text/plain": [
              "<Figure size 432x288 with 1 Axes>"
            ]
          },
          "metadata": {
            "tags": [],
            "needs_background": "light"
          }
        },
        {
          "output_type": "display_data",
          "data": {
            "image/png": "[encoded data removed]",
            "text/plain": [
              "<Figure size 432x288 with 1 Axes>"
            ]
          },
          "metadata": {
            "tags": [],
            "needs_background": "light"
          }
        },
        {
          "output_type": "display_data",
          "data": {
            "image/png": "[encoded data removed]",
            "text/plain": [
              "<Figure size 432x288 with 1 Axes>"
            ]
          },
          "metadata": {
            "tags": [],
            "needs_background": "light"
          }
        },
        {
          "output_type": "display_data",
          "data": {
            "image/png": "[encoded data removed]",
            "text/plain": [
              "<Figure size 432x288 with 1 Axes>"
            ]
          },
          "metadata": {
            "tags": [],
            "needs_background": "light"
          }
        },
        {
          "output_type": "display_data",
          "data": {
            "image/png": "[encoded data removed]",
            "text/plain": [
              "<Figure size 432x288 with 1 Axes>"
            ]
          },
          "metadata": {
            "tags": [],
            "needs_background": "light"
          }
        },
        {
          "output_type": "display_data",
          "data": {
            "image/png": "[encoded data removed]",
            "text/plain": [
              "<Figure size 432x288 with 1 Axes>"
            ]
          },
          "metadata": {
            "tags": [],
            "needs_background": "light"
          }
        },
        {
          "output_type": "display_data",
          "data": {
            "image/png": "[encoded data removed]",
            "text/plain": [
              "<Figure size 432x288 with 1 Axes>"
            ]
          },
          "metadata": {
            "tags": [],
            "needs_background": "light"
          }
        },
        {
          "output_type": "display_data",
          "data": {
            "image/png": "[encoded data removed]",
            "text/plain": [
              "<Figure size 432x288 with 1 Axes>"
            ]
          },
          "metadata": {
            "tags": [],
            "needs_background": "light"
          }
        },
        {
          "output_type": "display_data",
          "data": {
            "image/png": "[encoded data removed]",
            "text/plain": [
              "<Figure size 432x288 with 1 Axes>"
            ]
          },
          "metadata": {
            "tags": [],
            "needs_background": "light"
          }
        },
        {
          "output_type": "display_data",
          "data": {
            "image/png": "[encoded data removed]",
            "text/plain": [
              "<Figure size 432x288 with 1 Axes>"
            ]
          },
          "metadata": {
            "tags": [],
            "needs_background": "light"
          }
        },
        {
          "output_type": "display_data",
          "data": {
            "image/png": "[encoded data removed]",
            "text/plain": [
              "<Figure size 432x288 with 1 Axes>"
            ]
          },
          "metadata": {
            "tags": [],
            "needs_background": "light"
          }
        },
        {
          "output_type": "display_data",
          "data": {
            "image/png": "[encoded data removed]",
            "text/plain": [
              "<Figure size 432x288 with 1 Axes>"
            ]
          },
          "metadata": {
            "tags": [],
            "needs_background": "light"
          }
        },
        {
          "output_type": "display_data",
          "data": {
            "image/png": "[encoded data removed]",
            "text/plain": [
              "<Figure size 432x288 with 1 Axes>"
            ]
          },
          "metadata": {
            "tags": [],
            "needs_background": "light"
          }
        },
        {
          "output_type": "display_data",
          "data": {
            "image/png": "[encoded data removed]",
            "text/plain": [
              "<Figure size 432x288 with 1 Axes>"
            ]
          },
          "metadata": {
            "tags": [],
            "needs_background": "light"
          }
        }
      ]
    },
    {
      "cell_type": "markdown",
      "metadata": {
        "id": "YDjqOccCg26u",
        "colab_type": "text"
      },
      "source": [
        "<h3> Reference</h3>"
      ]
    },
    {
      "cell_type": "markdown",
      "metadata": {
        "id": "acTx7UwdhHMk",
        "colab_type": "text"
      },
      "source": [
        "1)https://rubikscode.net/2018/10/22/implementing-restricted-boltzmann-machine-with-python-and-tensorflow/\n",
        "\n",
        "2)http://deeplearning.net/tutorial/rbm.html\n",
        "\n",
        "3)https://www.youtube.com/watch?v=jlwUqksvnRs&list=PL-XeOa5hMEYxNzHM7YLRjIwE1k3VQpqEh&index=22\n",
        "\n",
        "4)https://pathmind.com/wiki/restricted-boltzmann-machine"
      ]
    }
  ]
}