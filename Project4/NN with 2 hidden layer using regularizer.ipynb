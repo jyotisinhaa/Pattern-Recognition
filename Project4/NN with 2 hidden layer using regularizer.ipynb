{
  "nbformat": 4,
  "nbformat_minor": 0,
  "metadata": {
    "colab": {
      "name": "Final2Layer_hidden_layer_with_RegulizerFinal_.ipynb",
      "provenance": [],
      "collapsed_sections": []
    },
    "kernelspec": {
      "name": "python3",
      "display_name": "Python 3"
    }
  },
  "cells": [
    {
      "cell_type": "markdown",
      "metadata": {
        "id": "LklHm-VeQUEq",
        "colab_type": "text"
      },
      "source": [
        "\n",
        "<h1><strong>CSE 555 - Introduction to Pattern Recognition</strong></h1>\n",
        "\n",
        "<h2><strong>Programming Assignment 4:- Multi-layer Perceptron Neural Network</strong></h2>\n",
        "<h4><strong> Jyoti Sinha</strong></h4>\n",
        "\n"
      ]
    },
    {
      "cell_type": "markdown",
      "metadata": {
        "id": "RdbjlvFdahER",
        "colab_type": "text"
      },
      "source": [
        "<h3> Importing Libraries</h3>"
      ]
    },
    {
      "cell_type": "code",
      "metadata": {
        "id": "8cpMC5-1ahet",
        "colab_type": "code",
        "colab": {
          "base_uri": "https://localhost:8080/",
          "height": 153
        },
        "outputId": "af5dd6ce-239e-4fa0-a913-1b9576cc3515"
      },
      "source": [
        "#Importing library\n",
        "import tensorflow as tf\n",
        "import numpy as np\n",
        "import pandas as pd\n",
        "import keras\n",
        "from keras.utils import np_utils\n",
        "from sklearn import metrics\n",
        "%matplotlib inline\n",
        "from tensorflow.python.keras.layers import Dense\n",
        "from tensorflow.python.keras import Sequential\n",
        "!pip install keras==2.3.0\n",
        "from keras.optimizers import SGD\n",
        "from keras import regularizers\n",
        "from keras.regularizers import l2\n",
        "from keras.datasets import mnist\n",
        "from keras.models import Sequential\n",
        "from keras.layers import Dense\n",
        "from keras.layers import Dropout\n",
        "from keras.layers import Flatten\n",
        "from keras.layers.convolutional import Conv2D\n",
        "from keras.layers.convolutional import MaxPooling2D\n",
        "from keras.utils import np_utils\n",
        "from keras import optimizers\n",
        "import keras.backend as K"
      ],
      "execution_count": null,
      "outputs": [
        {
          "output_type": "stream",
          "text": [
            "Requirement already satisfied: keras==2.3.0 in /usr/local/lib/python3.6/dist-packages (2.3.0)\n",
            "Requirement already satisfied: keras-applications>=1.0.6 in /usr/local/lib/python3.6/dist-packages (from keras==2.3.0) (1.0.8)\n",
            "Requirement already satisfied: h5py in /usr/local/lib/python3.6/dist-packages (from keras==2.3.0) (2.10.0)\n",
            "Requirement already satisfied: six>=1.9.0 in /usr/local/lib/python3.6/dist-packages (from keras==2.3.0) (1.12.0)\n",
            "Requirement already satisfied: scipy>=0.14 in /usr/local/lib/python3.6/dist-packages (from keras==2.3.0) (1.4.1)\n",
            "Requirement already satisfied: numpy>=1.9.1 in /usr/local/lib/python3.6/dist-packages (from keras==2.3.0) (1.18.2)\n",
            "Requirement already satisfied: pyyaml in /usr/local/lib/python3.6/dist-packages (from keras==2.3.0) (3.13)\n",
            "Requirement already satisfied: keras-preprocessing>=1.0.5 in /usr/local/lib/python3.6/dist-packages (from keras==2.3.0) (1.1.0)\n"
          ],
          "name": "stdout"
        }
      ]
    },
    {
      "cell_type": "markdown",
      "metadata": {
        "id": "U6cw7PlFauWa",
        "colab_type": "text"
      },
      "source": [
        "<h3>Import Dataset</h3>"
      ]
    },
    {
      "cell_type": "code",
      "metadata": {
        "id": "LWMTDH8H5Ykl",
        "colab_type": "code",
        "colab": {}
      },
      "source": [
        "#Importing the dataset\n",
        "mnist = tf.keras.datasets.mnist\n",
        "(X_train, y_train), (X_test, y_test) = mnist.load_data()\n",
        "X_train = X_train / 255.0\n",
        "X_test = X_test / 255.0"
      ],
      "execution_count": null,
      "outputs": []
    },
    {
      "cell_type": "markdown",
      "metadata": {
        "id": "mEyUBQIga642",
        "colab_type": "text"
      },
      "source": [
        "<h3> Data Partitoning</h3>"
      ]
    },
    {
      "cell_type": "code",
      "metadata": {
        "id": "wANTk7lu5YnD",
        "colab_type": "code",
        "colab": {}
      },
      "source": [
        "#Partitioning the dataset\n",
        "X_test = X_train[-10000:]\n",
        "y_test = y_train[-10000:]\n",
        "X_train = X_train[:X_train.shape[0]-10000]\n",
        "y_train = y_train[:y_train.shape[0]-10000]"
      ],
      "execution_count": null,
      "outputs": []
    },
    {
      "cell_type": "markdown",
      "metadata": {
        "id": "4C-u62B9bSD4",
        "colab_type": "text"
      },
      "source": [
        "<h3> Extracting 100 dataset of each class</h3>"
      ]
    },
    {
      "cell_type": "code",
      "metadata": {
        "id": "I2_K7XU25YqJ",
        "colab_type": "code",
        "colab": {}
      },
      "source": [
        "#Divinding the dataset into group of 100 as per classes\n",
        "value = {}\n",
        "for i in range(10):\n",
        "    value[i] = list()\n",
        "\n",
        "for i in range(len(X_train)):\n",
        "    value[y_train[i]].append(X_train[i])\n",
        "\n",
        "train_x = list()\n",
        "train_y = list()\n",
        "\n",
        "for i in range(len(value)):\n",
        "    for j in range(100):\n",
        "        train_x.append(value[i][j])\n",
        "        train_y.append(i)\n",
        "\n",
        "train_x = np.asarray(train_x)\n",
        "train_y = np.asarray(train_y)\n",
        "train_y = np_utils.to_categorical(train_y)\n",
        "y_test= np_utils.to_categorical(y_test)"
      ],
      "execution_count": null,
      "outputs": []
    },
    {
      "cell_type": "code",
      "metadata": {
        "id": "CuODntCOaDZC",
        "colab_type": "code",
        "colab": {}
      },
      "source": [
        "learning_rate=[]\n",
        "class LearningSpeed(tf.keras.callbacks.Callback):\n",
        "    def on_epoch_end(self,epoch,logs={}):\n",
        "        optimizer = self.model.optimizer\n",
        "        Intial_rate =tf.cast(optimizer.lr, tf.float32)\n",
        "        Decay= 0.07\n",
        "        iterations= tf.cast(optimizer.iterations, tf.float32)\n",
        "        Intial_rate = (Intial_rate / (1. + Decay * iterations))\n",
        "        learning_rate.append(tf.keras.backend.eval(Intial_rate))"
      ],
      "execution_count": null,
      "outputs": []
    },
    {
      "cell_type": "markdown",
      "metadata": {
        "id": "euhYC9S8bj3z",
        "colab_type": "text"
      },
      "source": [
        "<h3>Model Define</h3>"
      ]
    },
    {
      "cell_type": "code",
      "metadata": {
        "id": "xWlXNodv5YtD",
        "colab_type": "code",
        "colab": {
          "base_uri": "https://localhost:8080/",
          "height": 377
        },
        "outputId": "75f9683d-cb5b-47c3-fe93-b5f36a99df15"
      },
      "source": [
        "#Model Define\n",
        "model = Sequential()\n",
        "model.add(Flatten(input_shape=(28,28)))\n",
        "model.add(Dense(30, kernel_initializer='normal', activation='sigmoid',W_regularizer=l2(5)))\n",
        "model.add(Dense(30, kernel_initializer='normal', activation='sigmoid',W_regularizer=l2(5)))\n",
        "model.add(Dense(10, kernel_initializer='normal', activation='softmax'))\n",
        "model.summary()\n",
        "model.compile(loss='categorical_crossentropy', optimizer=SGD(lr=0.1), metrics=['accuracy'])\n",
        "callbacks_list=[LearningSpeed()]\n",
        "history=model.fit(train_x, train_y, validation_data=(X_test, y_test), epochs=30, batch_size=10,callbacks=callbacks_list, verbose = 0)\n",
        "\n"
      ],
      "execution_count": null,
      "outputs": [
        {
          "output_type": "stream",
          "text": [
            "/usr/local/lib/python3.6/dist-packages/ipykernel_launcher.py:3: UserWarning: Update your `Dense` call to the Keras 2 API: `Dense(30, kernel_initializer=\"normal\", activation=\"sigmoid\", kernel_regularizer=<keras.reg...)`\n",
            "  This is separate from the ipykernel package so we can avoid doing imports until\n",
            "/usr/local/lib/python3.6/dist-packages/ipykernel_launcher.py:4: UserWarning: Update your `Dense` call to the Keras 2 API: `Dense(30, kernel_initializer=\"normal\", activation=\"sigmoid\", kernel_regularizer=<keras.reg...)`\n",
            "  after removing the cwd from sys.path.\n"
          ],
          "name": "stderr"
        },
        {
          "output_type": "stream",
          "text": [
            "Model: \"sequential_1\"\n",
            "_________________________________________________________________\n",
            "Layer (type)                 Output Shape              Param #   \n",
            "=================================================================\n",
            "flatten_1 (Flatten)          (None, 784)               0         \n",
            "_________________________________________________________________\n",
            "dense_1 (Dense)              (None, 30)                23550     \n",
            "_________________________________________________________________\n",
            "dense_2 (Dense)              (None, 30)                930       \n",
            "_________________________________________________________________\n",
            "dense_3 (Dense)              (None, 10)                310       \n",
            "=================================================================\n",
            "Total params: 24,790\n",
            "Trainable params: 24,790\n",
            "Non-trainable params: 0\n",
            "_________________________________________________________________\n"
          ],
          "name": "stdout"
        }
      ]
    },
    {
      "cell_type": "markdown",
      "metadata": {
        "id": "orGOIshRbspz",
        "colab_type": "text"
      },
      "source": [
        "<h3>Accuracy Calculation</h3>"
      ]
    },
    {
      "cell_type": "code",
      "metadata": {
        "id": "gj9wVvGB5lAq",
        "colab_type": "code",
        "colab": {
          "base_uri": "https://localhost:8080/",
          "height": 51
        },
        "outputId": "36b44595-4037-4f89-c7af-a996253d1c92"
      },
      "source": [
        "#Accuracy Calculation\n",
        "test_loss,test_acc = model.evaluate(X_test,y_test)\n",
        "print(test_acc*100)"
      ],
      "execution_count": null,
      "outputs": [
        {
          "output_type": "stream",
          "text": [
            "10000/10000 [==============================] - 0s 24us/step\n",
            "10.300000011920929\n"
          ],
          "name": "stdout"
        }
      ]
    },
    {
      "cell_type": "markdown",
      "metadata": {
        "id": "dujQT5hzbyeK",
        "colab_type": "text"
      },
      "source": [
        "<h3>Plot between Training loss vs epoch</h3>"
      ]
    },
    {
      "cell_type": "code",
      "metadata": {
        "id": "gAR8WB_C5oG9",
        "colab_type": "code",
        "colab": {
          "base_uri": "https://localhost:8080/",
          "height": 282
        },
        "outputId": "87506d79-5182-4b34-bb7b-38fe83e5567f"
      },
      "source": [
        "# #Plot between Training loss vs epoch\n",
        "%matplotlib inline\n",
        "import matplotlib.pyplot as plt\n",
        "plt.plot(history.history['loss'])\n",
        "plt.ylabel('Training loss')\n",
        "plt.xlabel('epoch')\n",
        "plt.show()\n"
      ],
      "execution_count": null,
      "outputs": [
        {
          "output_type": "display_data",
          "data": {
            "image/png": "[encoded data removed]",
            "text/plain": [
              "<Figure size 432x288 with 1 Axes>"
            ]
          },
          "metadata": {
            "tags": [],
            "needs_background": "light"
          }
        }
      ]
    },
    {
      "cell_type": "markdown",
      "metadata": {
        "id": "68kdUuE9b6Db",
        "colab_type": "text"
      },
      "source": [
        "<h3>Plot between Validation loss vs epoch</h3>"
      ]
    },
    {
      "cell_type": "code",
      "metadata": {
        "id": "-UxCGmPV5oJo",
        "colab_type": "code",
        "colab": {
          "base_uri": "https://localhost:8080/",
          "height": 279
        },
        "outputId": "f7d92f2c-27dd-43e0-b98c-e1044751994d"
      },
      "source": [
        "# #Plot between Validation Loss vs epoch\n",
        "plt.plot(history.history['val_loss'])\n",
        "plt.ylabel('Valildation loss')\n",
        "plt.xlabel('epoch')\n",
        "plt.show()"
      ],
      "execution_count": null,
      "outputs": [
        {
          "output_type": "display_data",
          "data": {
            "image/png": "[encoded data removed]",
            "text/plain": [
              "<Figure size 432x288 with 1 Axes>"
            ]
          },
          "metadata": {
            "tags": [],
            "needs_background": "light"
          }
        }
      ]
    },
    {
      "cell_type": "markdown",
      "metadata": {
        "id": "Vd8QajGGcAxH",
        "colab_type": "text"
      },
      "source": [
        "<h3>Plot between Training loss vs Validation loss </h3>"
      ]
    },
    {
      "cell_type": "code",
      "metadata": {
        "id": "IKumYT8C5vM2",
        "colab_type": "code",
        "colab": {
          "base_uri": "https://localhost:8080/",
          "height": 295
        },
        "outputId": "c3adcdf4-0c86-4d97-9fdb-84e8f8bf6ef7"
      },
      "source": [
        "#Plot of Training loss vs Validation(Testing) Loss\n",
        "plt.plot(history.history['loss'])\n",
        "plt.plot(history.history['val_loss'])\n",
        "plt.ylabel('loss')\n",
        "plt.xlabel('epoch')\n",
        "plt.legend(['train', 'test'], loc='upper right')\n",
        "plt.title('criterion function on training/testing data set')\n",
        "plt.show()"
      ],
      "execution_count": null,
      "outputs": [
        {
          "output_type": "display_data",
          "data": {
            "image/png": "[encoded data removed]",
            "text/plain": [
              "<Figure size 432x288 with 1 Axes>"
            ]
          },
          "metadata": {
            "tags": [],
            "needs_background": "light"
          }
        }
      ]
    },
    {
      "cell_type": "markdown",
      "metadata": {
        "id": "nsZGAHZicSu1",
        "colab_type": "text"
      },
      "source": [
        "<h3>Plot between Learning Speed vs epoch</h3>"
      ]
    },
    {
      "cell_type": "code",
      "metadata": {
        "id": "YEOSsaObaWjI",
        "colab_type": "code",
        "colab": {
          "base_uri": "https://localhost:8080/",
          "height": 295
        },
        "outputId": "d71f79db-1c84-4342-9afb-438c46530bcc"
      },
      "source": [
        "#Plot of Learning loss vs epoch\n",
        "plt.xlabel('Epoch')\n",
        "plt.ylabel('Learning Speed')\n",
        "plt.title('learning speed of the hidden layer')\n",
        "plt.plot(learning_rate)\n",
        "plt.show()"
      ],
      "execution_count": null,
      "outputs": [
        {
          "output_type": "display_data",
          "data": {
            "image/png": "[encoded data removed]",
            "text/plain": [
              "<Figure size 432x288 with 1 Axes>"
            ]
          },
          "metadata": {
            "tags": [],
            "needs_background": "light"
          }
        }
      ]
    }
  ]
}