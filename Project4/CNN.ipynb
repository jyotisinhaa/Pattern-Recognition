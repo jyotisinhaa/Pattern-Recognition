{
  "nbformat": 4,
  "nbformat_minor": 0,
  "metadata": {
    "colab": {
      "name": "FinalCNNFinal.ipynb",
      "provenance": [],
      "collapsed_sections": []
    },
    "kernelspec": {
      "name": "python3",
      "display_name": "Python 3"
    }
  },
  "cells": [
    {
      "cell_type": "markdown",
      "metadata": {
        "id": "MkYBjFHoVuxr",
        "colab_type": "text"
      },
      "source": [
        "<h1><strong>CSE 555 - Introduction to Pattern Recognition</strong></h1>\n",
        "\n",
        "<h2><strong>Programming Assignment 4:- Convolutional Neural Network</strong></h2>\n",
        "<h4><strong> Jyoti Sinha</strong></h4>"
      ]
    },
    {
      "cell_type": "markdown",
      "metadata": {
        "id": "1KLszVpfApi_",
        "colab_type": "text"
      },
      "source": [
        "<h3> Importing Libraries</h3>\n",
        "\n"
      ]
    },
    {
      "cell_type": "code",
      "metadata": {
        "id": "J-BK8xzVAr3Q",
        "colab_type": "code",
        "colab": {
          "base_uri": "https://localhost:8080/",
          "height": 395
        },
        "outputId": "f967d81e-3a94-4f5e-ee03-db12f7767555"
      },
      "source": [
        "#Importing library\n",
        "import tensorflow as tf\n",
        "import numpy as np\n",
        "import pandas as pd\n",
        "import keras\n",
        "from keras.utils import np_utils\n",
        "from keras.preprocessing.image import ImageDataGenerator\n",
        "from sklearn import metrics\n",
        "%matplotlib inline\n",
        "from tensorflow.python.keras.layers import Dense\n",
        "from tensorflow.python.keras import Sequential\n",
        "!pip install keras==2.3.0\n",
        "from keras.optimizers import SGD\n",
        "from keras import regularizers\n",
        "from keras.regularizers import l2\n",
        "from keras.datasets import mnist\n",
        "from keras.models import Sequential\n",
        "from keras.layers import Dense\n",
        "from keras.layers import Dropout\n",
        "from keras.layers import Flatten\n",
        "from keras.layers.convolutional import Conv2D\n",
        "from keras.layers.convolutional import MaxPooling2D\n",
        "from keras.utils import np_utils\n",
        "from keras import optimizers"
      ],
      "execution_count": null,
      "outputs": [
        {
          "output_type": "stream",
          "text": [
            "Using TensorFlow backend.\n"
          ],
          "name": "stderr"
        },
        {
          "output_type": "stream",
          "text": [
            "Collecting keras==2.3.0\n",
            "\u001b[?25l  Downloading https://files.pythonhosted.org/packages/1b/18/2e1ef121e5560ac24c7ac9e363aa5fa7006c40563c989e7211aba95b793a/Keras-2.3.0-py2.py3-none-any.whl (377kB)\n",
            "\r\u001b[K     |▉                               | 10kB 17.6MB/s eta 0:00:01\r\u001b[K     |█▊                              | 20kB 1.8MB/s eta 0:00:01\r\u001b[K     |██▋                             | 30kB 2.6MB/s eta 0:00:01\r\u001b[K     |███▌                            | 40kB 3.4MB/s eta 0:00:01\r\u001b[K     |████▍                           | 51kB 2.1MB/s eta 0:00:01\r\u001b[K     |█████▏                          | 61kB 2.5MB/s eta 0:00:01\r\u001b[K     |██████                          | 71kB 2.9MB/s eta 0:00:01\r\u001b[K     |███████                         | 81kB 3.3MB/s eta 0:00:01\r\u001b[K     |███████▉                        | 92kB 2.5MB/s eta 0:00:01\r\u001b[K     |████████▊                       | 102kB 2.8MB/s eta 0:00:01\r\u001b[K     |█████████▌                      | 112kB 2.8MB/s eta 0:00:01\r\u001b[K     |██████████▍                     | 122kB 2.8MB/s eta 0:00:01\r\u001b[K     |███████████▎                    | 133kB 2.8MB/s eta 0:00:01\r\u001b[K     |████████████▏                   | 143kB 2.8MB/s eta 0:00:01\r\u001b[K     |█████████████                   | 153kB 2.8MB/s eta 0:00:01\r\u001b[K     |█████████████▉                  | 163kB 2.8MB/s eta 0:00:01\r\u001b[K     |██████████████▊                 | 174kB 2.8MB/s eta 0:00:01\r\u001b[K     |███████████████▋                | 184kB 2.8MB/s eta 0:00:01\r\u001b[K     |████████████████▌               | 194kB 2.8MB/s eta 0:00:01\r\u001b[K     |█████████████████▍              | 204kB 2.8MB/s eta 0:00:01\r\u001b[K     |██████████████████▎             | 215kB 2.8MB/s eta 0:00:01\r\u001b[K     |███████████████████             | 225kB 2.8MB/s eta 0:00:01\r\u001b[K     |████████████████████            | 235kB 2.8MB/s eta 0:00:01\r\u001b[K     |████████████████████▉           | 245kB 2.8MB/s eta 0:00:01\r\u001b[K     |█████████████████████▊          | 256kB 2.8MB/s eta 0:00:01\r\u001b[K     |██████████████████████▋         | 266kB 2.8MB/s eta 0:00:01\r\u001b[K     |███████████████████████▍        | 276kB 2.8MB/s eta 0:00:01\r\u001b[K     |████████████████████████▎       | 286kB 2.8MB/s eta 0:00:01\r\u001b[K     |█████████████████████████▏      | 296kB 2.8MB/s eta 0:00:01\r\u001b[K     |██████████████████████████      | 307kB 2.8MB/s eta 0:00:01\r\u001b[K     |███████████████████████████     | 317kB 2.8MB/s eta 0:00:01\r\u001b[K     |███████████████████████████▊    | 327kB 2.8MB/s eta 0:00:01\r\u001b[K     |████████████████████████████▋   | 337kB 2.8MB/s eta 0:00:01\r\u001b[K     |█████████████████████████████▌  | 348kB 2.8MB/s eta 0:00:01\r\u001b[K     |██████████████████████████████▍ | 358kB 2.8MB/s eta 0:00:01\r\u001b[K     |███████████████████████████████▎| 368kB 2.8MB/s eta 0:00:01\r\u001b[K     |████████████████████████████████| 378kB 2.8MB/s \n",
            "\u001b[?25hRequirement already satisfied: numpy>=1.9.1 in /usr/local/lib/python3.6/dist-packages (from keras==2.3.0) (1.18.2)\n",
            "Requirement already satisfied: six>=1.9.0 in /usr/local/lib/python3.6/dist-packages (from keras==2.3.0) (1.12.0)\n",
            "Requirement already satisfied: h5py in /usr/local/lib/python3.6/dist-packages (from keras==2.3.0) (2.10.0)\n",
            "Requirement already satisfied: keras-applications>=1.0.6 in /usr/local/lib/python3.6/dist-packages (from keras==2.3.0) (1.0.8)\n",
            "Requirement already satisfied: pyyaml in /usr/local/lib/python3.6/dist-packages (from keras==2.3.0) (3.13)\n",
            "Requirement already satisfied: keras-preprocessing>=1.0.5 in /usr/local/lib/python3.6/dist-packages (from keras==2.3.0) (1.1.0)\n",
            "Requirement already satisfied: scipy>=0.14 in /usr/local/lib/python3.6/dist-packages (from keras==2.3.0) (1.4.1)\n",
            "Installing collected packages: keras\n",
            "  Found existing installation: Keras 2.3.1\n",
            "    Uninstalling Keras-2.3.1:\n",
            "      Successfully uninstalled Keras-2.3.1\n",
            "Successfully installed keras-2.3.0\n"
          ],
          "name": "stdout"
        },
        {
          "output_type": "display_data",
          "data": {
            "application/vnd.colab-display-data+json": {
              "pip_warning": {
                "packages": [
                  "keras"
                ]
              }
            }
          },
          "metadata": {
            "tags": []
          }
        }
      ]
    },
    {
      "cell_type": "markdown",
      "metadata": {
        "id": "pIdw3SrWX3gN",
        "colab_type": "text"
      },
      "source": [
        "<h3> Loading Dataset</h3>"
      ]
    },
    {
      "cell_type": "code",
      "metadata": {
        "id": "vPI2NzaxxRFu",
        "colab_type": "code",
        "colab": {
          "base_uri": "https://localhost:8080/",
          "height": 51
        },
        "outputId": "8d6b59fe-7b1f-4683-e527-d8a1ad9eb86e"
      },
      "source": [
        "(x_train, y_train), (x_test, y_test) = mnist.load_data()"
      ],
      "execution_count": null,
      "outputs": [
        {
          "output_type": "stream",
          "text": [
            "Downloading data from https://s3.amazonaws.com/img-datasets/mnist.npz\n",
            "11493376/11490434 [==============================] - 2s 0us/step\n"
          ],
          "name": "stdout"
        }
      ]
    },
    {
      "cell_type": "markdown",
      "metadata": {
        "id": "D_KdEyPaYBKh",
        "colab_type": "text"
      },
      "source": [
        "<h3> Reshaping the dataset</h3>"
      ]
    },
    {
      "cell_type": "code",
      "metadata": {
        "id": "whHkZ2ASwSuv",
        "colab_type": "code",
        "colab": {}
      },
      "source": [
        "x_train = x_train.reshape((x_train.shape[0], 28, 28, 1)).astype('float32')\n",
        "x_test = x_test.reshape((x_test.shape[0], 28, 28, 1)).astype('float32')"
      ],
      "execution_count": null,
      "outputs": []
    },
    {
      "cell_type": "markdown",
      "metadata": {
        "id": "xZdJvOPjYK6Z",
        "colab_type": "text"
      },
      "source": [
        "<h3> Normalize the Dataset</h3>"
      ]
    },
    {
      "cell_type": "code",
      "metadata": {
        "id": "fgemebf6wSxf",
        "colab_type": "code",
        "colab": {}
      },
      "source": [
        "# Normalize the inputs\n",
        "x_train = x_train / 255\n",
        "x_test = x_test / 255"
      ],
      "execution_count": null,
      "outputs": []
    },
    {
      "cell_type": "markdown",
      "metadata": {
        "id": "C0sOkTUFY3gf",
        "colab_type": "text"
      },
      "source": [
        "<h3> One-hot Encoding</h3>"
      ]
    },
    {
      "cell_type": "code",
      "metadata": {
        "id": "_Tdkv8cpwS2N",
        "colab_type": "code",
        "colab": {}
      },
      "source": [
        "# One hot encoding on the output\n",
        "y_train = np_utils.to_categorical(y_train)\n",
        "y_test = np_utils.to_categorical(y_test)\n",
        "num_classes = y_test.shape[1]"
      ],
      "execution_count": null,
      "outputs": []
    },
    {
      "cell_type": "markdown",
      "metadata": {
        "id": "6o7miVHmZCgi",
        "colab_type": "text"
      },
      "source": [
        "<h3> Define Model</h3>"
      ]
    },
    {
      "cell_type": "code",
      "metadata": {
        "id": "uIyX5LSmwS63",
        "colab_type": "code",
        "colab": {
          "base_uri": "https://localhost:8080/",
          "height": 459
        },
        "outputId": "db335c71-ec4d-4442-926c-127383386789"
      },
      "source": [
        "# define the model\n",
        "model = Sequential()\n",
        "model.add(Conv2D(30, (5, 5), input_shape=(28, 28, 1), activation='relu'))\n",
        "model.add(MaxPooling2D())\n",
        "model.add(Conv2D(64, (3, 3), activation='relu'))\n",
        "model.add(MaxPooling2D())\n",
        "model.add(Dropout(0.2))\n",
        "model.add(Flatten())\n",
        "model.add(Dense(128, activation='relu'))\n",
        "model.add(Dense(50, activation='relu'))\n",
        "model.add(Dense(num_classes, activation='softmax'))\n",
        "model.summary()"
      ],
      "execution_count": null,
      "outputs": [
        {
          "output_type": "stream",
          "text": [
            "Model: \"sequential_1\"\n",
            "_________________________________________________________________\n",
            "Layer (type)                 Output Shape              Param #   \n",
            "=================================================================\n",
            "conv2d_1 (Conv2D)            (None, 24, 24, 30)        780       \n",
            "_________________________________________________________________\n",
            "max_pooling2d_1 (MaxPooling2 (None, 12, 12, 30)        0         \n",
            "_________________________________________________________________\n",
            "conv2d_2 (Conv2D)            (None, 10, 10, 64)        17344     \n",
            "_________________________________________________________________\n",
            "max_pooling2d_2 (MaxPooling2 (None, 5, 5, 64)          0         \n",
            "_________________________________________________________________\n",
            "dropout_1 (Dropout)          (None, 5, 5, 64)          0         \n",
            "_________________________________________________________________\n",
            "flatten_1 (Flatten)          (None, 1600)              0         \n",
            "_________________________________________________________________\n",
            "dense_1 (Dense)              (None, 128)               204928    \n",
            "_________________________________________________________________\n",
            "dense_2 (Dense)              (None, 50)                6450      \n",
            "_________________________________________________________________\n",
            "dense_3 (Dense)              (None, 10)                510       \n",
            "=================================================================\n",
            "Total params: 230,012\n",
            "Trainable params: 230,012\n",
            "Non-trainable params: 0\n",
            "_________________________________________________________________\n"
          ],
          "name": "stdout"
        }
      ]
    },
    {
      "cell_type": "code",
      "metadata": {
        "id": "kVtcRcglwS-B",
        "colab_type": "code",
        "colab": {
          "base_uri": "https://localhost:8080/",
          "height": 102
        },
        "outputId": "9bfcec1f-a69c-4073-c1a6-869946ba2925"
      },
      "source": [
        "# Compile model\n",
        "model.compile(loss='categorical_crossentropy', optimizer='adam', metrics=['accuracy'])\n",
        "history=model.fit(x_train, y_train, validation_data=(x_test, y_test), epochs=2, batch_size=10)"
      ],
      "execution_count": null,
      "outputs": [
        {
          "output_type": "stream",
          "text": [
            "Train on 60000 samples, validate on 10000 samples\n",
            "Epoch 1/2\n",
            "60000/60000 [==============================] - 84s 1ms/step - loss: 0.1199 - accuracy: 0.9627 - val_loss: 0.0609 - val_accuracy: 0.9813\n",
            "Epoch 2/2\n",
            "60000/60000 [==============================] - 84s 1ms/step - loss: 0.0506 - accuracy: 0.9845 - val_loss: 0.0342 - val_accuracy: 0.9875\n"
          ],
          "name": "stdout"
        }
      ]
    },
    {
      "cell_type": "markdown",
      "metadata": {
        "id": "uRO7cAr-A_k9",
        "colab_type": "text"
      },
      "source": [
        "<h3> Accuracy Calculation</h3>"
      ]
    },
    {
      "cell_type": "code",
      "metadata": {
        "id": "CMudr09BBFbw",
        "colab_type": "code",
        "colab": {
          "base_uri": "https://localhost:8080/",
          "height": 51
        },
        "outputId": "cd27c428-134f-4fb3-aa3e-8e479598f1d9"
      },
      "source": [
        "#Accuracy Calculation\n",
        "test_loss,test_acc = model.evaluate(x_test,y_test)\n",
        "print(test_acc*100)"
      ],
      "execution_count": null,
      "outputs": [
        {
          "output_type": "stream",
          "text": [
            "10000/10000 [==============================] - 3s 251us/step\n",
            "98.7500011920929\n"
          ],
          "name": "stdout"
        }
      ]
    },
    {
      "cell_type": "code",
      "metadata": {
        "id": "kwRMt2C4wlSw",
        "colab_type": "code",
        "colab": {
          "base_uri": "https://localhost:8080/",
          "height": 34
        },
        "outputId": "40999ba0-0836-4c24-8228-cafbf51e9cf4"
      },
      "source": [
        " print(history.history.keys())"
      ],
      "execution_count": null,
      "outputs": [
        {
          "output_type": "stream",
          "text": [
            "dict_keys(['val_loss', 'val_accuracy', 'loss', 'accuracy'])\n"
          ],
          "name": "stdout"
        }
      ]
    },
    {
      "cell_type": "markdown",
      "metadata": {
        "id": "m2wvEfHwBKT9",
        "colab_type": "text"
      },
      "source": [
        "<h3> Graph of Training Loss Vs Epoch"
      ]
    },
    {
      "cell_type": "code",
      "metadata": {
        "id": "3CXkzx8vwlWX",
        "colab_type": "code",
        "colab": {
          "base_uri": "https://localhost:8080/",
          "height": 279
        },
        "outputId": "e51c1f0b-b369-43cc-ec83-51809591e343"
      },
      "source": [
        "%matplotlib inline\n",
        "import matplotlib.pyplot as plt\n",
        "plt.plot(history.history['loss'])\n",
        "plt.ylabel('Training loss')\n",
        "plt.xlabel('epoch')\n",
        "plt.show()\n"
      ],
      "execution_count": null,
      "outputs": [
        {
          "output_type": "display_data",
          "data": {
            "image/png": "[encoded data removed]",
            "text/plain": [
              "<Figure size 432x288 with 1 Axes>"
            ]
          },
          "metadata": {
            "tags": [],
            "needs_background": "light"
          }
        }
      ]
    },
    {
      "cell_type": "markdown",
      "metadata": {
        "id": "wF0doZ06BRrD",
        "colab_type": "text"
      },
      "source": [
        "<h3> Graph of Validation loss vs epoch</h3>"
      ]
    },
    {
      "cell_type": "code",
      "metadata": {
        "id": "1cOUbPgAwlYv",
        "colab_type": "code",
        "colab": {
          "base_uri": "https://localhost:8080/",
          "height": 279
        },
        "outputId": "1c7feec2-2f5d-48c4-83bd-3eb9f61973de"
      },
      "source": [
        "#Plot between Validation loss vs epoch\n",
        "plt.plot(history.history['val_loss'])\n",
        "plt.ylabel('Valildation loss')\n",
        "plt.xlabel('epoch')\n",
        "plt.show()"
      ],
      "execution_count": null,
      "outputs": [
        {
          "output_type": "display_data",
          "data": {
            "image/png": "[encoded data removed]",
            "text/plain": [
              "<Figure size 432x288 with 1 Axes>"
            ]
          },
          "metadata": {
            "tags": [],
            "needs_background": "light"
          }
        }
      ]
    },
    {
      "cell_type": "markdown",
      "metadata": {
        "id": "EkFtzPMfBYMk",
        "colab_type": "text"
      },
      "source": [
        "<h3> Graph between Training Loss and Validation Loss</h3>"
      ]
    },
    {
      "cell_type": "code",
      "metadata": {
        "id": "qZJKkYxAwrVy",
        "colab_type": "code",
        "colab": {
          "base_uri": "https://localhost:8080/",
          "height": 295
        },
        "outputId": "77434a5d-0731-4ce5-b26c-a4bfb9abf10c"
      },
      "source": [
        "plt.plot(history.history['loss'])\n",
        "plt.plot(history.history['val_loss'])\n",
        "plt.title('criterion function on training/testing data set')\n",
        "plt.ylabel('loss')\n",
        "plt.xlabel('epoch')\n",
        "plt.legend(['train', 'test'], loc='upper right')\n",
        "plt.show()"
      ],
      "execution_count": null,
      "outputs": [
        {
          "output_type": "display_data",
          "data": {
            "image/png": "[encoded data removed]",
            "text/plain": [
              "<Figure size 432x288 with 1 Axes>"
            ]
          },
          "metadata": {
            "tags": [],
            "needs_background": "light"
          }
        }
      ]
    },
    {
      "cell_type": "markdown",
      "metadata": {
        "id": "ArlTqj7bF3Nb",
        "colab_type": "text"
      },
      "source": [
        "<h3> Calculation of Training and Testing Error</h3>"
      ]
    },
    {
      "cell_type": "code",
      "metadata": {
        "id": "6kBVssQqEjGN",
        "colab_type": "code",
        "colab": {}
      },
      "source": [
        "Training_error=(history.history['accuracy'])\n",
        "Validation_error=(history.history['val_accuracy'])\n",
        "for i in range(len(Training_error)):\n",
        "  Training_error[i]= 1- Training_error[i]\n",
        "for i in range(len(Validation_error)):\n",
        "  Validation_error[i]= 1- Validation_error[i]\n"
      ],
      "execution_count": null,
      "outputs": []
    },
    {
      "cell_type": "markdown",
      "metadata": {
        "id": "J5-D9QCTF8EN",
        "colab_type": "text"
      },
      "source": [
        "<h3> Plot of Training Error</h3>"
      ]
    },
    {
      "cell_type": "code",
      "metadata": {
        "id": "QMY5_YuhEjQC",
        "colab_type": "code",
        "colab": {
          "base_uri": "https://localhost:8080/",
          "height": 279
        },
        "outputId": "c4dfb211-9b82-4130-873f-6fde112f1b1b"
      },
      "source": [
        "%matplotlib inline\n",
        "import matplotlib.pyplot as plt\n",
        "plt.plot(Training_error)\n",
        "plt.ylabel('Training Error')\n",
        "plt.xlabel('epoch')\n",
        "plt.show()"
      ],
      "execution_count": null,
      "outputs": [
        {
          "output_type": "display_data",
          "data": {
            "image/png": "[encoded data removed]",
            "text/plain": [
              "<Figure size 432x288 with 1 Axes>"
            ]
          },
          "metadata": {
            "tags": [],
            "needs_background": "light"
          }
        }
      ]
    },
    {
      "cell_type": "markdown",
      "metadata": {
        "id": "74jf9hIyGBIb",
        "colab_type": "text"
      },
      "source": [
        "<h3> Plot of Testing error"
      ]
    },
    {
      "cell_type": "code",
      "metadata": {
        "id": "aHFQSMZbEjYG",
        "colab_type": "code",
        "colab": {
          "base_uri": "https://localhost:8080/",
          "height": 283
        },
        "outputId": "4b50c2bc-66c8-416f-facb-f2ae190c981b"
      },
      "source": [
        "%matplotlib inline\n",
        "import matplotlib.pyplot as plt\n",
        "plt.plot(Validation_error)\n",
        "plt.ylabel('Testing Error')\n",
        "plt.xlabel('epoch')\n",
        "plt.show()"
      ],
      "execution_count": null,
      "outputs": [
        {
          "output_type": "display_data",
          "data": {
            "image/png": "[encoded data removed]",
            "text/plain": [
              "<Figure size 432x288 with 1 Axes>"
            ]
          },
          "metadata": {
            "tags": [],
            "needs_background": "light"
          }
        }
      ]
    }
  ]
}