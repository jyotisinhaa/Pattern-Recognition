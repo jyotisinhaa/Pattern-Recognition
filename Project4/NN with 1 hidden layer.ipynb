{
  "nbformat": 4,
  "nbformat_minor": 0,
  "metadata": {
    "colab": {
      "name": "Final1Layer_hidden_layerFinal.ipynb",
      "provenance": [],
      "collapsed_sections": []
    },
    "kernelspec": {
      "name": "python3",
      "display_name": "Python 3"
    }
  },
  "cells": [
    {
      "cell_type": "markdown",
      "metadata": {
        "id": "QzZRltqiMIbV",
        "colab_type": "text"
      },
      "source": [
        "<h1><strong>CSE 555 - Introduction to Pattern Recognition</strong></h1>\n",
        "<strong><h4>Programming Assignment 4 - Multi-layer Perceptron Neural Network</strong></h4>\n",
        "<h5><strong>JYOTI SINHA</strong></h5>"
      ]
    },
    {
      "cell_type": "markdown",
      "metadata": {
        "id": "zA9s0tmoq9wh",
        "colab_type": "text"
      },
      "source": [
        "<h3> Importing Dataset</h3>"
      ]
    },
    {
      "cell_type": "code",
      "metadata": {
        "id": "X5uBJz_B1X-4",
        "colab_type": "code",
        "colab": {
          "base_uri": "https://localhost:8080/",
          "height": 153
        },
        "outputId": "7d7e755a-dc6c-41e3-8148-83594d065945"
      },
      "source": [
        "#Importing library\n",
        "import tensorflow as tf\n",
        "import numpy as np\n",
        "import pandas as pd\n",
        "import keras\n",
        "from keras.utils import np_utils\n",
        "from keras.preprocessing.image import ImageDataGenerator\n",
        "from sklearn import metrics\n",
        "%matplotlib inline\n",
        "from tensorflow.python.keras.layers import Dense\n",
        "from tensorflow.python.keras import Sequential\n",
        "!pip install keras==2.3.0\n",
        "from keras.optimizers import SGD\n",
        "from keras import regularizers\n",
        "from keras.regularizers import l2\n",
        "from keras.datasets import mnist\n",
        "from keras.models import Sequential\n",
        "from keras.layers import Dense\n",
        "from keras.layers import Dropout\n",
        "from keras.layers import Flatten\n",
        "from keras.layers.convolutional import Conv2D\n",
        "from keras.layers.convolutional import MaxPooling2D\n",
        "from keras.utils import np_utils\n",
        "from keras import optimizers"
      ],
      "execution_count": null,
      "outputs": [
        {
          "output_type": "stream",
          "text": [
            "Requirement already satisfied: keras==2.3.0 in /usr/local/lib/python3.6/dist-packages (2.3.0)\n",
            "Requirement already satisfied: keras-applications>=1.0.6 in /usr/local/lib/python3.6/dist-packages (from keras==2.3.0) (1.0.8)\n",
            "Requirement already satisfied: h5py in /usr/local/lib/python3.6/dist-packages (from keras==2.3.0) (2.10.0)\n",
            "Requirement already satisfied: six>=1.9.0 in /usr/local/lib/python3.6/dist-packages (from keras==2.3.0) (1.12.0)\n",
            "Requirement already satisfied: scipy>=0.14 in /usr/local/lib/python3.6/dist-packages (from keras==2.3.0) (1.4.1)\n",
            "Requirement already satisfied: keras-preprocessing>=1.0.5 in /usr/local/lib/python3.6/dist-packages (from keras==2.3.0) (1.1.0)\n",
            "Requirement already satisfied: numpy>=1.9.1 in /usr/local/lib/python3.6/dist-packages (from keras==2.3.0) (1.18.2)\n",
            "Requirement already satisfied: pyyaml in /usr/local/lib/python3.6/dist-packages (from keras==2.3.0) (3.13)\n"
          ],
          "name": "stdout"
        }
      ]
    },
    {
      "cell_type": "markdown",
      "metadata": {
        "id": "ouKPy45_1kVM",
        "colab_type": "text"
      },
      "source": [
        "<h3> Importing Dataset</h3>"
      ]
    },
    {
      "cell_type": "code",
      "metadata": {
        "id": "_xlYEiJWq4L2",
        "colab_type": "code",
        "colab": {}
      },
      "source": [
        "#Importing the Dataset\n",
        "mnist = tf.keras.datasets.mnist\n",
        "(X_train, y_train), (X_test, y_test) = mnist.load_data()\n",
        "X_train =X_train / 255.0\n",
        "X_test = X_test / 255.0"
      ],
      "execution_count": null,
      "outputs": []
    },
    {
      "cell_type": "markdown",
      "metadata": {
        "id": "pPSPIdXfq_Wk",
        "colab_type": "text"
      },
      "source": [
        "<h3>Data Partioning</h3>"
      ]
    },
    {
      "cell_type": "code",
      "metadata": {
        "id": "oFwJq8zNq4O5",
        "colab_type": "code",
        "colab": {}
      },
      "source": [
        "#Dividing the dataset\n",
        "X_test = X_train[-10000:]\n",
        "y_test = y_train[-10000:]\n",
        "X_train = X_train[:X_train.shape[0]-10000]\n",
        "y_train = y_train[:y_train.shape[0]-10000]"
      ],
      "execution_count": null,
      "outputs": []
    },
    {
      "cell_type": "markdown",
      "metadata": {
        "id": "G-6VruLXrFTN",
        "colab_type": "text"
      },
      "source": [
        "<h3> Data Preprocessing</h3>"
      ]
    },
    {
      "cell_type": "code",
      "metadata": {
        "id": "K-zheDFQq4U6",
        "colab_type": "code",
        "colab": {}
      },
      "source": [
        "#Seperating the dataset into group of 100 belongs to each class\n",
        "data = {}\n",
        "\n",
        "for i in range(10):\n",
        "    data[i] = list()\n",
        "\n",
        "for i in range(len(X_train)):\n",
        "    data[y_train[i]].append(X_train[i])\n",
        "\n",
        "train_x = list()\n",
        "train_y = list()\n",
        "\n",
        "for i in range(len(data)):\n",
        "    for j in range(100):\n",
        "        train_x.append(data[i][j])\n",
        "        train_y.append(i)\n",
        "\n",
        "train_x = np.asarray(train_x)\n",
        "train_y = np.asarray(train_y)\n",
        "train_y = np_utils.to_categorical(train_y)\n",
        "y_test= np_utils.to_categorical(y_test)"
      ],
      "execution_count": null,
      "outputs": []
    },
    {
      "cell_type": "markdown",
      "metadata": {
        "id": "8XzNHvrorNRq",
        "colab_type": "text"
      },
      "source": [
        "<h3> Model Define</h3>"
      ]
    },
    {
      "cell_type": "code",
      "metadata": {
        "id": "WsqqMIe-wP_3",
        "colab_type": "code",
        "colab": {}
      },
      "source": [
        "learning_rate=[]\n",
        "class LearningSpeed(tf.keras.callbacks.Callback):\n",
        "    def on_epoch_end(self,epoch,logs={}):\n",
        "        optimizer = self.model.optimizer\n",
        "        Intial_rate =tf.cast(optimizer.lr, tf.float32)\n",
        "        Decay= 0.01\n",
        "        iterations= tf.cast(optimizer.iterations, tf.float32)\n",
        "        Intial_rate = (Intial_rate / (1. + Decay * iterations))\n",
        "        learning_rate.append(tf.keras.backend.eval(Intial_rate))"
      ],
      "execution_count": null,
      "outputs": []
    },
    {
      "cell_type": "code",
      "metadata": {
        "id": "6Wr7BKcwrN6f",
        "colab_type": "code",
        "colab": {
          "base_uri": "https://localhost:8080/",
          "height": 255
        },
        "outputId": "9f579eec-f85e-4c03-a154-2f7c8c33130e"
      },
      "source": [
        "#Defining the Model\n",
        "model = Sequential()\n",
        "model.add(Flatten(input_shape=(28,28)))\n",
        "model.add(Dense(30, kernel_initializer='normal', activation='sigmoid'))\n",
        "model.add(Dense(10, kernel_initializer='normal', activation='softmax'))\n",
        "model.summary()\n",
        "model.compile(loss='categorical_crossentropy', optimizer=SGD(lr=0.1), metrics=['accuracy'])\n",
        "callbacks_list=[LearningSpeed()]\n",
        "history=model.fit(train_x, train_y, validation_data=(X_test, y_test), epochs=30, batch_size=10,callbacks=callbacks_list, verbose = 0)\n"
      ],
      "execution_count": null,
      "outputs": [
        {
          "output_type": "stream",
          "text": [
            "Model: \"sequential_2\"\n",
            "_________________________________________________________________\n",
            "Layer (type)                 Output Shape              Param #   \n",
            "=================================================================\n",
            "flatten_2 (Flatten)          (None, 784)               0         \n",
            "_________________________________________________________________\n",
            "dense_3 (Dense)              (None, 30)                23550     \n",
            "_________________________________________________________________\n",
            "dense_4 (Dense)              (None, 10)                310       \n",
            "=================================================================\n",
            "Total params: 23,860\n",
            "Trainable params: 23,860\n",
            "Non-trainable params: 0\n",
            "_________________________________________________________________\n"
          ],
          "name": "stdout"
        }
      ]
    },
    {
      "cell_type": "code",
      "metadata": {
        "id": "4D7MbwI8rYfG",
        "colab_type": "code",
        "colab": {
          "base_uri": "https://localhost:8080/",
          "height": 34
        },
        "outputId": "16073084-d4bc-48d8-80c6-7ecd1ddcdc42"
      },
      "source": [
        " print(history.history.keys())"
      ],
      "execution_count": null,
      "outputs": [
        {
          "output_type": "stream",
          "text": [
            "dict_keys(['val_loss', 'val_accuracy', 'loss', 'accuracy'])\n"
          ],
          "name": "stdout"
        }
      ]
    },
    {
      "cell_type": "code",
      "metadata": {
        "id": "y0pw0gYd1FPu",
        "colab_type": "code",
        "colab": {
          "base_uri": "https://localhost:8080/",
          "height": 51
        },
        "outputId": "b1bfda46-e175-4f68-dad3-4f8d26330aa0"
      },
      "source": [
        "#Accuracy Calculation\n",
        "test_loss,test_acc = model.evaluate(X_test,y_test)\n",
        "print(test_acc*100)"
      ],
      "execution_count": null,
      "outputs": [
        {
          "output_type": "stream",
          "text": [
            "10000/10000 [==============================] - 0s 21us/step\n",
            "88.27999830245972\n"
          ],
          "name": "stdout"
        }
      ]
    },
    {
      "cell_type": "markdown",
      "metadata": {
        "id": "ZW9w3jnirc9G",
        "colab_type": "text"
      },
      "source": [
        "<h3>Plot between Training loss vs epoch</h3>"
      ]
    },
    {
      "cell_type": "code",
      "metadata": {
        "id": "m_vWlUa4rfib",
        "colab_type": "code",
        "colab": {
          "base_uri": "https://localhost:8080/",
          "height": 279
        },
        "outputId": "98fc4084-f7aa-499d-f8a8-e0c7a8c697a4"
      },
      "source": [
        "%matplotlib inline\n",
        "import matplotlib.pyplot as plt\n",
        "plt.plot(history.history['loss'])\n",
        "plt.ylabel('Training loss')\n",
        "plt.xlabel('epoch')\n",
        "plt.show()\n"
      ],
      "execution_count": null,
      "outputs": [
        {
          "output_type": "display_data",
          "data": {
            "image/png": "[encoded data removed]",
            "text/plain": [
              "<Figure size 432x288 with 1 Axes>"
            ]
          },
          "metadata": {
            "tags": [],
            "needs_background": "light"
          }
        }
      ]
    },
    {
      "cell_type": "markdown",
      "metadata": {
        "id": "V5nAIYj-roea",
        "colab_type": "text"
      },
      "source": [
        "<h3>Plot between Validation loss vs epoch</h3>"
      ]
    },
    {
      "cell_type": "code",
      "metadata": {
        "id": "l_risKxmrpF7",
        "colab_type": "code",
        "colab": {
          "base_uri": "https://localhost:8080/",
          "height": 280
        },
        "outputId": "9368d562-621d-4aff-aae3-0878f5bf8ac0"
      },
      "source": [
        "#Plot between Validation loss vs epoch\n",
        "plt.plot(history.history['val_loss'])\n",
        "plt.ylabel('Valildation loss')\n",
        "plt.xlabel('epoch')\n",
        "plt.show()"
      ],
      "execution_count": null,
      "outputs": [
        {
          "output_type": "display_data",
          "data": {
            "image/png": "[encoded data removed]",
            "text/plain": [
              "<Figure size 432x288 with 1 Axes>"
            ]
          },
          "metadata": {
            "tags": [],
            "needs_background": "light"
          }
        }
      ]
    },
    {
      "cell_type": "markdown",
      "metadata": {
        "id": "I2rg1Hmmr5S4",
        "colab_type": "text"
      },
      "source": [
        "<h3>Plot between Training loss vs Validation Loss</h3>"
      ]
    },
    {
      "cell_type": "code",
      "metadata": {
        "id": "zr7QZexJr543",
        "colab_type": "code",
        "colab": {
          "base_uri": "https://localhost:8080/",
          "height": 295
        },
        "outputId": "3cb22d5b-260d-4895-9589-bafe3c16ece7"
      },
      "source": [
        "#Plot of Training loss vs Validation loss\n",
        "plt.plot(history.history['loss'])\n",
        "plt.plot(history.history['val_loss'])\n",
        "plt.ylabel('loss')\n",
        "plt.xlabel('epoch')\n",
        "plt.legend(['train', 'test'], loc='upper right')\n",
        "plt.title('criterion function on training/testing data set')\n",
        "plt.show()"
      ],
      "execution_count": null,
      "outputs": [
        {
          "output_type": "display_data",
          "data": {
            "image/png": "[encoded data removed]",
            "text/plain": [
              "<Figure size 432x288 with 1 Axes>"
            ]
          },
          "metadata": {
            "tags": [],
            "needs_background": "light"
          }
        }
      ]
    },
    {
      "cell_type": "code",
      "metadata": {
        "id": "LC3dJDg1wfFA",
        "colab_type": "code",
        "colab": {
          "base_uri": "https://localhost:8080/",
          "height": 295
        },
        "outputId": "fc354667-5947-4bbf-f92b-a7decc26b2d6"
      },
      "source": [
        "#Plot of Learning rate\n",
        "plt.xlabel('Epoch')\n",
        "plt.ylabel('Learning Speed')\n",
        "plt.title('learning speed of the hidden layers')\n",
        "plt.plot(learning_rate)\n",
        "plt.show()"
      ],
      "execution_count": null,
      "outputs": [
        {
          "output_type": "display_data",
          "data": {
            "image/png": "[encoded data removed]",
            "text/plain": [
              "<Figure size 432x288 with 1 Axes>"
            ]
          },
          "metadata": {
            "tags": [],
            "needs_background": "light"
          }
        }
      ]
    }
  ]
}