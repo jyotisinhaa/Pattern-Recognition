{
  "nbformat": 4,
  "nbformat_minor": 0,
  "metadata": {
    "colab": {
      "name": "FinalDataAugmentation.ipynb",
      "provenance": [],
      "collapsed_sections": []
    },
    "kernelspec": {
      "name": "python3",
      "display_name": "Python 3"
    }
  },
  "cells": [
    {
      "cell_type": "markdown",
      "metadata": {
        "id": "rmON-eClWffm",
        "colab_type": "text"
      },
      "source": [
        "<h1><strong>CSE 555 - Introduction to Pattern Recognition</strong></h1>\n",
        "\n",
        "<h2><strong>Programming Assignment 4:- Data Augmentation</strong></h2>\n",
        "<h4><strong> Jyoti Sinha</strong></h4>"
      ]
    },
    {
      "cell_type": "code",
      "metadata": {
        "id": "e9uL5jw96QPc",
        "colab_type": "code",
        "colab": {
          "base_uri": "https://localhost:8080/",
          "height": 153
        },
        "outputId": "d5dcc248-fb07-4eb0-bb5c-791b254ee91a"
      },
      "source": [
        "#Importing library\n",
        "import tensorflow as tf\n",
        "import numpy as np\n",
        "import pandas as pd\n",
        "import keras\n",
        "from keras.utils import np_utils\n",
        "from keras.preprocessing.image import ImageDataGenerator\n",
        "from sklearn import metrics\n",
        "%matplotlib inline\n",
        "from tensorflow.python.keras.layers import Dense\n",
        "from tensorflow.python.keras import Sequential\n",
        "!pip install keras==2.3.0\n",
        "from keras.optimizers import SGD\n",
        "from keras import regularizers\n",
        "from keras.datasets import mnist\n",
        "from keras.models import Sequential\n",
        "from keras.layers import Dense\n",
        "from keras.layers import Dropout\n",
        "from keras.layers import Flatten\n",
        "from keras.layers.convolutional import Conv2D\n",
        "from keras.layers.convolutional import MaxPooling2D\n",
        "from keras.utils import np_utils\n",
        "from keras import optimizers"
      ],
      "execution_count": null,
      "outputs": [
        {
          "output_type": "stream",
          "text": [
            "Requirement already satisfied: keras==2.3.0 in /usr/local/lib/python3.6/dist-packages (2.3.0)\n",
            "Requirement already satisfied: scipy>=0.14 in /usr/local/lib/python3.6/dist-packages (from keras==2.3.0) (1.4.1)\n",
            "Requirement already satisfied: keras-preprocessing>=1.0.5 in /usr/local/lib/python3.6/dist-packages (from keras==2.3.0) (1.1.0)\n",
            "Requirement already satisfied: pyyaml in /usr/local/lib/python3.6/dist-packages (from keras==2.3.0) (3.13)\n",
            "Requirement already satisfied: six>=1.9.0 in /usr/local/lib/python3.6/dist-packages (from keras==2.3.0) (1.12.0)\n",
            "Requirement already satisfied: numpy>=1.9.1 in /usr/local/lib/python3.6/dist-packages (from keras==2.3.0) (1.18.2)\n",
            "Requirement already satisfied: keras-applications>=1.0.6 in /usr/local/lib/python3.6/dist-packages (from keras==2.3.0) (1.0.8)\n",
            "Requirement already satisfied: h5py in /usr/local/lib/python3.6/dist-packages (from keras==2.3.0) (2.10.0)\n"
          ],
          "name": "stdout"
        }
      ]
    },
    {
      "cell_type": "code",
      "metadata": {
        "id": "b913HW8S61UQ",
        "colab_type": "code",
        "colab": {}
      },
      "source": [
        "#Importing Dataset\n",
        "df = tf.keras.datasets.mnist\n",
        "(x_train, y_train), (x_test, y_test) =df.load_data()"
      ],
      "execution_count": null,
      "outputs": []
    },
    {
      "cell_type": "code",
      "metadata": {
        "id": "I6Y1s-dN61pD",
        "colab_type": "code",
        "colab": {
          "base_uri": "https://localhost:8080/",
          "height": 34
        },
        "outputId": "4a067014-2e5e-4c71-e366-0650fe2a2601"
      },
      "source": [
        "#Normalization\n",
        "x_train = x_train / 255.0\n",
        "x_test = x_test / 255.0\n",
        "print(x_test.shape)"
      ],
      "execution_count": null,
      "outputs": [
        {
          "output_type": "stream",
          "text": [
            "(10000, 28, 28)\n"
          ],
          "name": "stdout"
        }
      ]
    },
    {
      "cell_type": "code",
      "metadata": {
        "id": "RVOdWa7o61wW",
        "colab_type": "code",
        "colab": {}
      },
      "source": [
        "#Dividing the dataset into group of 1000, 100 from each class\n",
        "value = {}\n",
        "for i in range(10):\n",
        "     value[i] = list()\n",
        "for i in range(len(x_train)):\n",
        "     value[y_train[i]].append(x_train[i])\n",
        "training_x = list()\n",
        "training_y = list()\n",
        "\n",
        "for i in range(len(value)):\n",
        "    for j in range(100):\n",
        "        training_x.append(value[i][j])\n",
        "        training_y.append(i)\n",
        "\n",
        "training_x = np.asarray(training_x)\n",
        "training_y = np.asarray(training_y)"
      ],
      "execution_count": null,
      "outputs": []
    },
    {
      "cell_type": "code",
      "metadata": {
        "id": "d72pzbqX613V",
        "colab_type": "code",
        "colab": {}
      },
      "source": [
        "training_y = np_utils.to_categorical(training_y).astype('int32')\n",
        "y_test = np_utils.to_categorical(y_test)"
      ],
      "execution_count": null,
      "outputs": []
    },
    {
      "cell_type": "code",
      "metadata": {
        "id": "xhSI-xkC6YOe",
        "colab_type": "code",
        "colab": {}
      },
      "source": [
        "#Define Model\n",
        "model = Sequential()\n",
        "from keras.layers import Dropout\n",
        "model.add(Conv2D(30, kernel_size=3, padding=\"valid\", input_shape=(28, 28, 1), activation = 'relu'))\n",
        "model.add(MaxPooling2D(pool_size=(2, 2), strides=(2, 2)))\n",
        "model.add(Conv2D(64, kernel_size=3, padding=\"valid\", activation = 'relu'))\n",
        "model.add(MaxPooling2D(pool_size=(2, 2), strides=(2, 2)))\n",
        "from keras.layers.core import Activation\n",
        "model.add(Flatten())\n",
        "model.add(Dense(10))\n",
        "model.add(Activation(\"softmax\"))"
      ],
      "execution_count": null,
      "outputs": []
    },
    {
      "cell_type": "code",
      "metadata": {
        "id": "UUcsyEBQ6YQ5",
        "colab_type": "code",
        "colab": {}
      },
      "source": [
        "#Model Compile\n",
        "model.compile(loss='categorical_crossentropy', optimizer='adam', metrics=['accuracy'])"
      ],
      "execution_count": null,
      "outputs": []
    },
    {
      "cell_type": "code",
      "metadata": {
        "id": "icgGHFuA6YT9",
        "colab_type": "code",
        "colab": {
          "base_uri": "https://localhost:8080/",
          "height": 173
        },
        "outputId": "0200ef03-e097-452d-c93a-3b928dbb0504"
      },
      "source": [
        "#Fitting the dataset on the model\n",
        "from keras.preprocessing.image import ImageDataGenerator\n",
        "training_x = training_x.reshape(-1,28,28,1)\n",
        "x_test = x_test.reshape(-1,28,28,1)\n",
        "from keras.preprocessing.image import ImageDataGenerator\n",
        "\n",
        "datagen = ImageDataGenerator(featurewise_center=True,\n",
        "    featurewise_std_normalization=True,\n",
        "    rotation_range=3,\n",
        "    width_shift_range=3,\n",
        "    height_shift_range=3,\n",
        "    horizontal_flip=True\n",
        "    )\n",
        "datagen.fit(training_x)\n",
        "\n",
        "training_generator = datagen.flow(training_x, training_y, batch_size=128)\n",
        "\n",
        "validation_generator = datagen.flow(x_test, y_test, batch_size=128)\n",
        "\n",
        "history = model.fit_generator(generator=training_generator,\n",
        "                    validation_data=validation_generator,\n",
        "                    \n",
        "                    use_multiprocessing=True,\n",
        "                    steps_per_epoch = len(training_generator) / 20,\n",
        "                    validation_steps = len(validation_generator) / 20,\n",
        "                    epochs = 4,\n",
        "                   workers=20)"
      ],
      "execution_count": null,
      "outputs": [
        {
          "output_type": "stream",
          "text": [
            "Epoch 1/4\n",
            "1/0 [===========================================================================] - 1s 1s/step - loss: 2.3314 - accuracy: 0.1172 - val_loss: 2.2985 - val_accuracy: 0.1348\n",
            "Epoch 2/4\n",
            "1/0 [===========================================================================] - 0s 251ms/step - loss: 2.2804 - accuracy: 0.1719 - val_loss: 2.2588 - val_accuracy: 0.2422\n",
            "Epoch 3/4\n",
            "1/0 [===========================================================================] - 0s 261ms/step - loss: 2.2745 - accuracy: 0.1875 - val_loss: 2.2427 - val_accuracy: 0.2500\n",
            "Epoch 4/4\n",
            "1/0 [===========================================================================] - 0s 242ms/step - loss: 2.2507 - accuracy: 0.2115 - val_loss: 2.2373 - val_accuracy: 0.2559\n"
          ],
          "name": "stdout"
        }
      ]
    },
    {
      "cell_type": "code",
      "metadata": {
        "id": "zyOOuQRF6hnH",
        "colab_type": "code",
        "colab": {
          "base_uri": "https://localhost:8080/",
          "height": 34
        },
        "outputId": "8d40dee0-3d7b-4bd4-d111-29a935274cd9"
      },
      "source": [
        "print(history.history.keys())"
      ],
      "execution_count": null,
      "outputs": [
        {
          "output_type": "stream",
          "text": [
            "dict_keys(['val_loss', 'val_accuracy', 'loss', 'accuracy'])\n"
          ],
          "name": "stdout"
        }
      ]
    },
    {
      "cell_type": "code",
      "metadata": {
        "id": "qbQrihN_6qr-",
        "colab_type": "code",
        "colab": {
          "base_uri": "https://localhost:8080/",
          "height": 51
        },
        "outputId": "35fd3ef4-4f07-40ab-e028-e776ea3adf21"
      },
      "source": [
        "# #Accuracy Calculation\n",
        "test_loss,test_acc = model.evaluate(x_test,y_test)\n",
        "print(test_acc*100)"
      ],
      "execution_count": null,
      "outputs": [
        {
          "output_type": "stream",
          "text": [
            "10000/10000 [==============================] - 2s 208us/step\n",
            "20.900000631809235\n"
          ],
          "name": "stdout"
        }
      ]
    },
    {
      "cell_type": "code",
      "metadata": {
        "id": "gzxfK5546hr0",
        "colab_type": "code",
        "colab": {
          "base_uri": "https://localhost:8080/",
          "height": 279
        },
        "outputId": "c2d5e82b-b4eb-459b-c257-fdb31bdf9e89"
      },
      "source": [
        "# #Plot between Training loss vs epoch\n",
        "%matplotlib inline\n",
        "import matplotlib.pyplot as plt\n",
        "plt.plot(history.history['loss'])\n",
        "plt.ylabel('Training loss')\n",
        "plt.xlabel('epoch')\n",
        "plt.show()\n"
      ],
      "execution_count": null,
      "outputs": [
        {
          "output_type": "display_data",
          "data": {
            "image/png": "[encoded data removed]",
            "text/plain": [
              "<Figure size 432x288 with 1 Axes>"
            ]
          },
          "metadata": {
            "tags": [],
            "needs_background": "light"
          }
        }
      ]
    },
    {
      "cell_type": "code",
      "metadata": {
        "id": "iyR1gCEv6kcm",
        "colab_type": "code",
        "colab": {
          "base_uri": "https://localhost:8080/",
          "height": 279
        },
        "outputId": "e82b1c94-f425-40e4-ca18-e9dd17449bfb"
      },
      "source": [
        "# #Plot between Validation Loss vs epoch\n",
        "plt.plot(history.history['val_loss'])\n",
        "plt.ylabel('Valildation loss')\n",
        "plt.xlabel('epoch')\n",
        "plt.show()"
      ],
      "execution_count": null,
      "outputs": [
        {
          "output_type": "display_data",
          "data": {
            "image/png": "[encoded data removed]",
            "text/plain": [
              "<Figure size 432x288 with 1 Axes>"
            ]
          },
          "metadata": {
            "tags": [],
            "needs_background": "light"
          }
        }
      ]
    },
    {
      "cell_type": "code",
      "metadata": {
        "id": "vPhccG4JpUBc",
        "colab_type": "code",
        "colab": {
          "base_uri": "https://localhost:8080/",
          "height": 295
        },
        "outputId": "a6dbe0e2-e690-4b84-8de0-349e6e2506c2"
      },
      "source": [
        "#Plot of criterion function on training/testing data set\n",
        "plt.plot(history.history['loss'])\n",
        "plt.plot(history.history['val_loss'])\n",
        "plt.title('criterion function on training/testing data set')\n",
        "plt.ylabel('loss')\n",
        "plt.xlabel('epoch')\n",
        "plt.legend(['train', 'test'], loc='upper right')\n",
        "plt.show()"
      ],
      "execution_count": null,
      "outputs": [
        {
          "output_type": "display_data",
          "data": {
            "image/png": "[encoded data removed]",
            "text/plain": [
              "<Figure size 432x288 with 1 Axes>"
            ]
          },
          "metadata": {
            "tags": [],
            "needs_background": "light"
          }
        }
      ]
    },
    {
      "cell_type": "code",
      "metadata": {
        "id": "s2LJnDndI-c9",
        "colab_type": "code",
        "colab": {}
      },
      "source": [
        "#Calculation of Training and Testing Error\n",
        "Training_error=(history.history['accuracy'])\n",
        "Validation_error=(history.history['val_accuracy'])\n",
        "for i in range(len(Training_error)):\n",
        "  Training_error[i]= 1- Training_error[i]\n",
        "for i in range(len(Validation_error)):\n",
        "  Validation_error[i]= 1- Validation_error[i]\n",
        "\n"
      ],
      "execution_count": null,
      "outputs": []
    },
    {
      "cell_type": "code",
      "metadata": {
        "id": "Engd97n-I-f9",
        "colab_type": "code",
        "colab": {
          "base_uri": "https://localhost:8080/",
          "height": 279
        },
        "outputId": "f996fe53-298d-4bd7-97e2-f5902f9a3527"
      },
      "source": [
        "#Calculation of Training Error\n",
        "%matplotlib inline\n",
        "import matplotlib.pyplot as plt\n",
        "plt.plot(Training_error)\n",
        "plt.ylabel('Training Error')\n",
        "plt.xlabel('epoch')\n",
        "plt.show()"
      ],
      "execution_count": null,
      "outputs": [
        {
          "output_type": "display_data",
          "data": {
            "image/png": "[encoded data removed]",
            "text/plain": [
              "<Figure size 432x288 with 1 Axes>"
            ]
          },
          "metadata": {
            "tags": [],
            "needs_background": "light"
          }
        }
      ]
    },
    {
      "cell_type": "code",
      "metadata": {
        "id": "5r8KuIIOI-i6",
        "colab_type": "code",
        "colab": {
          "base_uri": "https://localhost:8080/",
          "height": 279
        },
        "outputId": "9e3d0054-1039-451b-c6db-bcc42321ee65"
      },
      "source": [
        "#Calculation of Testing Error\n",
        "%matplotlib inline\n",
        "import matplotlib.pyplot as plt\n",
        "plt.plot(Validation_error)\n",
        "plt.ylabel('Testing Error')\n",
        "plt.xlabel('epoch')\n",
        "plt.show()"
      ],
      "execution_count": null,
      "outputs": [
        {
          "output_type": "display_data",
          "data": {
            "image/png": "[encoded data removed]",
            "text/plain": [
              "<Figure size 432x288 with 1 Axes>"
            ]
          },
          "metadata": {
            "tags": [],
            "needs_background": "light"
          }
        }
      ]
    }
  ]
}