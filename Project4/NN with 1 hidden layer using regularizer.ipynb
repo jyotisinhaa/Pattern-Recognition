{
  "nbformat": 4,
  "nbformat_minor": 0,
  "metadata": {
    "colab": {
      "name": "Final1_Layer_hidden_layer_with_RegulizerFinal_.ipynb",
      "provenance": [],
      "collapsed_sections": []
    },
    "kernelspec": {
      "name": "python3",
      "display_name": "Python 3"
    }
  },
  "cells": [
    {
      "cell_type": "markdown",
      "metadata": {
        "id": "Ff_BVXwIINMj",
        "colab_type": "text"
      },
      "source": [
        "<h1><strong>CSE 555 - Introduction to Pattern Recognition</strong></h1>\n",
        "\n",
        "<h2><strong>Programming Assignment 4:- Multi-layer Perceptron Neural Network</strong></h2>\n",
        "<h4><strong> Jyoti Sinha</strong></h4>\n",
        "\n"
      ]
    },
    {
      "cell_type": "markdown",
      "metadata": {
        "id": "RdbjlvFdahER",
        "colab_type": "text"
      },
      "source": [
        "<h3> Importing Libraries</h3>"
      ]
    },
    {
      "cell_type": "code",
      "metadata": {
        "id": "8cpMC5-1ahet",
        "colab_type": "code",
        "colab": {
          "base_uri": "https://localhost:8080/",
          "height": 395
        },
        "outputId": "6396f631-6fc2-4471-b91a-b56fa11b6728"
      },
      "source": [
        "#Importing library\n",
        "import tensorflow as tf\n",
        "import numpy as np\n",
        "import pandas as pd\n",
        "import keras\n",
        "from keras.utils import np_utils\n",
        "from sklearn import metrics\n",
        "%matplotlib inline\n",
        "from tensorflow.python.keras.layers import Dense\n",
        "from tensorflow.python.keras import Sequential\n",
        "!pip install keras==2.3.0\n",
        "from keras.optimizers import SGD\n",
        "from keras import regularizers\n",
        "from keras.regularizers import l2\n",
        "from keras.datasets import mnist\n",
        "from keras.models import Sequential\n",
        "from keras.layers import Dense\n",
        "from keras.layers import Dropout\n",
        "from keras.layers import Flatten\n",
        "from keras.layers.convolutional import Conv2D\n",
        "from keras.layers.convolutional import MaxPooling2D\n",
        "from keras.utils import np_utils\n",
        "from keras import optimizers\n",
        "import keras.backend as K"
      ],
      "execution_count": null,
      "outputs": [
        {
          "output_type": "stream",
          "text": [
            "Using TensorFlow backend.\n"
          ],
          "name": "stderr"
        },
        {
          "output_type": "stream",
          "text": [
            "Collecting keras==2.3.0\n",
            "\u001b[?25l  Downloading https://files.pythonhosted.org/packages/1b/18/2e1ef121e5560ac24c7ac9e363aa5fa7006c40563c989e7211aba95b793a/Keras-2.3.0-py2.py3-none-any.whl (377kB)\n",
            "\r\u001b[K     |▉                               | 10kB 18.2MB/s eta 0:00:01\r\u001b[K     |█▊                              | 20kB 1.7MB/s eta 0:00:01\r\u001b[K     |██▋                             | 30kB 2.3MB/s eta 0:00:01\r\u001b[K     |███▌                            | 40kB 1.6MB/s eta 0:00:01\r\u001b[K     |████▍                           | 51kB 1.9MB/s eta 0:00:01\r\u001b[K     |█████▏                          | 61kB 2.2MB/s eta 0:00:01\r\u001b[K     |██████                          | 71kB 2.4MB/s eta 0:00:01\r\u001b[K     |███████                         | 81kB 2.6MB/s eta 0:00:01\r\u001b[K     |███████▉                        | 92kB 2.9MB/s eta 0:00:01\r\u001b[K     |████████▊                       | 102kB 2.7MB/s eta 0:00:01\r\u001b[K     |█████████▌                      | 112kB 2.7MB/s eta 0:00:01\r\u001b[K     |██████████▍                     | 122kB 2.7MB/s eta 0:00:01\r\u001b[K     |███████████▎                    | 133kB 2.7MB/s eta 0:00:01\r\u001b[K     |████████████▏                   | 143kB 2.7MB/s eta 0:00:01\r\u001b[K     |█████████████                   | 153kB 2.7MB/s eta 0:00:01\r\u001b[K     |█████████████▉                  | 163kB 2.7MB/s eta 0:00:01\r\u001b[K     |██████████████▊                 | 174kB 2.7MB/s eta 0:00:01\r\u001b[K     |███████████████▋                | 184kB 2.7MB/s eta 0:00:01\r\u001b[K     |████████████████▌               | 194kB 2.7MB/s eta 0:00:01\r\u001b[K     |█████████████████▍              | 204kB 2.7MB/s eta 0:00:01\r\u001b[K     |██████████████████▎             | 215kB 2.7MB/s eta 0:00:01\r\u001b[K     |███████████████████             | 225kB 2.7MB/s eta 0:00:01\r\u001b[K     |████████████████████            | 235kB 2.7MB/s eta 0:00:01\r\u001b[K     |████████████████████▉           | 245kB 2.7MB/s eta 0:00:01\r\u001b[K     |█████████████████████▊          | 256kB 2.7MB/s eta 0:00:01\r\u001b[K     |██████████████████████▋         | 266kB 2.7MB/s eta 0:00:01\r\u001b[K     |███████████████████████▍        | 276kB 2.7MB/s eta 0:00:01\r\u001b[K     |████████████████████████▎       | 286kB 2.7MB/s eta 0:00:01\r\u001b[K     |█████████████████████████▏      | 296kB 2.7MB/s eta 0:00:01\r\u001b[K     |██████████████████████████      | 307kB 2.7MB/s eta 0:00:01\r\u001b[K     |███████████████████████████     | 317kB 2.7MB/s eta 0:00:01\r\u001b[K     |███████████████████████████▊    | 327kB 2.7MB/s eta 0:00:01\r\u001b[K     |████████████████████████████▋   | 337kB 2.7MB/s eta 0:00:01\r\u001b[K     |█████████████████████████████▌  | 348kB 2.7MB/s eta 0:00:01\r\u001b[K     |██████████████████████████████▍ | 358kB 2.7MB/s eta 0:00:01\r\u001b[K     |███████████████████████████████▎| 368kB 2.7MB/s eta 0:00:01\r\u001b[K     |████████████████████████████████| 378kB 2.7MB/s \n",
            "\u001b[?25hRequirement already satisfied: scipy>=0.14 in /usr/local/lib/python3.6/dist-packages (from keras==2.3.0) (1.4.1)\n",
            "Requirement already satisfied: six>=1.9.0 in /usr/local/lib/python3.6/dist-packages (from keras==2.3.0) (1.12.0)\n",
            "Requirement already satisfied: pyyaml in /usr/local/lib/python3.6/dist-packages (from keras==2.3.0) (3.13)\n",
            "Requirement already satisfied: keras-preprocessing>=1.0.5 in /usr/local/lib/python3.6/dist-packages (from keras==2.3.0) (1.1.0)\n",
            "Requirement already satisfied: h5py in /usr/local/lib/python3.6/dist-packages (from keras==2.3.0) (2.10.0)\n",
            "Requirement already satisfied: numpy>=1.9.1 in /usr/local/lib/python3.6/dist-packages (from keras==2.3.0) (1.18.2)\n",
            "Requirement already satisfied: keras-applications>=1.0.6 in /usr/local/lib/python3.6/dist-packages (from keras==2.3.0) (1.0.8)\n",
            "Installing collected packages: keras\n",
            "  Found existing installation: Keras 2.3.1\n",
            "    Uninstalling Keras-2.3.1:\n",
            "      Successfully uninstalled Keras-2.3.1\n",
            "Successfully installed keras-2.3.0\n"
          ],
          "name": "stdout"
        },
        {
          "output_type": "display_data",
          "data": {
            "application/vnd.colab-display-data+json": {
              "pip_warning": {
                "packages": [
                  "keras"
                ]
              }
            }
          },
          "metadata": {
            "tags": []
          }
        }
      ]
    },
    {
      "cell_type": "markdown",
      "metadata": {
        "id": "U6cw7PlFauWa",
        "colab_type": "text"
      },
      "source": [
        "<h3>Import Dataset</h3>"
      ]
    },
    {
      "cell_type": "code",
      "metadata": {
        "id": "LWMTDH8H5Ykl",
        "colab_type": "code",
        "colab": {
          "base_uri": "https://localhost:8080/",
          "height": 51
        },
        "outputId": "ce459f01-7f08-4740-8e27-62819f1d2285"
      },
      "source": [
        "#Importing Dataset\n",
        "mnist = tf.keras.datasets.mnist\n",
        "(X_train, y_train), (X_test, y_test) = mnist.load_data()\n",
        "X_train = X_train / 255.0\n",
        "X_test = X_test / 255.0"
      ],
      "execution_count": null,
      "outputs": [
        {
          "output_type": "stream",
          "text": [
            "Downloading data from https://storage.googleapis.com/tensorflow/tf-keras-datasets/mnist.npz\n",
            "11493376/11490434 [==============================] - 0s 0us/step\n"
          ],
          "name": "stdout"
        }
      ]
    },
    {
      "cell_type": "markdown",
      "metadata": {
        "id": "mEyUBQIga642",
        "colab_type": "text"
      },
      "source": [
        "<h3> Data Partitoning</h3>"
      ]
    },
    {
      "cell_type": "code",
      "metadata": {
        "id": "wANTk7lu5YnD",
        "colab_type": "code",
        "colab": {}
      },
      "source": [
        "#Partioning the dataset\n",
        "X_test = X_train[-10000:]\n",
        "y_test = y_train[-10000:]\n",
        "X_train = X_train[:X_train.shape[0]-10000]\n",
        "y_train = y_train[:y_train.shape[0]-10000]"
      ],
      "execution_count": null,
      "outputs": []
    },
    {
      "cell_type": "markdown",
      "metadata": {
        "id": "4C-u62B9bSD4",
        "colab_type": "text"
      },
      "source": [
        "<h3> Extracting 100 dataset of each class</h3>"
      ]
    },
    {
      "cell_type": "code",
      "metadata": {
        "id": "I2_K7XU25YqJ",
        "colab_type": "code",
        "colab": {}
      },
      "source": [
        "#Dividing the dataset into group of 100 of each class\n",
        "value = {}\n",
        "for i in range(10):\n",
        "    value[i] = list()\n",
        "\n",
        "for i in range(len(X_train)):\n",
        "    value[y_train[i]].append(X_train[i])\n",
        "\n",
        "train_x = list()\n",
        "train_y = list()\n",
        "\n",
        "for i in range(len(value)):\n",
        "    for j in range(100):\n",
        "        train_x.append(value[i][j])\n",
        "        train_y.append(i)\n",
        "\n",
        "train_x = np.asarray(train_x)\n",
        "train_y = np.asarray(train_y)\n",
        "train_y = np_utils.to_categorical(train_y)\n",
        "y_test= np_utils.to_categorical(y_test)"
      ],
      "execution_count": null,
      "outputs": []
    },
    {
      "cell_type": "code",
      "metadata": {
        "id": "CuODntCOaDZC",
        "colab_type": "code",
        "colab": {}
      },
      "source": [
        "learning_rate=[]\n",
        "class LearningSpeed(tf.keras.callbacks.Callback):\n",
        "    def on_epoch_end(self,epoch,logs={}):\n",
        "        optimizer = self.model.optimizer\n",
        "        Intial_rate =tf.cast(optimizer.lr, tf.float32)\n",
        "        Decay= 0.01\n",
        "        iterations= tf.cast(optimizer.iterations, tf.float32)\n",
        "        Intial_rate = (Intial_rate / (1. + Decay * iterations))\n",
        "        learning_rate.append(tf.keras.backend.eval(Intial_rate))"
      ],
      "execution_count": null,
      "outputs": []
    },
    {
      "cell_type": "markdown",
      "metadata": {
        "id": "euhYC9S8bj3z",
        "colab_type": "text"
      },
      "source": [
        "<h3>Model Define</h3>"
      ]
    },
    {
      "cell_type": "code",
      "metadata": {
        "id": "xWlXNodv5YtD",
        "colab_type": "code",
        "colab": {
          "base_uri": "https://localhost:8080/",
          "height": 309
        },
        "outputId": "4714127f-16f7-4e2a-80b6-5132789bdbad"
      },
      "source": [
        "#Model Define\n",
        "model = Sequential()\n",
        "model.add(Flatten(input_shape=(28,28)))\n",
        "model.add(Dense(30, kernel_initializer='normal', activation='sigmoid',W_regularizer=l2(5)))\n",
        "model.add(Dense(10, kernel_initializer='normal', activation='softmax'))\n",
        "model.summary()\n",
        "model.compile(loss='categorical_crossentropy', optimizer=SGD(lr=0.1), metrics=['accuracy'])\n",
        "callbacks_list=[LearningSpeed()]\n",
        "history=model.fit(train_x, train_y, validation_data=(X_test, y_test), epochs=30, batch_size=10,callbacks=callbacks_list, verbose = 0)\n",
        "\n"
      ],
      "execution_count": null,
      "outputs": [
        {
          "output_type": "stream",
          "text": [
            "/usr/local/lib/python3.6/dist-packages/ipykernel_launcher.py:3: UserWarning: Update your `Dense` call to the Keras 2 API: `Dense(30, kernel_initializer=\"normal\", activation=\"sigmoid\", kernel_regularizer=<keras.reg...)`\n",
            "  This is separate from the ipykernel package so we can avoid doing imports until\n"
          ],
          "name": "stderr"
        },
        {
          "output_type": "stream",
          "text": [
            "Model: \"sequential_1\"\n",
            "_________________________________________________________________\n",
            "Layer (type)                 Output Shape              Param #   \n",
            "=================================================================\n",
            "flatten_1 (Flatten)          (None, 784)               0         \n",
            "_________________________________________________________________\n",
            "dense_1 (Dense)              (None, 30)                23550     \n",
            "_________________________________________________________________\n",
            "dense_2 (Dense)              (None, 10)                310       \n",
            "=================================================================\n",
            "Total params: 23,860\n",
            "Trainable params: 23,860\n",
            "Non-trainable params: 0\n",
            "_________________________________________________________________\n"
          ],
          "name": "stdout"
        }
      ]
    },
    {
      "cell_type": "markdown",
      "metadata": {
        "id": "orGOIshRbspz",
        "colab_type": "text"
      },
      "source": [
        "<h3>Accuracy Calculation</h3>"
      ]
    },
    {
      "cell_type": "code",
      "metadata": {
        "id": "gj9wVvGB5lAq",
        "colab_type": "code",
        "colab": {
          "base_uri": "https://localhost:8080/",
          "height": 51
        },
        "outputId": "c8cbaf9d-fadf-4112-f01e-7a690ead7c53"
      },
      "source": [
        "#Accuracy Calculation\n",
        "test_loss,test_acc = model.evaluate(X_test,y_test)\n",
        "print(test_acc*100)"
      ],
      "execution_count": null,
      "outputs": [
        {
          "output_type": "stream",
          "text": [
            "10000/10000 [==============================] - 0s 23us/step\n",
            "9.149999916553497\n"
          ],
          "name": "stdout"
        }
      ]
    },
    {
      "cell_type": "markdown",
      "metadata": {
        "id": "dujQT5hzbyeK",
        "colab_type": "text"
      },
      "source": [
        "<h3>Plot between Training loss vs epoch</h3>"
      ]
    },
    {
      "cell_type": "code",
      "metadata": {
        "id": "gAR8WB_C5oG9",
        "colab_type": "code",
        "colab": {
          "base_uri": "https://localhost:8080/",
          "height": 279
        },
        "outputId": "0584f364-50a1-45c1-fbc0-e0eb5e289950"
      },
      "source": [
        "# #Plot between Training loss vs epoch\n",
        "%matplotlib inline\n",
        "import matplotlib.pyplot as plt\n",
        "plt.plot(history.history['loss'])\n",
        "plt.ylabel('Training loss')\n",
        "plt.xlabel('epoch')\n",
        "plt.show()\n"
      ],
      "execution_count": null,
      "outputs": [
        {
          "output_type": "display_data",
          "data": {
            "image/png": "[encoded data removed]",
            "text/plain": [
              "<Figure size 432x288 with 1 Axes>"
            ]
          },
          "metadata": {
            "tags": [],
            "needs_background": "light"
          }
        }
      ]
    },
    {
      "cell_type": "markdown",
      "metadata": {
        "id": "68kdUuE9b6Db",
        "colab_type": "text"
      },
      "source": [
        "<h3>Plot between Validation loss vs epoch</h3>"
      ]
    },
    {
      "cell_type": "code",
      "metadata": {
        "id": "-UxCGmPV5oJo",
        "colab_type": "code",
        "colab": {
          "base_uri": "https://localhost:8080/",
          "height": 279
        },
        "outputId": "a2a061e2-4181-4683-d77a-c05738f15518"
      },
      "source": [
        "# #Plot between Validation Loss vs epoch\n",
        "plt.plot(history.history['val_loss'])\n",
        "plt.ylabel('Valildation loss')\n",
        "plt.xlabel('epoch')\n",
        "plt.show()"
      ],
      "execution_count": null,
      "outputs": [
        {
          "output_type": "display_data",
          "data": {
            "image/png": "[encoded data removed]",
            "text/plain": [
              "<Figure size 432x288 with 1 Axes>"
            ]
          },
          "metadata": {
            "tags": [],
            "needs_background": "light"
          }
        }
      ]
    },
    {
      "cell_type": "markdown",
      "metadata": {
        "id": "Vd8QajGGcAxH",
        "colab_type": "text"
      },
      "source": [
        "<h3>Plot between Training loss vs Validation loss </h3>"
      ]
    },
    {
      "cell_type": "code",
      "metadata": {
        "id": "IKumYT8C5vM2",
        "colab_type": "code",
        "colab": {
          "base_uri": "https://localhost:8080/",
          "height": 295
        },
        "outputId": "6df52478-220c-46bc-e366-5e66cfc3db47"
      },
      "source": [
        "#Plot of Training loss vs Testing loss\n",
        "plt.plot(history.history['loss'])\n",
        "plt.plot(history.history['val_loss'])\n",
        "plt.ylabel('loss')\n",
        "plt.xlabel('epoch')\n",
        "plt.legend(['train', 'test'], loc='upper right')\n",
        "plt.title('criterion function on training/testing data set')\n",
        "plt.show()"
      ],
      "execution_count": null,
      "outputs": [
        {
          "output_type": "display_data",
          "data": {
            "image/png": "[encoded data removed]",
            "text/plain": [
              "<Figure size 432x288 with 1 Axes>"
            ]
          },
          "metadata": {
            "tags": [],
            "needs_background": "light"
          }
        }
      ]
    },
    {
      "cell_type": "markdown",
      "metadata": {
        "id": "nsZGAHZicSu1",
        "colab_type": "text"
      },
      "source": [
        "<h3>Plot between Learning Speed vs epoch</h3>"
      ]
    },
    {
      "cell_type": "code",
      "metadata": {
        "id": "YEOSsaObaWjI",
        "colab_type": "code",
        "colab": {
          "base_uri": "https://localhost:8080/",
          "height": 295
        },
        "outputId": "bc7ff814-e669-4703-d150-9f58276e9724"
      },
      "source": [
        "#Plot of Learning rate vs epoch\n",
        "plt.xlabel('Epoch')\n",
        "plt.ylabel('Learning Speed')\n",
        "plt.title('learning speed of the hidden layer')\n",
        "plt.plot(learning_rate)\n",
        "plt.show()"
      ],
      "execution_count": null,
      "outputs": [
        {
          "output_type": "display_data",
          "data": {
            "image/png": "[encoded data removed]",
            "text/plain": [
              "<Figure size 432x288 with 1 Axes>"
            ]
          },
          "metadata": {
            "tags": [],
            "needs_background": "light"
          }
        }
      ]
    }
  ]
}