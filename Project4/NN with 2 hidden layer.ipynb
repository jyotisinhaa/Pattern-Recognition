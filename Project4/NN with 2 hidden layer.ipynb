{
  "nbformat": 4,
  "nbformat_minor": 0,
  "metadata": {
    "colab": {
      "name": "Final2Layer_hidden_layerFinal 2.ipynb",
      "provenance": [],
      "collapsed_sections": []
    },
    "kernelspec": {
      "name": "python3",
      "display_name": "Python 3"
    }
  },
  "cells": [
    {
      "cell_type": "markdown",
      "metadata": {
        "id": "dfqX0yZlSUwz",
        "colab_type": "text"
      },
      "source": [
        "\n",
        "<h1><strong>CSE 555 - Introduction to Pattern Recognition</strong></h1>\n",
        "\n",
        "<h2><strong>Programming Assignment 4:- Multi-layer Perceptron Neural Network</strong></h2>\n",
        "<h4><strong> Jyoti Sinha</strong></h4>"
      ]
    },
    {
      "cell_type": "markdown",
      "metadata": {
        "id": "zA9s0tmoq9wh",
        "colab_type": "text"
      },
      "source": [
        "<h3> Importing Dataset</h3>"
      ]
    },
    {
      "cell_type": "code",
      "metadata": {
        "id": "X5uBJz_B1X-4",
        "colab_type": "code",
        "colab": {
          "base_uri": "https://localhost:8080/",
          "height": 153
        },
        "outputId": "4cf3eeb5-8c71-4e76-80b4-28c2fa50dca4"
      },
      "source": [
        "#Importing library\n",
        "import tensorflow as tf\n",
        "import numpy as np\n",
        "import pandas as pd\n",
        "import keras\n",
        "from keras.utils import np_utils\n",
        "from keras.preprocessing.image import ImageDataGenerator\n",
        "from sklearn import metrics\n",
        "%matplotlib inline\n",
        "from tensorflow.python.keras.layers import Dense\n",
        "from tensorflow.python.keras import Sequential\n",
        "!pip install keras==2.3.0\n",
        "from keras.optimizers import SGD\n",
        "from keras import regularizers\n",
        "from keras.regularizers import l2\n",
        "from keras.datasets import mnist\n",
        "from keras.models import Sequential\n",
        "from keras.layers import Dense\n",
        "from keras.layers import Dropout\n",
        "from keras.layers import Flatten\n",
        "from keras.layers.convolutional import Conv2D\n",
        "from keras.layers.convolutional import MaxPooling2D\n",
        "from keras.utils import np_utils\n",
        "from keras import optimizers"
      ],
      "execution_count": null,
      "outputs": [
        {
          "output_type": "stream",
          "text": [
            "Requirement already satisfied: keras==2.3.0 in /usr/local/lib/python3.6/dist-packages (2.3.0)\n",
            "Requirement already satisfied: h5py in /usr/local/lib/python3.6/dist-packages (from keras==2.3.0) (2.10.0)\n",
            "Requirement already satisfied: pyyaml in /usr/local/lib/python3.6/dist-packages (from keras==2.3.0) (3.13)\n",
            "Requirement already satisfied: keras-preprocessing>=1.0.5 in /usr/local/lib/python3.6/dist-packages (from keras==2.3.0) (1.1.0)\n",
            "Requirement already satisfied: keras-applications>=1.0.6 in /usr/local/lib/python3.6/dist-packages (from keras==2.3.0) (1.0.8)\n",
            "Requirement already satisfied: six>=1.9.0 in /usr/local/lib/python3.6/dist-packages (from keras==2.3.0) (1.12.0)\n",
            "Requirement already satisfied: numpy>=1.9.1 in /usr/local/lib/python3.6/dist-packages (from keras==2.3.0) (1.18.2)\n",
            "Requirement already satisfied: scipy>=0.14 in /usr/local/lib/python3.6/dist-packages (from keras==2.3.0) (1.4.1)\n"
          ],
          "name": "stdout"
        }
      ]
    },
    {
      "cell_type": "markdown",
      "metadata": {
        "id": "ouKPy45_1kVM",
        "colab_type": "text"
      },
      "source": [
        "<h3> Importing Dataset</h3>"
      ]
    },
    {
      "cell_type": "code",
      "metadata": {
        "id": "_xlYEiJWq4L2",
        "colab_type": "code",
        "colab": {}
      },
      "source": [
        "#Importing the Dataset\n",
        "mnist = tf.keras.datasets.mnist\n",
        "(X_train, y_train), (X_test, y_test) = mnist.load_data()\n",
        "X_train =X_train / 255.0\n",
        "X_test = X_test / 255.0"
      ],
      "execution_count": null,
      "outputs": []
    },
    {
      "cell_type": "markdown",
      "metadata": {
        "id": "pPSPIdXfq_Wk",
        "colab_type": "text"
      },
      "source": [
        "<h3>Data Partioning</h3>"
      ]
    },
    {
      "cell_type": "code",
      "metadata": {
        "id": "oFwJq8zNq4O5",
        "colab_type": "code",
        "colab": {}
      },
      "source": [
        "#Dividing the dataset\n",
        "X_test = X_train[-10000:]\n",
        "y_test = y_train[-10000:]\n",
        "X_train = X_train[:X_train.shape[0]-10000]\n",
        "y_train = y_train[:y_train.shape[0]-10000]"
      ],
      "execution_count": null,
      "outputs": []
    },
    {
      "cell_type": "markdown",
      "metadata": {
        "id": "G-6VruLXrFTN",
        "colab_type": "text"
      },
      "source": [
        "<h3> Data Preprocessing</h3>"
      ]
    },
    {
      "cell_type": "code",
      "metadata": {
        "id": "K-zheDFQq4U6",
        "colab_type": "code",
        "colab": {}
      },
      "source": [
        "#Seperating the dataset into group of 100 belongs to each class\n",
        "data = {}\n",
        "\n",
        "for i in range(10):\n",
        "    data[i] = list()\n",
        "\n",
        "for i in range(len(X_train)):\n",
        "    data[y_train[i]].append(X_train[i])\n",
        "\n",
        "train_x = list()\n",
        "train_y = list()\n",
        "\n",
        "for i in range(len(data)):\n",
        "    for j in range(100):\n",
        "        train_x.append(data[i][j])\n",
        "        train_y.append(i)\n",
        "\n",
        "train_x = np.asarray(train_x)\n",
        "train_y = np.asarray(train_y)\n",
        "train_y = np_utils.to_categorical(train_y)\n",
        "y_test= np_utils.to_categorical(y_test)"
      ],
      "execution_count": null,
      "outputs": []
    },
    {
      "cell_type": "markdown",
      "metadata": {
        "id": "8XzNHvrorNRq",
        "colab_type": "text"
      },
      "source": [
        "<h3> Model Define</h3>"
      ]
    },
    {
      "cell_type": "code",
      "metadata": {
        "id": "WsqqMIe-wP_3",
        "colab_type": "code",
        "colab": {}
      },
      "source": [
        "learning_rate=[]\n",
        "class LearningSpeed(tf.keras.callbacks.Callback):\n",
        "    def on_epoch_end(self,epoch,logs={}):\n",
        "        optimizer = self.model.optimizer\n",
        "        Intial_rate =tf.cast(optimizer.lr, tf.float32)\n",
        "        Decay= 0.01\n",
        "        iterations= tf.cast(optimizer.iterations, tf.float32)\n",
        "        Intial_rate = (Intial_rate / (1. + Decay * iterations))\n",
        "        learning_rate.append(tf.keras.backend.eval(Intial_rate))"
      ],
      "execution_count": null,
      "outputs": []
    },
    {
      "cell_type": "code",
      "metadata": {
        "id": "6Wr7BKcwrN6f",
        "colab_type": "code",
        "colab": {
          "base_uri": "https://localhost:8080/",
          "height": 289
        },
        "outputId": "0c4fe835-4252-4289-ab7e-dcc9cb775d8c"
      },
      "source": [
        "#Defining the Model\n",
        "model = Sequential()\n",
        "model.add(Flatten(input_shape=(28,28)))\n",
        "model.add(Dense(30, kernel_initializer='normal', activation='sigmoid'))\n",
        "model.add(Dense(30, kernel_initializer='normal', activation='sigmoid'))\n",
        "model.add(Dense(10, kernel_initializer='normal', activation='softmax'))\n",
        "model.summary()\n",
        "model.compile(loss='categorical_crossentropy', optimizer=SGD(lr=0.1), metrics=['accuracy'])\n",
        "callbacks_list=[LearningSpeed()]\n",
        "history=model.fit(train_x, train_y, validation_data=(X_test, y_test), epochs=30, batch_size=10,callbacks=callbacks_list, verbose = 0)\n"
      ],
      "execution_count": null,
      "outputs": [
        {
          "output_type": "stream",
          "text": [
            "Model: \"sequential_2\"\n",
            "_________________________________________________________________\n",
            "Layer (type)                 Output Shape              Param #   \n",
            "=================================================================\n",
            "flatten_2 (Flatten)          (None, 784)               0         \n",
            "_________________________________________________________________\n",
            "dense_4 (Dense)              (None, 30)                23550     \n",
            "_________________________________________________________________\n",
            "dense_5 (Dense)              (None, 30)                930       \n",
            "_________________________________________________________________\n",
            "dense_6 (Dense)              (None, 10)                310       \n",
            "=================================================================\n",
            "Total params: 24,790\n",
            "Trainable params: 24,790\n",
            "Non-trainable params: 0\n",
            "_________________________________________________________________\n"
          ],
          "name": "stdout"
        }
      ]
    },
    {
      "cell_type": "code",
      "metadata": {
        "id": "4D7MbwI8rYfG",
        "colab_type": "code",
        "colab": {
          "base_uri": "https://localhost:8080/",
          "height": 34
        },
        "outputId": "362c7a4b-1e81-44a4-ee90-5cdd2994a611"
      },
      "source": [
        " print(history.history.keys())"
      ],
      "execution_count": null,
      "outputs": [
        {
          "output_type": "stream",
          "text": [
            "dict_keys(['val_loss', 'val_accuracy', 'loss', 'accuracy'])\n"
          ],
          "name": "stdout"
        }
      ]
    },
    {
      "cell_type": "code",
      "metadata": {
        "id": "y0pw0gYd1FPu",
        "colab_type": "code",
        "colab": {
          "base_uri": "https://localhost:8080/",
          "height": 51
        },
        "outputId": "1320d0b3-a5a1-4585-eb7a-a0b1aae3ebf8"
      },
      "source": [
        "#Accuracy Calculation\n",
        "test_loss,test_acc = model.evaluate(X_test,y_test)\n",
        "print(test_acc*100)"
      ],
      "execution_count": null,
      "outputs": [
        {
          "output_type": "stream",
          "text": [
            "10000/10000 [==============================] - 0s 22us/step\n",
            "75.56999921798706\n"
          ],
          "name": "stdout"
        }
      ]
    },
    {
      "cell_type": "markdown",
      "metadata": {
        "id": "ZW9w3jnirc9G",
        "colab_type": "text"
      },
      "source": [
        "<h3>Plot between Training loss vs epoch</h3>"
      ]
    },
    {
      "cell_type": "code",
      "metadata": {
        "id": "m_vWlUa4rfib",
        "colab_type": "code",
        "colab": {
          "base_uri": "https://localhost:8080/",
          "height": 279
        },
        "outputId": "28e9988f-6275-4bc6-a3b7-972eb2bbe387"
      },
      "source": [
        "%matplotlib inline\n",
        "import matplotlib.pyplot as plt\n",
        "plt.plot(history.history['loss'])\n",
        "plt.ylabel('Training loss')\n",
        "plt.xlabel('epoch')\n",
        "plt.show()\n"
      ],
      "execution_count": null,
      "outputs": [
        {
          "output_type": "display_data",
          "data": {
            "image/png": "[encoded data removed]",
            "text/plain": [
              "<Figure size 432x288 with 1 Axes>"
            ]
          },
          "metadata": {
            "tags": [],
            "needs_background": "light"
          }
        }
      ]
    },
    {
      "cell_type": "markdown",
      "metadata": {
        "id": "V5nAIYj-roea",
        "colab_type": "text"
      },
      "source": [
        "<h3>Plot between Validation loss vs epoch</h3>"
      ]
    },
    {
      "cell_type": "code",
      "metadata": {
        "id": "l_risKxmrpF7",
        "colab_type": "code",
        "colab": {
          "base_uri": "https://localhost:8080/",
          "height": 283
        },
        "outputId": "17adcf9d-7999-44f8-f922-dd1cceab5b4e"
      },
      "source": [
        "#Plot between Validation loss vs epoch\n",
        "plt.plot(history.history['val_loss'])\n",
        "plt.ylabel('Valildation loss')\n",
        "plt.xlabel('epoch')\n",
        "plt.show()"
      ],
      "execution_count": null,
      "outputs": [
        {
          "output_type": "display_data",
          "data": {
            "image/png": "[encoded data removed]",
            "text/plain": [
              "<Figure size 432x288 with 1 Axes>"
            ]
          },
          "metadata": {
            "tags": [],
            "needs_background": "light"
          }
        }
      ]
    },
    {
      "cell_type": "markdown",
      "metadata": {
        "id": "I2rg1Hmmr5S4",
        "colab_type": "text"
      },
      "source": [
        "<h3>Plot between Training loss vs Validation Loss</h3>"
      ]
    },
    {
      "cell_type": "code",
      "metadata": {
        "id": "zr7QZexJr543",
        "colab_type": "code",
        "colab": {
          "base_uri": "https://localhost:8080/",
          "height": 295
        },
        "outputId": "ee259eff-82d0-4202-fafd-8bab29b68ce0"
      },
      "source": [
        "#Plot of Training loss vs Validation loss\n",
        "plt.plot(history.history['loss'])\n",
        "plt.plot(history.history['val_loss'])\n",
        "plt.ylabel('loss')\n",
        "plt.xlabel('epoch')\n",
        "plt.legend(['train', 'test'], loc='upper right')\n",
        "plt.title('criterion function on training/testing data set')\n",
        "plt.show()"
      ],
      "execution_count": null,
      "outputs": [
        {
          "output_type": "display_data",
          "data": {
            "image/png": "[encoded data removed]",
            "text/plain": [
              "<Figure size 432x288 with 1 Axes>"
            ]
          },
          "metadata": {
            "tags": [],
            "needs_background": "light"
          }
        }
      ]
    },
    {
      "cell_type": "code",
      "metadata": {
        "id": "LC3dJDg1wfFA",
        "colab_type": "code",
        "colab": {
          "base_uri": "https://localhost:8080/",
          "height": 295
        },
        "outputId": "6e6f8cc1-65fc-445e-d3a7-3764f4f6f684"
      },
      "source": [
        "#Plot of Learning rate\n",
        "plt.xlabel('Epoch')\n",
        "plt.ylabel('Learning Speed')\n",
        "plt.title('learning speed of the hidden layers')\n",
        "plt.plot(learning_rate)\n",
        "plt.show()"
      ],
      "execution_count": null,
      "outputs": [
        {
          "output_type": "display_data",
          "data": {
            "image/png": "[encoded data removed]",
            "text/plain": [
              "<Figure size 432x288 with 1 Axes>"
            ]
          },
          "metadata": {
            "tags": [],
            "needs_background": "light"
          }
        }
      ]
    },
    {
      "cell_type": "markdown",
      "metadata": {
        "id": "iAOYrOYGDMHd",
        "colab_type": "text"
      },
      "source": [
        "<h3> Calculation of Training and Testing Error</h3>"
      ]
    },
    {
      "cell_type": "code",
      "metadata": {
        "id": "pPoRjiCKBFJF",
        "colab_type": "code",
        "colab": {}
      },
      "source": [
        "Training_error=(history.history['accuracy'])\n",
        "Validation_error=(history.history['val_accuracy'])\n",
        "for i in range(len(Training_error)):\n",
        "  Training_error[i]= 1- Training_error[i]\n",
        "for i in range(len(Validation_error)):\n",
        "  Validation_error[i]= 1- Validation_error[i]\n"
      ],
      "execution_count": null,
      "outputs": []
    },
    {
      "cell_type": "markdown",
      "metadata": {
        "id": "t2dhDjkkDSzD",
        "colab_type": "text"
      },
      "source": [
        "<h3>Plot of Training error</h3>"
      ]
    },
    {
      "cell_type": "code",
      "metadata": {
        "id": "1AELaJU2BFZz",
        "colab_type": "code",
        "colab": {
          "base_uri": "https://localhost:8080/",
          "height": 279
        },
        "outputId": "7df27694-8436-430b-9a4d-3ef34f4d9263"
      },
      "source": [
        "%matplotlib inline\n",
        "import matplotlib.pyplot as plt\n",
        "plt.plot(Training_error)\n",
        "plt.ylabel('Training Error')\n",
        "plt.xlabel('epoch')\n",
        "plt.show()"
      ],
      "execution_count": null,
      "outputs": [
        {
          "output_type": "display_data",
          "data": {
            "image/png": "[encoded data removed]",
            "text/plain": [
              "<Figure size 432x288 with 1 Axes>"
            ]
          },
          "metadata": {
            "tags": [],
            "needs_background": "light"
          }
        }
      ]
    },
    {
      "cell_type": "markdown",
      "metadata": {
        "id": "4dNEPDA7DcEc",
        "colab_type": "text"
      },
      "source": [
        "<h3>Plot of Testing error</h3>"
      ]
    },
    {
      "cell_type": "code",
      "metadata": {
        "id": "xeNU4R-iBF2v",
        "colab_type": "code",
        "colab": {
          "base_uri": "https://localhost:8080/",
          "height": 279
        },
        "outputId": "18bc2d84-c2c2-4343-c981-b744059ad6b5"
      },
      "source": [
        "%matplotlib inline\n",
        "import matplotlib.pyplot as plt\n",
        "plt.plot(Validation_error)\n",
        "plt.ylabel('Testing Error')\n",
        "plt.xlabel('epoch')\n",
        "plt.show()"
      ],
      "execution_count": null,
      "outputs": [
        {
          "output_type": "display_data",
          "data": {
            "image/png": "[encoded data removed]",
            "text/plain": [
              "<Figure size 432x288 with 1 Axes>"
            ]
          },
          "metadata": {
            "tags": [],
            "needs_background": "light"
          }
        }
      ]
    }
  ]
}